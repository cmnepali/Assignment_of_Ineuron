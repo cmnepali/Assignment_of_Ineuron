{
 "cells": [
  {
   "cell_type": "markdown",
   "id": "24a29ff5",
   "metadata": {},
   "source": [
    "Q1. What is the purpose of the try statement?"
   ]
  },
  {
   "cell_type": "markdown",
   "id": "85e3f98b",
   "metadata": {},
   "source": [
    "Ans:\n",
    "    try statement is used for exception handling in python. it consists of a block of risky statements which might cause an exception during runtime. if code within try block raises exception, then the exception will be reverted to the corresponding except block if multiple except blocks are present, else it willbe reverted to the default except block. In short try and except in union avoid programs from crashing during runtime due to exceptions."
   ]
  },
  {
   "cell_type": "markdown",
   "id": "2f9a6cd4",
   "metadata": {},
   "source": [
    "Q2. What are the two most popular try statement variations?"
   ]
  },
  {
   "cell_type": "markdown",
   "id": "e57ed0ef",
   "metadata": {},
   "source": [
    "Ans:\n",
    "     The Popular try statement variations are:\n",
    "\n",
    "* try,except\n",
    "* try,except,finally\n",
    "* try,except,finally,else"
   ]
  },
  {
   "cell_type": "markdown",
   "id": "c88c96bb",
   "metadata": {},
   "source": [
    "Q3. What is the purpose of the raise statement?"
   ]
  },
  {
   "cell_type": "markdown",
   "id": "fa35b08e",
   "metadata": {},
   "source": [
    "Ans:\n",
    "    Purpose of raise statement is to raise exceptition/Error and stop the code flow from further executition."
   ]
  },
  {
   "cell_type": "markdown",
   "id": "eb5a90eb",
   "metadata": {},
   "source": [
    "Q4. What does the assert statement do, and what other statement is it like?"
   ]
  },
  {
   "cell_type": "markdown",
   "id": "e8ad1a04",
   "metadata": {},
   "source": [
    "Ans:\n",
    "It's keyword using while debugging of code and let us know either the conditition of code is True or not , if not it will raise AssertitionError ."
   ]
  },
  {
   "cell_type": "markdown",
   "id": "06f0411a",
   "metadata": {},
   "source": [
    "Q5. What is the purpose of the with/as argument, and what other statement is it like?"
   ]
  },
  {
   "cell_type": "markdown",
   "id": "342e4ca5",
   "metadata": {},
   "source": [
    "Ans:\n",
    "    With/as statement help us avoid bugs and leaks from code by ensuring resource is properly released once the code is exhausted."
   ]
  }
 ],
 "metadata": {
  "kernelspec": {
   "display_name": "Python 3 (ipykernel)",
   "language": "python",
   "name": "python3"
  },
  "language_info": {
   "codemirror_mode": {
    "name": "ipython",
    "version": 3
   },
   "file_extension": ".py",
   "mimetype": "text/x-python",
   "name": "python",
   "nbconvert_exporter": "python",
   "pygments_lexer": "ipython3",
   "version": "3.10.0"
  }
 },
 "nbformat": 4,
 "nbformat_minor": 5
}
