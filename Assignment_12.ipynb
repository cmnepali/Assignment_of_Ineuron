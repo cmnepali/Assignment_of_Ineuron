{
 "cells": [
  {
   "cell_type": "markdown",
   "id": "a6887ac2",
   "metadata": {},
   "source": [
    "Q1. Does assigning a value to a string&#39;s indexed character violate Python&#39;s string immutability?"
   ]
  },
  {
   "cell_type": "markdown",
   "id": "ff532c5a",
   "metadata": {},
   "source": [
    "Ans:\n",
    "    Yes assigning a value to a string's character violate Python's string immutability bcz once string is created it's immutable and when we try to assign values to specific characters in string we attempt to change existing string which is't allowed."
   ]
  },
  {
   "cell_type": "markdown",
   "id": "4916a917",
   "metadata": {},
   "source": [
    "Q2. Does using the += operator to concatenate strings violate Python&#39;s string immutability? Why or\n",
    "why not?"
   ]
  },
  {
   "cell_type": "markdown",
   "id": "b963a41e",
   "metadata": {},
   "source": [
    "Ans:\n",
    "    Use of += operator to concatenate strings doesn't violate string immutability. String is immutable one created and when we use += operator rather it add up the values to create new string rather that interchanging values."
   ]
  },
  {
   "cell_type": "markdown",
   "id": "bef1498f",
   "metadata": {},
   "source": [
    "Q3. In Python, how many different ways are there to index a character?"
   ]
  },
  {
   "cell_type": "markdown",
   "id": "d2eaa792",
   "metadata": {},
   "source": [
    "Ans:\n",
    "    In python there is only one way to index a character using square bracket []."
   ]
  },
  {
   "cell_type": "markdown",
   "id": "d414c7d4",
   "metadata": {},
   "source": [
    "Q4. What is the relationship between indexing and slicing?"
   ]
  },
  {
   "cell_type": "markdown",
   "id": "76f9b825",
   "metadata": {},
   "source": [
    "Ans:\n",
    "    Indexing and slicing both are way to access element of string or list. Indexing is used to position specified position element by defing the numeric position vs slicing is used to access specific portion of sequence by provoding range."
   ]
  },
  {
   "cell_type": "markdown",
   "id": "bd2b698d",
   "metadata": {},
   "source": [
    "Q5. What is an indexed character&#39;s exact data type? What is the data form of a slicing-generated\n",
    "substring?"
   ]
  },
  {
   "cell_type": "markdown",
   "id": "3e59da72",
   "metadata": {},
   "source": [
    "Ans:\n",
    "    Indexed and slicing generated character exact data type is same as it's parent data type from where it's extracted"
   ]
  },
  {
   "cell_type": "code",
   "execution_count": 4,
   "id": "66f9649a",
   "metadata": {},
   "outputs": [
    {
     "name": "stdout",
     "output_type": "stream",
     "text": [
      "<class 'str'> <class 'str'> <class 'str'>\n"
     ]
    }
   ],
   "source": [
    "# Example\n",
    "x = 'CM'\n",
    "print(f'{type(x)} {type(x[1])} {type(x[0:1])}')"
   ]
  },
  {
   "cell_type": "markdown",
   "id": "87a358a5",
   "metadata": {},
   "source": [
    "Q6. What is the relationship between string and character &quot;types&quot; in Python?"
   ]
  },
  {
   "cell_type": "markdown",
   "id": "a9310482",
   "metadata": {},
   "source": [
    "Ans:\n",
    "    In python string is sequence of characters with each characters of length(1) string combining together to from whole and data type of both is same 'str'"
   ]
  },
  {
   "cell_type": "markdown",
   "id": "b15c2b95",
   "metadata": {},
   "source": [
    "Q7. Identify at least two operators and one method that allow you to combine one or more smaller\n",
    "strings to create a larger string."
   ]
  },
  {
   "cell_type": "markdown",
   "id": "912a7e01",
   "metadata": {},
   "source": [
    "Ans:\n",
    "    Two operator which allow to combine one or more smaller strings to create larger strings is + and +=. One method to combine small strings is join() ."
   ]
  },
  {
   "cell_type": "markdown",
   "id": "9509a61a",
   "metadata": {},
   "source": [
    "Q8. What is the benefit of first checking the target string with in or not in before using the index\n",
    "method to find a substring?"
   ]
  },
  {
   "cell_type": "markdown",
   "id": "c80b9b82",
   "metadata": {},
   "source": [
    "Ans:\n",
    "    By using in or not in to find substring we can check for our desired string sequence either present in the complete string."
   ]
  },
  {
   "cell_type": "markdown",
   "id": "ab6bad02",
   "metadata": {},
   "source": [
    "Q9. Which operators and built-in string methods produce simple Boolean (true/false) results?"
   ]
  },
  {
   "cell_type": "markdown",
   "id": "98de3863",
   "metadata": {},
   "source": [
    "Ans:\n",
    "   Operators that produce simple Boolean (True/False): in , not in , + , == , >= , <= , < , >\n",
    "\n",
    "String methods that produce Boolean (True/False): isalpha() , isnum() ,isnumeric(), islower() , isupper() "
   ]
  }
 ],
 "metadata": {
  "kernelspec": {
   "display_name": "Python 3 (ipykernel)",
   "language": "python",
   "name": "python3"
  },
  "language_info": {
   "codemirror_mode": {
    "name": "ipython",
    "version": 3
   },
   "file_extension": ".py",
   "mimetype": "text/x-python",
   "name": "python",
   "nbconvert_exporter": "python",
   "pygments_lexer": "ipython3",
   "version": "3.10.0"
  }
 },
 "nbformat": 4,
 "nbformat_minor": 5
}
