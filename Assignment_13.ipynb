{
 "cells": [
  {
   "cell_type": "markdown",
   "id": "702d25ce",
   "metadata": {},
   "source": [
    "Q1. Can you create a programme or function that employs both positive and negative indexing? Is\n",
    "there any repercussion if you do so?"
   ]
  },
  {
   "cell_type": "markdown",
   "id": "38cd2fa1",
   "metadata": {},
   "source": [
    "Ans:\n",
    "    Yes it's possible to create function/programme that employs both positive and negative indexing:"
   ]
  },
  {
   "cell_type": "code",
   "execution_count": 8,
   "id": "0aa07393",
   "metadata": {},
   "outputs": [
    {
     "name": "stdout",
     "output_type": "stream",
     "text": [
      "apple\n",
      "date\n"
     ]
    }
   ],
   "source": [
    "my_list = ['apple', 'banana', 'cherry', 'date']\n",
    "print(my_list[0]) # output: 'apple'\n",
    "print(my_list[-1]) # output: 'date'\n"
   ]
  },
  {
   "cell_type": "markdown",
   "id": "3cba5a0e",
   "metadata": {},
   "source": [
    "Q2. What is the most effective way of starting with 1,000 elements in a Python list? Assume that all\n",
    "elements should be set to the same value."
   ]
  },
  {
   "cell_type": "code",
   "execution_count": 9,
   "id": "46281c79",
   "metadata": {},
   "outputs": [
    {
     "ename": "SyntaxError",
     "evalue": "invalid syntax (Temp/ipykernel_23940/2128527241.py, line 1)",
     "output_type": "error",
     "traceback": [
      "\u001b[1;36m  File \u001b[1;32m\"C:\\Users\\cmnep\\AppData\\Local\\Temp/ipykernel_23940/2128527241.py\"\u001b[1;36m, line \u001b[1;32m1\u001b[0m\n\u001b[1;33m    Ans:\u001b[0m\n\u001b[1;37m        ^\u001b[0m\n\u001b[1;31mSyntaxError\u001b[0m\u001b[1;31m:\u001b[0m invalid syntax\n"
     ]
    }
   ],
   "source": [
    "Ans:\n",
    "    Most effective way of starting with 1000 element all being same in python is by using list() and multiplying same with 1000."
   ]
  },
  {
   "cell_type": "code",
   "execution_count": 10,
   "id": "b3cb15e2",
   "metadata": {},
   "outputs": [],
   "source": [
    "lists=['Ram']\n",
    "lists_update=lists*1000"
   ]
  },
  {
   "cell_type": "markdown",
   "id": "97ec7f1a",
   "metadata": {},
   "source": [
    "Q3. How do you slice a list to get any other part while missing the rest? (For example, suppose you\n",
    "want to make a new list with the elements first, third, fifth, seventh, and so on.)"
   ]
  },
  {
   "cell_type": "code",
   "execution_count": 11,
   "id": "5a9b0b25",
   "metadata": {},
   "outputs": [
    {
     "data": {
      "text/plain": [
       "[1, 3, 5, 7]"
      ]
     },
     "execution_count": 11,
     "metadata": {},
     "output_type": "execute_result"
    }
   ],
   "source": [
    "L = [1,2,3,4,5,6,7,8,9,10,11] \n",
    "new_l = L[:7:2]\n",
    "new_l"
   ]
  },
  {
   "cell_type": "markdown",
   "id": "e311f1f9",
   "metadata": {},
   "source": [
    "Q4. Explain the distinctions between indexing and slicing."
   ]
  },
  {
   "cell_type": "markdown",
   "id": "b155935a",
   "metadata": {},
   "source": [
    "Ans:\n",
    "    Indexing is used to point out specific element out of the list vs slicing is used to get specific range of element."
   ]
  },
  {
   "cell_type": "markdown",
   "id": "40aece79",
   "metadata": {},
   "source": [
    "Q5. What happens if one of the slicing expression&#39;s indexes is out of range?"
   ]
  },
  {
   "cell_type": "code",
   "execution_count": 12,
   "id": "722970cc",
   "metadata": {},
   "outputs": [
    {
     "ename": "SyntaxError",
     "evalue": "invalid syntax (Temp/ipykernel_23940/4260169056.py, line 1)",
     "output_type": "error",
     "traceback": [
      "\u001b[1;36m  File \u001b[1;32m\"C:\\Users\\cmnep\\AppData\\Local\\Temp/ipykernel_23940/4260169056.py\"\u001b[1;36m, line \u001b[1;32m1\u001b[0m\n\u001b[1;33m    Ans:\u001b[0m\n\u001b[1;37m        ^\u001b[0m\n\u001b[1;31mSyntaxError\u001b[0m\u001b[1;31m:\u001b[0m invalid syntax\n"
     ]
    }
   ],
   "source": [
    "Ans:\n",
    "    When slicing expression is out of range it will provide only values which is within range"
   ]
  },
  {
   "cell_type": "code",
   "execution_count": 13,
   "id": "3e4a98e0",
   "metadata": {},
   "outputs": [
    {
     "data": {
      "text/plain": [
       "[2, 3, 4, 5, 6, 7, 8, 9, 10, 11]"
      ]
     },
     "execution_count": 13,
     "metadata": {},
     "output_type": "execute_result"
    }
   ],
   "source": [
    "L = [1,2,3,4,5,6,7,8,9,10,11] \n",
    "L[1:40]"
   ]
  },
  {
   "cell_type": "markdown",
   "id": "bb5e7b91",
   "metadata": {},
   "source": [
    "Q6. If you pass a list to a function, and if you want the function to be able to change the values of the\n",
    "list—so that the list is different after the function returns—what action should you avoid?"
   ]
  },
  {
   "cell_type": "markdown",
   "id": "9d7d1c84",
   "metadata": {},
   "source": [
    "Ans:\n",
    "    If we want a function to be able to change the values of a list that is passed to it, we need to avoid reassigning the list to a new object inside the function."
   ]
  },
  {
   "cell_type": "code",
   "execution_count": 14,
   "id": "035947cb",
   "metadata": {},
   "outputs": [
    {
     "name": "stdout",
     "output_type": "stream",
     "text": [
      "original list :[2, 4, 5, 10, 11] ,New list :[2, 4, 20, 8]\n"
     ]
    }
   ],
   "source": [
    "def fun(L):\n",
    "    L =[2,4,3,8]\n",
    "    L[2] = 20\n",
    "    return L\n",
    "\n",
    "L1 = [2,4,5,10,11]\n",
    "\n",
    "new_list = fun(L1)\n",
    "print(f'original list :{L1} ,New list :{new_list}')"
   ]
  },
  {
   "cell_type": "markdown",
   "id": "bc4369d8",
   "metadata": {},
   "source": [
    "Q7. What is the concept of an unbalanced matrix?"
   ]
  },
  {
   "cell_type": "markdown",
   "id": "16c2b099",
   "metadata": {},
   "source": [
    "Ans:\n",
    "    A matrix is balanced if all cells in the matrix are balanced and a cell of the matrix is balanced if the number of cells in that matrix that are adjacent to that cell is strictly greater than the value written in this cell. \n",
    "Adjacent cell means cells in the top, down, left, and right cell of each cell if it exists. "
   ]
  },
  {
   "cell_type": "markdown",
   "id": "12b29997",
   "metadata": {},
   "source": [
    "Q8. Why is it necessary to use either list comprehension or a loop to create arbitrarily large matrices?"
   ]
  },
  {
   "cell_type": "markdown",
   "id": "2785ec35",
   "metadata": {},
   "source": [
    "Ans:\n",
    "    This is because of the massive memory requirements."
   ]
  }
 ],
 "metadata": {
  "kernelspec": {
   "display_name": "Python 3 (ipykernel)",
   "language": "python",
   "name": "python3"
  },
  "language_info": {
   "codemirror_mode": {
    "name": "ipython",
    "version": 3
   },
   "file_extension": ".py",
   "mimetype": "text/x-python",
   "name": "python",
   "nbconvert_exporter": "python",
   "pygments_lexer": "ipython3",
   "version": "3.10.0"
  }
 },
 "nbformat": 4,
 "nbformat_minor": 5
}
