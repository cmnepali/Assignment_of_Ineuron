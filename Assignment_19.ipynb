{
 "cells": [
  {
   "cell_type": "markdown",
   "id": "cc9a73e4",
   "metadata": {},
   "source": [
    "Q1. Define the relationship between a class and its instances. Is it a one-to-one or a one-to-many\n",
    "partnership, for example?"
   ]
  },
  {
   "cell_type": "markdown",
   "id": "f0409c72",
   "metadata": {},
   "source": [
    "Ans:\n",
    "    A class is user-defined data structure classes define a function called methods which can be use to get some information based on the function is create. A class can be describe a blueprint for some structure that the programmer is defined, it would take data from user and are able to return some value through methods as it created.\n",
    "\n",
    "And the other side an instance is user object of that class, where the user will put their information in to the class and will get information based on there data. As many user will use the class an instance will be that many."
   ]
  },
  {
   "cell_type": "markdown",
   "id": "a6d18c81",
   "metadata": {},
   "source": [
    "Q2. What kind of data is held only in an instance?"
   ]
  },
  {
   "cell_type": "markdown",
   "id": "e052a47e",
   "metadata": {},
   "source": [
    "Ans:\n",
    "    Instance objects contains the Instance variables which are specific to that specific Instance object"
   ]
  },
  {
   "cell_type": "markdown",
   "id": "750535d3",
   "metadata": {},
   "source": [
    "Q3. What kind of knowledge is stored in a class?"
   ]
  },
  {
   "cell_type": "markdown",
   "id": "433fe5f4",
   "metadata": {},
   "source": [
    "Ans:\n",
    "    Class creates a user-defined data structure, which holds its own data members and member functions, which can be accessed and used by creating an instance of that class. A class is like a blueprint for an object."
   ]
  },
  {
   "cell_type": "markdown",
   "id": "47ea7cd2",
   "metadata": {},
   "source": [
    "Q4. What exactly is a method, and how is it different from a regular function?"
   ]
  },
  {
   "cell_type": "markdown",
   "id": "8c8f5556",
   "metadata": {},
   "source": [
    "Ans:\n",
    "     A regular function is not dependent on any other object but a class method Is dependent on the class instance or class object. For using that class method we need class instance and we need to put class instance and dot followed by the function or method name. but in regular function does not need any of these we can simply call it by regular way."
   ]
  },
  {
   "cell_type": "markdown",
   "id": "d6eece69",
   "metadata": {},
   "source": [
    "Q5. Is inheritance supported in Python, and if so, what is the syntax?"
   ]
  },
  {
   "cell_type": "markdown",
   "id": "ef427021",
   "metadata": {},
   "source": [
    "Ans:\n",
    "    Yes inheritance is support in python and it is denoted inside of parenthesis followed by child class in the time of defining of child class.\n",
    "\n",
    "here is an example of syntax of inheritance of parent class inside of child class"
   ]
  },
  {
   "cell_type": "code",
   "execution_count": null,
   "id": "f61393c6",
   "metadata": {},
   "outputs": [],
   "source": [
    "class Parent(): # parent class\n",
    "    pass\n",
    "\n",
    "class Child(Parent): # child class inheritance with parent class\n",
    "    pass"
   ]
  },
  {
   "cell_type": "markdown",
   "id": "9f279b48",
   "metadata": {},
   "source": [
    "Q6. How much encapsulation (making instance or class variables private) does Python support?"
   ]
  },
  {
   "cell_type": "markdown",
   "id": "4303a0d9",
   "metadata": {},
   "source": [
    "Ans:\n",
    "    Encapsulation describes the idea of wrapping data and the methods that work on data within one unit. This puts restrictions on accessing variables and methods directly and can prevent the accidental modification of data. To prevent accidental change, an objects variable can only be changed by an objects method.   "
   ]
  },
  {
   "cell_type": "markdown",
   "id": "dd53e282",
   "metadata": {},
   "source": [
    "Q7. How do you distinguish between a class variable and an instance variable?"
   ]
  },
  {
   "cell_type": "markdown",
   "id": "04616f76",
   "metadata": {},
   "source": [
    "Ans:\n",
    "     Python supports encapsulation. It combine all the behaviour, properties and attributes of a class inside a single class object. So that we do not have to perform separate separate operation through different means. We just need a single object to perfomr all those task. It also hide the implementation of the task. Means we do ot required to focus on the backend task. We just need to foucs on the output, result when any operation si performed.\n",
    "\n",
    "If we talk about making instance or class variables private, then yes. It makes them both of them private so that there is not chances of changing or modifying the code or some values. So we just make those attributes and methods private which have a severe impact on the codes, so that any other person can figure it it out by just looking into it."
   ]
  },
  {
   "cell_type": "markdown",
   "id": "d071558e",
   "metadata": {},
   "source": [
    "Q8. When, if ever, can self be included in a class&#39;s method definitions?\n",
    "\n",
    "Ans:\n",
    "    Yes, self can included in class method definations to access the instance variables inside class methods."
   ]
  },
  {
   "cell_type": "markdown",
   "id": "69af6f44",
   "metadata": {},
   "source": [
    "Q9. What is the difference between the _ _add_ _ and the _ _radd_ _ methods?"
   ]
  },
  {
   "cell_type": "markdown",
   "id": "d34e8cb4",
   "metadata": {},
   "source": [
    "Ans:\n",
    "    add is simply an built method which add the two items when it is pased, whose class is having this method. Like integer and string class have this method and in case of integer this method will add up the two values and in case of string class this will concatenate the two items.\n",
    "\n",
    "radd This is inside the integer class but not in string class. This also add up the two number. But the the difference is, radd is only called if the left object does not have an add method, or that method does not know how to add the two objects. If both the classes have add method then this will not called."
   ]
  },
  {
   "cell_type": "markdown",
   "id": "c591b78b",
   "metadata": {},
   "source": [
    "Q10. When is it necessary to use a reflection method? When do you not need it, even though you\n",
    "support the operation in question?"
   ]
  },
  {
   "cell_type": "markdown",
   "id": "8d8c5385",
   "metadata": {},
   "source": [
    "Ans:\n",
    "     Reflection is a facility where you can query an object about its attributes at runtime. Meaning, we can modify the object variable, create new class atrributes during the run without initialising inside the constructor. It is then display by invoking it as an instance variable. This is an reflection facility. This is needed when we have sudden requirement of any new attributes that has to work with the class"
   ]
  },
  {
   "cell_type": "markdown",
   "id": "38d7fbbd",
   "metadata": {},
   "source": [
    "Q11. What is the _ _iadd_ _ method called?"
   ]
  },
  {
   "cell_type": "markdown",
   "id": "9d2c82cf",
   "metadata": {},
   "source": [
    "Ans:\n",
    "     It is an inplace add method which is an built in method. Like that of add , it also adds the two value but unlike _ add _ , it stores that value which was calculated.\n",
    "\n",
    "iadd is actually storing value its adding into the instance variable and return the new value.    "
   ]
  },
  {
   "cell_type": "markdown",
   "id": "e1bea2de",
   "metadata": {},
   "source": [
    "Q12. Is the _ _init_ _ method inherited by subclasses? What do you do if you need to customize its\n",
    "behavior within a subclass?"
   ]
  },
  {
   "cell_type": "markdown",
   "id": "e2e9f7e8",
   "metadata": {},
   "source": [
    "Ans:\n",
    "     init method is basically used for constructing the object variables meaning, initialisation of object variables happen, where the class attributes gets the values from the class instance where the values are stored. So when we want to inherit the attributes/variables of the class then we need to inherit the init method also. This implies that whatever the variables were initialise in the parent class, those will also get initialise in the subclass. We uses super() method in order to call the parent class."
   ]
  }
 ],
 "metadata": {
  "kernelspec": {
   "display_name": "Python 3 (ipykernel)",
   "language": "python",
   "name": "python3"
  },
  "language_info": {
   "codemirror_mode": {
    "name": "ipython",
    "version": 3
   },
   "file_extension": ".py",
   "mimetype": "text/x-python",
   "name": "python",
   "nbconvert_exporter": "python",
   "pygments_lexer": "ipython3",
   "version": "3.10.0"
  }
 },
 "nbformat": 4,
 "nbformat_minor": 5
}
