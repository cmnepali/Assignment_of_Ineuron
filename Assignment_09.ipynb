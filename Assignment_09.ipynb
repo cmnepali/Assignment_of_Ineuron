{
 "cells": [
  {
   "cell_type": "markdown",
   "id": "423000f7",
   "metadata": {},
   "source": [
    "Q1. In Python 3.X, what are the names and functions of string object types?"
   ]
  },
  {
   "cell_type": "markdown",
   "id": "c6aefab3",
   "metadata": {},
   "source": [
    "Ans:\n",
    "* Join() = join string together\n",
    "* lower() = convert string to lower case\n",
    "* upper() = convert string to upper case\n",
    "* lstrip() = return left strip version of string"
   ]
  },
  {
   "cell_type": "markdown",
   "id": "df13c1ad",
   "metadata": {},
   "source": [
    "Q2. How do the string forms in Python 3.X vary in terms of operations?"
   ]
  },
  {
   "cell_type": "markdown",
   "id": "4ab0363c",
   "metadata": {},
   "source": [
    "Ans:\n",
    "    In Python3 default format of strings is Unicode Whereas in Pyton2 we need to explicitly mention Unicode value using u."
   ]
  },
  {
   "cell_type": "markdown",
   "id": "11fc93ad",
   "metadata": {},
   "source": [
    "Q3. In 3.X, how do you put non-ASCII Unicode characters in a string?"
   ]
  },
  {
   "cell_type": "markdown",
   "id": "0e9283aa",
   "metadata": {},
   "source": [
    "Ans:\n",
    "    In Python 3.x unidecode() method from unidecode library can be used to put non-ASCII Unicode Characters in a string."
   ]
  },
  {
   "cell_type": "markdown",
   "id": "dfcefc48",
   "metadata": {},
   "source": [
    "Q4. In Python 3.X, what are the key differences between text-mode and binary-mode files?"
   ]
  },
  {
   "cell_type": "markdown",
   "id": "f3341c4d",
   "metadata": {},
   "source": [
    "Ans:\n",
    "    Following are main difference b/w text mode and binary mode files:\n",
    "* Encoding : Text mode file are assumed to be encoded in specific format , usually utf-8 vs binary mode files are available in binary and written and read in binary form.\n",
    "* Line ending : Text mode file automatically handel line ending vs binary mode file don't automatically handle it. \n",
    "* when we read or write in text mode data is returned in string form while in case of binary mode it's is in bytes."
   ]
  },
  {
   "cell_type": "markdown",
   "id": "e656afc6",
   "metadata": {},
   "source": [
    "Q5. How can you interpret a Unicode text file containing text encoded in a different encoding than\n",
    "your platform&#39;s default?"
   ]
  },
  {
   "cell_type": "markdown",
   "id": "abd44963",
   "metadata": {},
   "source": [
    "Ans:\n",
    "    Use of encode() and decode() method can be used to you interpret a Unicode text file containing text encoded in a different encoding than your platform's default, by default encoding parameter is UTF-8"
   ]
  },
  {
   "cell_type": "markdown",
   "id": "eabfffa4",
   "metadata": {},
   "source": [
    "Q6. What is the best way to make a Unicode text file in a particular encoding format?"
   ]
  },
  {
   "cell_type": "markdown",
   "id": "6e6458fe",
   "metadata": {},
   "source": [
    "Ans:\n",
    "    Use str.encode() and file.write() to make a Unicode text file in a particular encoding format, default encoding format is UTF-18."
   ]
  },
  {
   "cell_type": "markdown",
   "id": "cc4a48b7",
   "metadata": {},
   "source": [
    "Q7. What qualifies ASCII text as a form of Unicode text?"
   ]
  },
  {
   "cell_type": "markdown",
   "id": "7753d7c5",
   "metadata": {},
   "source": [
    "Ans:\n",
    "    ASCII is a character encoding standard that assign unique numerical value to set of 128 characters. all ASCII text are having unique code points in the unicode standard , thus all ASCII text qualifies for unicode text."
   ]
  },
  {
   "cell_type": "markdown",
   "id": "e5dcf7da",
   "metadata": {},
   "source": [
    "Q8. How much of an effect does the change in string types in Python 3.X have on your code?"
   ]
  },
  {
   "cell_type": "markdown",
   "id": "fb5923d7",
   "metadata": {},
   "source": [
    "Ans:\n",
    "    Python 3 stores strings as Unicode by default whereas Python 2 requires you to mark a string with a u if you want to store it as Unicode. Unicode strings are more versatile than ASCII strings, which are the Python 3.X default, as they can store letters from foreign languages as well as emoji and the standard Roman letters and numerals."
   ]
  }
 ],
 "metadata": {
  "kernelspec": {
   "display_name": "Python 3 (ipykernel)",
   "language": "python",
   "name": "python3"
  },
  "language_info": {
   "codemirror_mode": {
    "name": "ipython",
    "version": 3
   },
   "file_extension": ".py",
   "mimetype": "text/x-python",
   "name": "python",
   "nbconvert_exporter": "python",
   "pygments_lexer": "ipython3",
   "version": "3.10.0"
  }
 },
 "nbformat": 4,
 "nbformat_minor": 5
}
