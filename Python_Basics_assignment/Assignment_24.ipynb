{
 "cells": [
  {
   "cell_type": "markdown",
   "id": "f45bcc75",
   "metadata": {},
   "source": [
    "1. What is the relationship between def statements and lambda expressions ?"
   ]
  },
  {
   "cell_type": "markdown",
   "id": "0b99d510",
   "metadata": {},
   "source": [
    "Ans:\n",
    " def statements are used to make the normal functions whereas lambda expression is used to make the Anonymus function. which can be assigned to a variable and can be called using the variable later in function.\n",
    "Lambda is a single line functions and not the blocks of the statements. The lambda expression's body is similar to what we'd put in a def body's return statement. We simply type the result as an expression instead of explicitly returning it. Because it is limited to an expression, a lambda is less general than a def statement."
   ]
  },
  {
   "cell_type": "markdown",
   "id": "aad81535",
   "metadata": {},
   "source": [
    "2. What is the benefit of lambda?"
   ]
  },
  {
   "cell_type": "markdown",
   "id": "04768cd1",
   "metadata": {},
   "source": [
    "Ans:\n",
    "    The lambda keyword in Python provides a shortcut for declaring small anonymous functions.Lambda enables you to use functions with pre-trained machine learning models to inject artificial intelligence into applications easily. A single application programming interface (API) request can classify images, analyze videos, convert speech to text, perform natural language processing, and more."
   ]
  },
  {
   "cell_type": "markdown",
   "id": "cb3219b3",
   "metadata": {},
   "source": [
    "3. Compare and contrast map, filter, and reduce."
   ]
  },
  {
   "cell_type": "markdown",
   "id": "90f4662f",
   "metadata": {},
   "source": [
    "Ans:\n",
    "map(): The map() function is a type of higher-order. This function takes another function as a parameter along with a sequence of iterables and returns an output after applying the function to each iterable present in the sequence.\n",
    "\n",
    "filter(): The filter() function is used to create an output list consisting of values for which the function returns true.\n",
    "\n",
    "reduce(): The reduce() function, as the name describes, applies a given function to the iterables and returns a single value\n",
    "    "
   ]
  },
  {
   "cell_type": "markdown",
   "id": "419fa9b1",
   "metadata": {},
   "source": [
    "4. What are function annotations, and how are they used?"
   ]
  },
  {
   "cell_type": "markdown",
   "id": "cc4f46c3",
   "metadata": {},
   "source": [
    "Ans:\n",
    "    \n",
    "Function annotations are arbitrary python expressions that are associated with various part of functions. These expressions are evaluated at compile time and have no life in python's runtime environment. Python does not attach any meaning to these annotations."
   ]
  },
  {
   "cell_type": "markdown",
   "id": "04317e22",
   "metadata": {},
   "source": [
    "5. What are recursive functions, and how are they used?"
   ]
  },
  {
   "cell_type": "markdown",
   "id": "feaaa42b",
   "metadata": {},
   "source": [
    "Ans:\n",
    "     recursive function is a function that calls itself during its execution. The process may repeat several times, outputting the result and the end of each iteration."
   ]
  },
  {
   "cell_type": "markdown",
   "id": "73ff707f",
   "metadata": {},
   "source": [
    "6. What are some general design guidelines for coding functions?"
   ]
  },
  {
   "cell_type": "markdown",
   "id": "2536a49b",
   "metadata": {},
   "source": [
    "Ans:\n",
    "   -- Use 4 spaces instead of tabs.\n",
    "    \n",
    "--Maximum line length is 120 symbols.\n",
    "\n",
    "--2 blank lines between classes and functions.\n",
    "\n",
    "--1 blank line within class between class methods.\n",
    "\n",
    "--No blank line following a def line.\n",
    "\n",
    "--No whitespace inside parentheses, brackets, or braces."
   ]
  },
  {
   "cell_type": "markdown",
   "id": "69ec06b5",
   "metadata": {},
   "source": [
    "7. Name three or more ways that functions can communicate results to a caller."
   ]
  },
  {
   "cell_type": "markdown",
   "id": "d1f262a7",
   "metadata": {},
   "source": [
    "Ans:\n",
    "    print\n",
    "    \n",
    "return\n",
    "\n",
    "yield"
   ]
  }
 ],
 "metadata": {
  "kernelspec": {
   "display_name": "Python 3 (ipykernel)",
   "language": "python",
   "name": "python3"
  },
  "language_info": {
   "codemirror_mode": {
    "name": "ipython",
    "version": 3
   },
   "file_extension": ".py",
   "mimetype": "text/x-python",
   "name": "python",
   "nbconvert_exporter": "python",
   "pygments_lexer": "ipython3",
   "version": "3.10.0"
  }
 },
 "nbformat": 4,
 "nbformat_minor": 5
}
