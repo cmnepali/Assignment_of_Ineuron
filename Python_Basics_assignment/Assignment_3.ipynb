{
 "cells": [
  {
   "cell_type": "markdown",
   "id": "13d668ba",
   "metadata": {},
   "source": [
    "1. Why are functions advantageous to have in your programs?\n",
    "\n",
    "Ans:\n",
    "    To follow the DRY principle and code reuseability, easy to read and update we use function.\n",
    "    "
   ]
  },
  {
   "cell_type": "markdown",
   "id": "97e50ac6",
   "metadata": {},
   "source": [
    "2. When does the code in a function run: when it's specified or when it's called?\n",
    "\n",
    "Ans: \n",
    "    The code in a function runs when it is called,but not when it is specified."
   ]
  },
  {
   "cell_type": "markdown",
   "id": "dc683e0f",
   "metadata": {},
   "source": [
    "3. What statement creates a function?\n",
    "\n",
    "Ans: def keyword create a function.\n"
   ]
  },
  {
   "cell_type": "markdown",
   "id": "b887153d",
   "metadata": {},
   "source": [
    "4. What is the difference between a function and a function call?\n",
    "\n",
    "Ans:\n",
    "    In a function we can pass the data, parameters,etc but it will not executed until it calls,\n",
    "When a program calls a function, the program control is transferred to the function code."
   ]
  },
  {
   "cell_type": "markdown",
   "id": "73f4bd90",
   "metadata": {},
   "source": [
    "5. How many global scopes are there in a Python program? How many local scopes?\n",
    "\n",
    "Ans:\n",
    "    There is only one global scope in python.\n",
    "    Local scope is created whenever we call the function.\n",
    "    "
   ]
  },
  {
   "cell_type": "markdown",
   "id": "e4f67c60",
   "metadata": {},
   "source": [
    "6. What happens to variables in a local scope when the function call returns?\n",
    "\n",
    "Ans:\n",
    "    when function execute or returns, the local variable are distroyed.\n",
    "    "
   ]
  },
  {
   "cell_type": "markdown",
   "id": "28f30def",
   "metadata": {},
   "source": [
    "7. What is the concept of a return value? Is it possible to have a return value in an expression?\n",
    "\n",
    "Ans:\n",
    "    A return value is the value that a function call to elevates. It can be in the form of expression."
   ]
  },
  {
   "cell_type": "markdown",
   "id": "7755b451",
   "metadata": {},
   "source": [
    "8. If a function does not have a return statement, what is the return value of a call to that function?\n",
    "\n",
    "Ans:\n",
    "    If there is no return value for function, its return value is None.\n",
    "    "
   ]
  },
  {
   "cell_type": "markdown",
   "id": "e5bb886c",
   "metadata": {},
   "source": [
    "9. How do you make a function variable refer to the global variable?\n",
    "\n",
    "Ans:\n",
    "    If you want to refer global variable in function you can use global statement to declare the variable as global."
   ]
  },
  {
   "cell_type": "markdown",
   "id": "7b873506",
   "metadata": {},
   "source": [
    "10. What is the data type of None?\n",
    "\n",
    "Ans: \n",
    "    The date type of None is \"NoneType\"."
   ]
  },
  {
   "cell_type": "markdown",
   "id": "ee3195f8",
   "metadata": {},
   "source": [
    "11. What does the sentence import areallyourpetsnamederic do?\n",
    "\n",
    "Ans:\n",
    "    The import statement will import a python module named \"areallyourpetsnamederic\"."
   ]
  },
  {
   "cell_type": "markdown",
   "id": "7a48ba95",
   "metadata": {},
   "source": [
    "12. If you had a bacon() feature in a spam module, what would you call it after importing spam?\n",
    "\n",
    "Ans:\n",
    "    spam.bacon()"
   ]
  },
  {
   "cell_type": "markdown",
   "id": "cfd5b065",
   "metadata": {},
   "source": [
    "13. What can you do to save a programme from crashing if it encounters an error?\n",
    "\n",
    "Ans:\n",
    "    We can write the line of code inside Try and Except block to save a programme from crashing."
   ]
  },
  {
   "cell_type": "markdown",
   "id": "c8f1e69d",
   "metadata": {},
   "source": [
    "14. What is the purpose of the try clause? What is the purpose of the except clause?\n",
    "\n",
    "Ans:\n",
    "    The code which can potentially cause an error in program goes under a try clause.\n",
    "    The except block lets you handle the error."
   ]
  }
 ],
 "metadata": {
  "kernelspec": {
   "display_name": "Python 3 (ipykernel)",
   "language": "python",
   "name": "python3"
  },
  "language_info": {
   "codemirror_mode": {
    "name": "ipython",
    "version": 3
   },
   "file_extension": ".py",
   "mimetype": "text/x-python",
   "name": "python",
   "nbconvert_exporter": "python",
   "pygments_lexer": "ipython3",
   "version": "3.10.0"
  }
 },
 "nbformat": 4,
 "nbformat_minor": 5
}
