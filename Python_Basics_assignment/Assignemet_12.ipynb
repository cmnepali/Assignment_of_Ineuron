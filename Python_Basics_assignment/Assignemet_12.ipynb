{
 "cells": [
  {
   "cell_type": "markdown",
   "id": "358d9840",
   "metadata": {},
   "source": [
    "1. In what modes should the PdfFileReader() and PdfFileWriter() File objects will be opened?\n",
    "\n",
    "Ans:\n",
    "    PdfFileReader() in rb ie read binary and PdfFileWrite() in wb ie write binary mode"
   ]
  },
  {
   "cell_type": "markdown",
   "id": "fd2dde92",
   "metadata": {},
   "source": [
    "2. From a PdfFileReader object, how do you get a Page object for page 5?\n",
    "\n",
    "Ans:\n",
    "    in PdfFileReader, A method getPage(\"5\")"
   ]
  },
  {
   "cell_type": "markdown",
   "id": "3069e79c",
   "metadata": {},
   "source": [
    "3. What PdfFileReader variable stores the number of pages in the PDF document?\n",
    "\n",
    "Ans:\n",
    "    getNumPages() method of PdfFileReader class stores the no pages in a PDF document"
   ]
  },
  {
   "cell_type": "markdown",
   "id": "adc265d6",
   "metadata": {},
   "source": [
    "4. If a PdfFileReader object’s PDF is encrypted with the password swordfish, what must you do\n",
    "before you can obtain Page objects from it?"
   ]
  },
  {
   "cell_type": "markdown",
   "id": "105ca006",
   "metadata": {},
   "source": [
    "Ans:\n",
    "    Before we obtain the page object, the pdf has to be decrypted by calling .decrypt('swordfish')"
   ]
  },
  {
   "cell_type": "markdown",
   "id": "8a161fb1",
   "metadata": {},
   "source": [
    "5. What methods do you use to rotate a page?"
   ]
  },
  {
   "cell_type": "markdown",
   "id": "97cbac76",
   "metadata": {},
   "source": [
    "Ans:\n",
    "    rotateClockwise() and rotateCounterClockwise() methods are used to rotate page."
   ]
  },
  {
   "cell_type": "markdown",
   "id": "33dfbe70",
   "metadata": {},
   "source": [
    "6. What is the difference between a Run object and a Paragraph object?"
   ]
  },
  {
   "cell_type": "markdown",
   "id": "b8d3d5c0",
   "metadata": {},
   "source": [
    "Ans:\n",
    "    Paragraph Object : A document contains multiple paragraphs. A paragraph begins on a new line and contains multiple runs. The Document object contains a list of Paragraph objects for the paragraphs in the document. (A new paragraph begins whenever the user presses ENTER or RETURN while typing in a Word document.)\n",
    "\n",
    "Run Objects : Runs are contiguous groups of characters within a paragraph with the same style"
   ]
  },
  {
   "cell_type": "markdown",
   "id": "b2de88d3",
   "metadata": {},
   "source": [
    "7. How do you obtain a list of Paragraph objects for a Document object that’s stored in a variable\n",
    "named doc?"
   ]
  },
  {
   "cell_type": "code",
   "execution_count": null,
   "id": "65488a8e",
   "metadata": {},
   "outputs": [],
   "source": [
    "pip install python-docx\n",
    "import docx\n",
    "doc = docx.Document('xyz.docx')\n",
    "doc.paragraphs"
   ]
  },
  {
   "cell_type": "markdown",
   "id": "831c2540",
   "metadata": {},
   "source": [
    "8. What type of object has bold, underline, italic, strike, and outline variables?"
   ]
  },
  {
   "cell_type": "markdown",
   "id": "3165870f",
   "metadata": {},
   "source": [
    "Ans:\n",
    "    A Run object has bold, underline,italic,strike and outline variables"
   ]
  },
  {
   "cell_type": "markdown",
   "id": "f0462a9f",
   "metadata": {},
   "source": [
    "9. What is the difference between False, True, and None for the bold variable?"
   ]
  },
  {
   "cell_type": "markdown",
   "id": "27906b96",
   "metadata": {},
   "source": [
    "Ans:\n",
    "    True always makes the Run object bolded and False makes it always not bolded, no matter what the style’s bold setting is. None will make the Run object just use the style’s bold setting"
   ]
  },
  {
   "cell_type": "markdown",
   "id": "c3e36c90",
   "metadata": {},
   "source": [
    "10. How do you create a Document object for a new Word document?"
   ]
  },
  {
   "cell_type": "markdown",
   "id": "7d7d3159",
   "metadata": {},
   "source": [
    "Ans:\n",
    "    Call docx.Document() function."
   ]
  },
  {
   "cell_type": "markdown",
   "id": "cfc4d4cf",
   "metadata": {},
   "source": [
    "11. How do you add a paragraph with the text &#39;Hello, there!&#39; to a Document object stored in a\n",
    "variable named doc?"
   ]
  },
  {
   "cell_type": "markdown",
   "id": "6b8f1ddf",
   "metadata": {},
   "source": [
    "12. What integers represent the levels of headings available in Word documents?"
   ]
  },
  {
   "cell_type": "code",
   "execution_count": null,
   "id": "28b06cd4",
   "metadata": {},
   "outputs": [],
   "source": [
    "Ans:\n",
    "import docx\n",
    "doc = docx.Document()\n",
    "\n",
    "doc.add_paragraph('Hello ineuron!')\n",
    "doc.save('ineuron_assignment.docx')"
   ]
  }
 ],
 "metadata": {
  "kernelspec": {
   "display_name": "Python 3 (ipykernel)",
   "language": "python",
   "name": "python3"
  },
  "language_info": {
   "codemirror_mode": {
    "name": "ipython",
    "version": 3
   },
   "file_extension": ".py",
   "mimetype": "text/x-python",
   "name": "python",
   "nbconvert_exporter": "python",
   "pygments_lexer": "ipython3",
   "version": "3.10.0"
  }
 },
 "nbformat": 4,
 "nbformat_minor": 5
}
