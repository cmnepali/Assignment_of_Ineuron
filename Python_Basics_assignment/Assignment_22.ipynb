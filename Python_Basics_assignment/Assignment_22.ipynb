{
 "cells": [
  {
   "cell_type": "markdown",
   "id": "05ac91d7",
   "metadata": {},
   "source": [
    "1. What is the result of the code, and explain?\n",
    "\n",
    "&gt;&gt;&gt; X = &#39;iNeuron&#39;\n",
    "\n",
    "&gt;&gt;&gt; def func():\n",
    "\n",
    "print(X)\n",
    "\n",
    "&gt;&gt;&gt; func()"
   ]
  },
  {
   "cell_type": "markdown",
   "id": "ce0e7135",
   "metadata": {},
   "source": [
    "Ans:\n",
    "    - The result of this code is iNeuron. As there is no local variable available inside the function it tries to return the value of global variable which is assigned in 'x'."
   ]
  },
  {
   "cell_type": "markdown",
   "id": "0c90e07d",
   "metadata": {},
   "source": [
    "2. What is the result of the code, and explain?\n",
    "\n",
    "&gt;&gt;&gt; X = &#39;iNeuron&#39;\n",
    "\n",
    "&gt;&gt;&gt; def func():\n",
    "\n",
    "X = &#39;NI!&#39;\n",
    "\n",
    "&gt;&gt;&gt; func()\n",
    "\n",
    "&gt;&gt;&gt; print(X)"
   ]
  },
  {
   "cell_type": "markdown",
   "id": "66b33674",
   "metadata": {},
   "source": [
    "Ans:\n",
    "    \n",
    "    The result of the code after running is 'NI!'. Because, function first access the local variable  as value is available inside the function it prints the value of 'x' inside the function which is 'NI!'"
   ]
  },
  {
   "cell_type": "markdown",
   "id": "a255cbf2",
   "metadata": {},
   "source": [
    "3. What does this code print, and why?\n",
    "\n",
    "&gt;&gt;&gt; X = &#39;iNeuron&#39;\n",
    "\n",
    "&gt;&gt;&gt; def func():\n",
    "\n",
    "X = &#39;NI&#39;\n",
    "\n",
    "print(X)\n",
    "\n",
    "&gt;&gt;&gt; func()\n",
    "\n",
    "&gt;&gt;&gt; print(X)"
   ]
  },
  {
   "cell_type": "markdown",
   "id": "d0482bd8",
   "metadata": {},
   "source": [
    "Ans:\n",
    "    The value of x inside the function has local scope so it returns 'NI!' as the value of 'x'.\n",
    "Where as the print(X) statement gives value of X as 'iNeuron' as it's available outside the function."
   ]
  },
  {
   "cell_type": "markdown",
   "id": "1518370d",
   "metadata": {},
   "source": [
    "4. What output does this code produce? Why?\n",
    "\n",
    "&gt;&gt;&gt; X = &#39;iNeuron&#39;\n",
    "\n",
    "&gt;&gt;&gt; def func():\n",
    "\n",
    "global X\n",
    "\n",
    "X = &#39;NI&#39;\n",
    "\n",
    "&gt;&gt;&gt; func()\n",
    "\n",
    "&gt;&gt;&gt; print(X)"
   ]
  },
  {
   "cell_type": "markdown",
   "id": "89f49779",
   "metadata": {},
   "source": [
    "Ans:\n",
    "    As golbal keyword change the scope of variable so both func() and print(X) gives same result ie iNeuron"
   ]
  },
  {
   "cell_type": "markdown",
   "id": "bd0ba030",
   "metadata": {},
   "source": [
    "5. What about this code—what’s the output, and why?\n",
    "\n",
    "&gt;&gt;&gt; X = &#39;iNeuron&#39;\n",
    "\n",
    "&gt;&gt;&gt; def func():\n",
    "\n",
    "X = &#39;NI&#39;\n",
    "\n",
    "def nested():\n",
    "\n",
    "print(X)\n",
    "\n",
    "nested()\n",
    "\n",
    "&gt;&gt;&gt; func()\n",
    "\n",
    "&gt;&gt;&gt; X"
   ]
  },
  {
   "cell_type": "markdown",
   "id": "1e1aac64",
   "metadata": {},
   "source": [
    "Ans:\n",
    "    The output of the code is NI!. the reason for this output is if a function wants to access a variable, if its not available in its local scope. it looks for the variable in its global scope. similarly here also function nested looks for variable X in its global scope. hence the output of the code is NI!"
   ]
  },
  {
   "cell_type": "markdown",
   "id": "75c348a8",
   "metadata": {},
   "source": [
    "6. How about this code: what is its output in Python 3, and explain?\n",
    "\n",
    "&gt;&gt;&gt; def func():\n",
    "\n",
    "X = &#39;NI&#39;\n",
    "\n",
    "def nested():\n",
    "\n",
    "nonlocal X\n",
    "\n",
    "X = &#39;Spam&#39;\n",
    "\n",
    "nested()\n",
    "\n",
    "print(X)\n",
    "\n",
    "&gt;&gt;&gt; func()"
   ]
  },
  {
   "cell_type": "markdown",
   "id": "add8da58",
   "metadata": {},
   "source": [
    "Ans:\n",
    "The output of the code is Spam. The nonlocal keyword changes the scope of variable X from the local to global. Hence the output is Spam."
   ]
  }
 ],
 "metadata": {
  "kernelspec": {
   "display_name": "Python 3 (ipykernel)",
   "language": "python",
   "name": "python3"
  },
  "language_info": {
   "codemirror_mode": {
    "name": "ipython",
    "version": 3
   },
   "file_extension": ".py",
   "mimetype": "text/x-python",
   "name": "python",
   "nbconvert_exporter": "python",
   "pygments_lexer": "ipython3",
   "version": "3.10.0"
  }
 },
 "nbformat": 4,
 "nbformat_minor": 5
}
