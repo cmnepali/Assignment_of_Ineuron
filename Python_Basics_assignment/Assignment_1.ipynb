{
 "cells": [
  {
   "cell_type": "markdown",
   "id": "98f127fa",
   "metadata": {},
   "source": [
    "# Chandra Mani Nepali\n",
    "## Ineuron Assignment_1"
   ]
  },
  {
   "cell_type": "markdown",
   "id": "44f1b892",
   "metadata": {},
   "source": [
    " 1. In the below elements which of them are values or an expression? eg:- values can be integer or string and expressions will be mathematical operators. * , 'hello' , -87.8 , - , / , + , 6"
   ]
  },
  {
   "cell_type": "markdown",
   "id": "1e763dfa",
   "metadata": {},
   "source": [
    " Ans:\n",
    "\n",
    "Values are: 'hello', -87.8, 6\n",
    "Expression are: * , -, /, +"
   ]
  },
  {
   "cell_type": "markdown",
   "id": "1db191ad",
   "metadata": {},
   "source": [
    " 2. What is the difference between string and variable?\n",
    "\n",
    "Ans:\n",
    "    Strings are something that can be stored inside a variable. String contains series of characters which can include alphabets, numbers & symbols. All the information of the string is always stored inside two Double or Single inverted commas (\" \" or ' ' ).\n",
    "    Variables can store information inside them. Which can include strings, \n",
    "    inetergers, float values, Boolean values, etc. and it can never be any of the reserved keywords from python.\n"
   ]
  },
  {
   "cell_type": "markdown",
   "id": "1f730260",
   "metadata": {},
   "source": [
    " 3. Describe three different data types.\n",
    "\n",
    "Ans:\n",
    "\n",
    "List-List is a data structure which stores elements and/or values inside square bracket[].They are mutable and can store multiple repeated values\n",
    "\n",
    "Set-Set is a data strcture which stores unique elements and/or values inside curly brackets{}.They are mutable.\n",
    "\n",
    "Dictionary-Dictionary is a data strcture which stores information in the form of Key and Value pair, inside curly brackets {Keys:values}. The keys inside the dictionary are unique."
   ]
  },
  {
   "cell_type": "markdown",
   "id": "e815e47e",
   "metadata": {},
   "source": [
    " 4. What is an expression made up of? What do all expressions do?\n",
    "\n",
    "Ans:\n",
    "    Expression is made up of operators and operands. Expression produces some values or results when interpreted by python interpreter. Expression is need to be evaluated. Ex. a-b-6, 2+2"
   ]
  },
  {
   "cell_type": "markdown",
   "id": "648e91ef",
   "metadata": {},
   "source": [
    " 5. This assignment statements, like spam = 10. What is the difference between an expression and a statement?\n",
    "\n",
    "Ans:\n",
    "   spam = 10 is a statement.\n",
    "The main difference between statement and expression is statement doesn't give result but expression gives result or output.\n",
    "Every statement can be expression but every expression cann't be statement.    "
   ]
  },
  {
   "cell_type": "markdown",
   "id": "2543d9ea",
   "metadata": {},
   "source": [
    " 6. After running the following code, what does the variable bacon contain?"
   ]
  },
  {
   "cell_type": "code",
   "execution_count": 1,
   "id": "abb18866",
   "metadata": {},
   "outputs": [
    {
     "data": {
      "text/plain": [
       "23"
      ]
     },
     "execution_count": 1,
     "metadata": {},
     "output_type": "execute_result"
    }
   ],
   "source": [
    "bacon = 22\n",
    "bacon + 1"
   ]
  },
  {
   "cell_type": "markdown",
   "id": "1931f6bb",
   "metadata": {},
   "source": [
    " 7. What should the values of the following two terms be?\n",
    "'spam' + 'spamspam'\n",
    "'span' * 3\n",
    "\n",
    "Ans:\n",
    "    The output or value will be same i.e. spanspanspan"
   ]
  },
  {
   "cell_type": "markdown",
   "id": "1042f6d4",
   "metadata": {},
   "source": [
    " 8. Why is eggs a valid variable name while 100 is invalid?\n",
    "\n",
    "Ans: \n",
    "    There are certain rule to assign the variable name.\n",
    "    A variable cannot be any reserved keyword or any integer, float or Boolean values.\n",
    "    eggs is valid because it start with letter or string but 100 is not valid because name of variable cannot be start with numbers."
   ]
  },
  {
   "cell_type": "markdown",
   "id": "1e4a558d",
   "metadata": {},
   "source": [
    " 9. What three functions can be used to get the integer, floating-point number, or string version of a value?\n",
    "\n",
    "Ans: \n",
    "    The int(), float() and str() function can be used to get the integer, floating-point number and string respectively. "
   ]
  },
  {
   "cell_type": "markdown",
   "id": "d1585beb",
   "metadata": {},
   "source": [
    " 10. Why does this expression cause an error? How can you fix it?\n",
    "'I have eaten' + 99 + 'burritos.'\n",
    "\n",
    "This expression cause an error due to string and integer concatination. We can fixed it by changing 99 to '99' or typecast the 99 to str(99)."
   ]
  }
 ],
 "metadata": {
  "kernelspec": {
   "display_name": "Python 3 (ipykernel)",
   "language": "python",
   "name": "python3"
  },
  "language_info": {
   "codemirror_mode": {
    "name": "ipython",
    "version": 3
   },
   "file_extension": ".py",
   "mimetype": "text/x-python",
   "name": "python",
   "nbconvert_exporter": "python",
   "pygments_lexer": "ipython3",
   "version": "3.10.0"
  }
 },
 "nbformat": 4,
 "nbformat_minor": 5
}
