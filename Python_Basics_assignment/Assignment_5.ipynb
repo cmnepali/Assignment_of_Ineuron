{
 "cells": [
  {
   "cell_type": "markdown",
   "id": "cde12222",
   "metadata": {},
   "source": [
    "1. What does an empty dictionary's code look like?\n",
    "\n",
    "Ans:\n",
    "    dict={}"
   ]
  },
  {
   "cell_type": "markdown",
   "id": "328421c0",
   "metadata": {},
   "source": [
    "2. What is the value of a dictionary value with the key 'foo' and the value 42?"
   ]
  },
  {
   "cell_type": "code",
   "execution_count": 1,
   "id": "6927932e",
   "metadata": {},
   "outputs": [
    {
     "data": {
      "text/plain": [
       "42"
      ]
     },
     "execution_count": 1,
     "metadata": {},
     "output_type": "execute_result"
    }
   ],
   "source": [
    "dictionary={'foo':42}\n",
    "dict.values(dictionary)\n",
    "dictionary.get('foo')"
   ]
  },
  {
   "cell_type": "markdown",
   "id": "adba67c8",
   "metadata": {},
   "source": [
    "3. What is the most significant distinction between a dictionary and a list?\n",
    "\n",
    "Ans:\n",
    "    The items stored in dictionary are unordered and can be accessed via keys while items stored in lists are ordered and can be accessed by thier position.    "
   ]
  },
  {
   "cell_type": "markdown",
   "id": "72052cf2",
   "metadata": {},
   "source": [
    "4. What happens if you try to access spam['foo'] if spam is {'bar': 100}?\n",
    "\n",
    "Ans:\n",
    "    It raise the error because spam has no key name foo"
   ]
  },
  {
   "cell_type": "markdown",
   "id": "4922b25d",
   "metadata": {},
   "source": [
    "5. If a dictionary is stored in spam, what is the difference between the expressions 'cat' in spam and 'cat' \n",
    "in spam.keys()?\n",
    "\n",
    "Ans:\n",
    "    There is no difference between \"cat\" in spam and \"cat\" in spam.keys(), both will check whether a key named \"cat\" is present in dictionary or not.    "
   ]
  },
  {
   "cell_type": "markdown",
   "id": "270635fe",
   "metadata": {},
   "source": [
    "6. If a dictionary is stored in spam, what is the difference between the expressions 'cat' in spam and 'cat' in spam.values()?"
   ]
  },
  {
   "cell_type": "markdown",
   "id": "e0344922",
   "metadata": {},
   "source": [
    "7. What is a shortcut for the following code?\n",
    "if  'color' not in spam:\n",
    "spam['color'] = 'black'\n",
    "\n",
    "Ans:\n",
    "    spam.setdefault('color','black')"
   ]
  },
  {
   "cell_type": "code",
   "execution_count": 2,
   "id": "f7ee8720",
   "metadata": {},
   "outputs": [
    {
     "data": {
      "text/plain": [
       "{'dog': 'puppy', 'color': 'black'}"
      ]
     },
     "execution_count": 2,
     "metadata": {},
     "output_type": "execute_result"
    }
   ],
   "source": [
    "spam={'dog':'puppy'}\n",
    "spam.setdefault('color','black')\n",
    "spam"
   ]
  },
  {
   "cell_type": "markdown",
   "id": "de021e40",
   "metadata": {},
   "source": [
    "8. How do you \"pretty print\" dictionary values using which module and function?"
   ]
  },
  {
   "cell_type": "code",
   "execution_count": 3,
   "id": "197b44e7",
   "metadata": {},
   "outputs": [
    {
     "data": {
      "text/plain": [
       "[{7058: 'sravan', 7059: 'jyothika', 7072: 'harsha', 7075: 'deepika'},\n",
       " {7051: 'fathima', 7089: 'mounika', 7012: 'thanmai', 7115: 'vasavi'},\n",
       " {9001: 'ojaswi', 1289: 'daksha', 7045: 'parvathi', 9815: 'bhavani'}]"
      ]
     },
     "execution_count": 3,
     "metadata": {},
     "output_type": "execute_result"
    }
   ],
   "source": [
    "d=[{7058: 'sravan', 7059: 'jyothika',7072: 'harsha', 7075: 'deepika'},         \n",
    "        {7051: 'fathima', 7089: 'mounika',7012: 'thanmai', 7115: 'vasavi'},         \n",
    "        {9001: 'ojaswi', 1289: 'daksha',7045: 'parvathi', 9815: 'bhavani'}]\n",
    "d"
   ]
  },
  {
   "cell_type": "code",
   "execution_count": 4,
   "id": "f82f15df",
   "metadata": {},
   "outputs": [
    {
     "name": "stdout",
     "output_type": "stream",
     "text": [
      "[{7058: 'sravan', 7059: 'jyothika', 7072: 'harsha', 7075: 'deepika'},\n",
      " {7012: 'thanmai', 7051: 'fathima', 7089: 'mounika', 7115: 'vasavi'},\n",
      " {1289: 'daksha', 7045: 'parvathi', 9001: 'ojaswi', 9815: 'bhavani'}]\n"
     ]
    }
   ],
   "source": [
    "#module\n",
    "import pprint\n",
    "#function\n",
    "pprint.pprint(d)"
   ]
  }
 ],
 "metadata": {
  "kernelspec": {
   "display_name": "Python 3 (ipykernel)",
   "language": "python",
   "name": "python3"
  },
  "language_info": {
   "codemirror_mode": {
    "name": "ipython",
    "version": 3
   },
   "file_extension": ".py",
   "mimetype": "text/x-python",
   "name": "python",
   "nbconvert_exporter": "python",
   "pygments_lexer": "ipython3",
   "version": "3.10.0"
  }
 },
 "nbformat": 4,
 "nbformat_minor": 5
}
