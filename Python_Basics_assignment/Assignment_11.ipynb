{
 "cells": [
  {
   "cell_type": "markdown",
   "id": "1167585b",
   "metadata": {},
   "source": [
    "1. Create an assert statement that throws an AssertionError if the variable spam is a negative\n",
    "integer."
   ]
  },
  {
   "cell_type": "code",
   "execution_count": null,
   "id": "ef092320",
   "metadata": {},
   "outputs": [],
   "source": [
    "spam = int(input(\"Enter any number whather it is spam or not\"))\n",
    "assert spam >= 0\n",
    "print(spam,\"is a positive number\")"
   ]
  },
  {
   "cell_type": "markdown",
   "id": "d5b9a75e",
   "metadata": {},
   "source": [
    "2. Write an assert statement that triggers an AssertionError if the variables eggs and bacon contain\n",
    "strings that are the same as each other, even if their cases are different (that is, &#39;hello&#39; and &#39;hello&#39; are\n",
    "considered the same, and &#39;goodbye&#39; and &#39;GOODbye&#39; are also considered the same)."
   ]
  },
  {
   "cell_type": "code",
   "execution_count": null,
   "id": "db79cfe3",
   "metadata": {},
   "outputs": [],
   "source": [
    "eggs='goodbye'\n",
    "bacon=\"GOODbye\"\n",
    "assert eggs.lower() != bacon.lower(), 'The eggs and bacon variables are the same.'\n",
    "assert eggs.upper() != bacon.upper(), 'The eggs and bacon variables are the same.'"
   ]
  },
  {
   "cell_type": "markdown",
   "id": "1b5c78be",
   "metadata": {},
   "source": [
    "3. Create an assert statement that throws an AssertionError every time."
   ]
  },
  {
   "cell_type": "markdown",
   "id": "01945a34",
   "metadata": {},
   "source": [
    "assert False, 'This assertion always throws an AssertionError every time.'"
   ]
  },
  {
   "cell_type": "markdown",
   "id": "4ab76b7e",
   "metadata": {},
   "source": [
    "4. What are the two lines that must be present in your software in order to call logging.debug()?\n",
    "\n",
    "Ans:\n",
    "\n",
    "    import logging\n",
    "logging.basicConfig(level=logging.DEBUG, format=' %(asctime)s - %(levelname)s - %(message)s')"
   ]
  },
  {
   "cell_type": "markdown",
   "id": "1f50a54c",
   "metadata": {},
   "source": [
    "5. What are the two lines that your program must have in order to have logging.debug() send a\n",
    "logging message to a file named programLog.txt?\n",
    "\n",
    "Ans:\n",
    "    import logging\n",
    "\n",
    "logging.basicConfig(filename='programLog.txt', level=logging.DEBUG,\n",
    "\n",
    "format=' %(asctime)s - %(levelname)s - %(message)s')"
   ]
  },
  {
   "cell_type": "markdown",
   "id": "35ed1a84",
   "metadata": {},
   "source": [
    "6. What are the five levels of logging?\n",
    "\n",
    "Ans: \n",
    "    DEBUG\n",
    "\n",
    "    INFO\n",
    "    \n",
    "    WARNING\n",
    "\n",
    "    ERROR\n",
    "\n",
    "    CRITICAL"
   ]
  },
  {
   "cell_type": "markdown",
   "id": "d1e73815",
   "metadata": {},
   "source": [
    "7. What line of code would you add to your software to disable all logging messages?\n",
    "\n",
    "Ans:\n",
    "     logging.disable(logging.CRITICAL)"
   ]
  },
  {
   "cell_type": "markdown",
   "id": "c25d1cb2",
   "metadata": {},
   "source": [
    "8.Why is using logging messages better than using print() to display the same message?\n",
    "\n",
    "Ans:\n",
    "    logging messages gives  kind of error, timestamp and debug our code"
   ]
  },
  {
   "cell_type": "markdown",
   "id": "23d8f622",
   "metadata": {},
   "source": [
    "9. What are the differences between the Step Over, Step In, and Step Out buttons in the debugger?\n",
    "\n",
    "Ans:\n",
    "    The Step Over button will quickly execute the function call without stepping into it.\n",
    "    \n",
    "    The Step In button will move the debugger into a function call.\n",
    "\n",
    "   The Step out button will quickly execute the rest of the code until it steps out of the function it currently is in."
   ]
  },
  {
   "cell_type": "markdown",
   "id": "1ba6ce7d",
   "metadata": {},
   "source": [
    "10.After you click Continue, when will the debugger stop ?\n",
    "\n",
    "Ans:\n",
    "    The debugger will stop until the program gets over or code contains any breakpoint."
   ]
  },
  {
   "cell_type": "markdown",
   "id": "97cf6eb1",
   "metadata": {},
   "source": [
    "11. What is the concept of a breakpoint?\n",
    "\n",
    "Ans: \n",
    "    Setting on a line of code that helps to pause the debugger when the program reaches the execution line"
   ]
  }
 ],
 "metadata": {
  "kernelspec": {
   "display_name": "Python 3 (ipykernel)",
   "language": "python",
   "name": "python3"
  },
  "language_info": {
   "codemirror_mode": {
    "name": "ipython",
    "version": 3
   },
   "file_extension": ".py",
   "mimetype": "text/x-python",
   "name": "python",
   "nbconvert_exporter": "python",
   "pygments_lexer": "ipython3",
   "version": "3.10.0"
  }
 },
 "nbformat": 4,
 "nbformat_minor": 5
}
