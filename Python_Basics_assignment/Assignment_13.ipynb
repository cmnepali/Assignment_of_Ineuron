{
 "cells": [
  {
   "cell_type": "markdown",
   "id": "20b04587",
   "metadata": {},
   "source": [
    "1. What advantages do Excel spreadsheets have over CSV spreadsheets?\n",
    "\n",
    "Ans:\n",
    "    a) Excel (XLS and XLSX) file formats are better for storing and analysing complex data.\n",
    "    \n",
    "b) An Excel not only stores data but can also do operations on the data using macros, formulas etc\n",
    "\n",
    "c)  We can store the data in excel in the form of bars, graphs and charts."
   ]
  },
  {
   "cell_type": "markdown",
   "id": "9a4fe74f",
   "metadata": {},
   "source": [
    "2.What do you pass to csv.reader() and csv.writer() to create reader and writer objects?"
   ]
  },
  {
   "cell_type": "code",
   "execution_count": 2,
   "id": "e77b8621",
   "metadata": {},
   "outputs": [
    {
     "name": "stdout",
     "output_type": "stream",
     "text": [
      "['s.n.', 'Name', 'Course']\n",
      "['1', 'Michale', 'FSDS']\n",
      "['2', 'jack', 'DJANGO']\n",
      "['3', 'sohan', 'REACT']\n"
     ]
    }
   ],
   "source": [
    "#import csv module \n",
    "import csv \n",
    "\n",
    "#csv.reader() \n",
    "\n",
    "with open ('Book1.csv', 'r') as file:\n",
    "    reader=csv.reader(file)\n",
    "    for read in reader:\n",
    "        print(read)\n",
    "     "
   ]
  },
  {
   "cell_type": "code",
   "execution_count": 7,
   "id": "79b9b4ee",
   "metadata": {},
   "outputs": [
    {
     "name": "stdout",
     "output_type": "stream",
     "text": [
      "['sn', 'name', 'course']\n",
      "['1', 'jack', 'FSDS']\n"
     ]
    }
   ],
   "source": [
    "with open('test.csv', 'w', newline='') as file:\n",
    "    writer=csv.writer(file)\n",
    "    writer.writerow(['sn','name','course'])\n",
    "    writer.writerow([1,'jack','FSDS'])\n",
    "    \n",
    "with open ('test.csv', 'r') as file:\n",
    "    reader=csv.reader(file)\n",
    "    for read in reader:\n",
    "        print(read)"
   ]
  },
  {
   "cell_type": "markdown",
   "id": "df50a4e2",
   "metadata": {},
   "source": [
    "3. What modes do File objects for reader and writer objects need to be opened in?\n",
    "\n",
    "Ans:\n",
    "    Read binary ('rb') = For reader objects and Write binary('wb') = For writer objects"
   ]
  },
  {
   "cell_type": "markdown",
   "id": "e134f3bb",
   "metadata": {},
   "source": [
    "4. What method takes a list argument and writes it to a CSV file?\n",
    "\n",
    "Ans:\n",
    "    writerows() takes list argument and writes it to a csv file."
   ]
  },
  {
   "cell_type": "markdown",
   "id": "57f53559",
   "metadata": {},
   "source": [
    "5. What do the keyword arguments delimiter and line terminator do?\n",
    "\n",
    "Ans:\n",
    "    Delimeter - The delimiter argument changes the string used to separate cells in a row.\n",
    "    \n",
    "Lineterminator - The lineterminator argument changes the string used to separate rows."
   ]
  },
  {
   "cell_type": "markdown",
   "id": "5d0278af",
   "metadata": {},
   "source": [
    "6. What function takes a string of JSON data and returns a Python data structure?\n",
    "\n",
    "Ans:\n",
    "     json.loads() is the function that takes a string of JSON data and returns python data sctucture."
   ]
  },
  {
   "cell_type": "code",
   "execution_count": 29,
   "id": "3e9a5a03",
   "metadata": {},
   "outputs": [
    {
     "name": "stdout",
     "output_type": "stream",
     "text": [
      "{\n",
      "    \"sn\":1,\n",
      "    \"Name\":\"cm nepali\",\n",
      "    \"course\":\"FSDS 2.0\"\n",
      "}\n"
     ]
    },
    {
     "data": {
      "text/plain": [
       "str"
      ]
     },
     "execution_count": 29,
     "metadata": {},
     "output_type": "execute_result"
    }
   ],
   "source": [
    "my_data_in_json='''{\n",
    "    \"sn\":1,\n",
    "    \"Name\":\"cm nepali\",\n",
    "    \"course\":\"FSDS 2.0\"\n",
    "}'''\n",
    "\n",
    "print(my_data_in_json)\n",
    "type(my_data_in_json)"
   ]
  },
  {
   "cell_type": "code",
   "execution_count": 30,
   "id": "ca079f26",
   "metadata": {},
   "outputs": [
    {
     "name": "stdout",
     "output_type": "stream",
     "text": [
      "{'sn': 1, 'Name': 'cm nepali', 'course': 'FSDS 2.0'}\n"
     ]
    },
    {
     "data": {
      "text/plain": [
       "dict"
      ]
     },
     "execution_count": 30,
     "metadata": {},
     "output_type": "execute_result"
    }
   ],
   "source": [
    "import json\n",
    "my_data_in_python=json.loads(my_data_in_json)\n",
    "print(my_data_in_python)\n",
    "type(my_data_in_python)"
   ]
  },
  {
   "cell_type": "markdown",
   "id": "54572569",
   "metadata": {},
   "source": [
    "7. What function takes a Python data structure and returns a string of JSON data?\n",
    "\n",
    "Ans:\n",
    "    json.dump() is the function takes a Python data structure and returns a string of JSON data."
   ]
  },
  {
   "cell_type": "code",
   "execution_count": null,
   "id": "e2868b0e",
   "metadata": {},
   "outputs": [],
   "source": []
  }
 ],
 "metadata": {
  "kernelspec": {
   "display_name": "Python 3 (ipykernel)",
   "language": "python",
   "name": "python3"
  },
  "language_info": {
   "codemirror_mode": {
    "name": "ipython",
    "version": 3
   },
   "file_extension": ".py",
   "mimetype": "text/x-python",
   "name": "python",
   "nbconvert_exporter": "python",
   "pygments_lexer": "ipython3",
   "version": "3.10.0"
  }
 },
 "nbformat": 4,
 "nbformat_minor": 5
}
