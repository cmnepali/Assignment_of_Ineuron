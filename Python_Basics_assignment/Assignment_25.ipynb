{
 "cells": [
  {
   "cell_type": "markdown",
   "id": "2135332f",
   "metadata": {},
   "source": [
    "1) . What is the difference between enclosing a list comprehension in square brackets and\n",
    "parentheses?"
   ]
  },
  {
   "cell_type": "markdown",
   "id": "6e4fd0d1",
   "metadata": {},
   "source": [
    "Ans:\n",
    "    Enclosing a list comprehension in square brackets returns a list whereas enclosing a list comprehension in parentheses returns a generator object."
   ]
  },
  {
   "cell_type": "markdown",
   "id": "77d4a044",
   "metadata": {},
   "source": [
    "2) What is the relationship between generators and iterators?"
   ]
  },
  {
   "cell_type": "markdown",
   "id": "bfd7d1a5",
   "metadata": {},
   "source": [
    "Ans:\n",
    "    An iterator is an object which contains a countable number of values and it is used to iterate over iterable objects like list, tuples, sets, etc.\n",
    "For an iterator: iter() keyword is used to create an iterator containing an iterable object.\n",
    "next() keyword is used to call the next element in the iterable object.\n",
    "\n",
    "Generator - It is another way of creating iterators in a simple way where it uses the keyword “yield” instead of returning it in a defined function.\n",
    "Generators are implemented using a function.\n",
    "Just as iterators, generators also follow lazy evaluation.\n",
    "Here, the yield function returns the data without affecting or exiting the function.\n",
    "It will return a sequence of data in an iterable format where we need to iterate over the sequence to use the data as they won’t store the entire sequence in the memory."
   ]
  },
  {
   "cell_type": "markdown",
   "id": "0eaa319c",
   "metadata": {},
   "source": [
    "3) What are the signs that a function is a generator function?"
   ]
  },
  {
   "cell_type": "markdown",
   "id": "d0cbc881",
   "metadata": {},
   "source": [
    "Ans:\n",
    "     A generator function uses a yield statement instead of a return statement. A generator function will always return a iterable object called generator. where as a normal function can return a string/list/tuple/dict/NoneType ... etc"
   ]
  },
  {
   "cell_type": "markdown",
   "id": "3be1fe76",
   "metadata": {},
   "source": [
    "4) What is the purpose of a yield statement?"
   ]
  },
  {
   "cell_type": "markdown",
   "id": "9b74a0a2",
   "metadata": {},
   "source": [
    "Ans:\n",
    "    The yield statement suspends function’s execution and sends a value back to the caller, but retains enough state to enable function to resume where it is left off. When resumed, the function continues execution immediately after the last yield run. This allows its code to produce a series of values over time, rather than computing them at once and sending them back like a list."
   ]
  },
  {
   "cell_type": "markdown",
   "id": "190025b0",
   "metadata": {},
   "source": [
    "5) What is the relationship between map calls and list comprehensions? Make a comparison and\n",
    "contrast between the two."
   ]
  },
  {
   "cell_type": "markdown",
   "id": "999540af",
   "metadata": {},
   "source": [
    "Ans:\n",
    "    1) List comprehension is more concise and easier to read as compared to map.\n",
    "    \n",
    "2) List comprehension allows filtering. In map, we have no such facility. \n",
    "\n",
    "3) List comprehension are used when a list of results is required as final output.but map only returns a map object. it needs to be explicitly coverted to desired datatype.\n",
    "\n",
    "4) List comprehension is faster than map when we need to evaluate expressions that are too long or complicated to express.\n",
    " \n",
    "5) Map is faster in case of calling an already defined function on a set of values."
   ]
  }
 ],
 "metadata": {
  "kernelspec": {
   "display_name": "Python 3 (ipykernel)",
   "language": "python",
   "name": "python3"
  },
  "language_info": {
   "codemirror_mode": {
    "name": "ipython",
    "version": 3
   },
   "file_extension": ".py",
   "mimetype": "text/x-python",
   "name": "python",
   "nbconvert_exporter": "python",
   "pygments_lexer": "ipython3",
   "version": "3.10.0"
  }
 },
 "nbformat": 4,
 "nbformat_minor": 5
}
