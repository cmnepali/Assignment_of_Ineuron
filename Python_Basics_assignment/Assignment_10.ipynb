{
 "cells": [
  {
   "cell_type": "markdown",
   "id": "39178a0c",
   "metadata": {},
   "source": [
    "1. How do you distinguish between shutil.copy() and shutil.copytree()?\n",
    "\n",
    "Ans:\n",
    "    shutil. copy() will copy a single file, shutil. copytree() will copy an entire folder and every folder and file contained in it."
   ]
  },
  {
   "cell_type": "markdown",
   "id": "8369c9e4",
   "metadata": {},
   "source": [
    "2. What function is used to rename files??\n",
    "\n",
    "Ans:\n",
    "    RENAME() function is used."
   ]
  },
  {
   "cell_type": "markdown",
   "id": "7ce7d7f3",
   "metadata": {},
   "source": [
    "3. What is the difference between the delete functions in the send2trash and shutil modules?\n",
    "\n",
    "Ans:\n",
    "    The send2trash functions will move a file or folder to the recycle bin, \n",
    "    \n",
    "    while shutil functions will permanently delete files and folders."
   ]
  },
  {
   "cell_type": "markdown",
   "id": "771289e7",
   "metadata": {},
   "source": [
    "4.ZipFile objects have a close() method just like File objects’ close() method. What ZipFile method is\n",
    "equivalent to File objects’ open() method?\n",
    "\n",
    "Ans:\n",
    "     In case of zipfille, ZipFile(\"file_name\", \"mode\") function is equivalent to open() fuction where the first argument is the file name and second argument is the mode with which we want to open the file i.e. read,write or append."
   ]
  },
  {
   "cell_type": "markdown",
   "id": "4e255b28",
   "metadata": {},
   "source": [
    "5. Create a programme that searches a folder tree for files with a certain file extension (such as .pdf\n",
    "or .jpg). Copy these files from whatever location they are in to a new folder."
   ]
  },
  {
   "cell_type": "code",
   "execution_count": 1,
   "id": "a15e5634",
   "metadata": {},
   "outputs": [
    {
     "name": "stdout",
     "output_type": "stream",
     "text": [
      "Looking in C:\\\books for files with extensions of .mp4, .pdf, .jpg\n"
     ]
    }
   ],
   "source": [
    "import os, shutil\n",
    "\n",
    "def selectiveCopy(folder, extensions, destFolder):\n",
    "\tfolder = os.path.abspath(folder)\n",
    "\tdestFolder = os.path.abspath(destFolder)\n",
    "\tprint('Looking in', folder, 'for files with extensions of', ', '.join(extensions))\n",
    "\tfor foldername, subfolders, filenames inos.walk(folder):\n",
    "\t\tfor filename in filenames:\n",
    "\t\t\tname, extension = os.path.splitext(filename)\n",
    "\t\t\tif extension in extensions:\n",
    "\t\t\t\tfileAbsPath = foldername + os.path.sep + filename\n",
    "\t\t\t\tprint('Coping', fileAbsPath, 'to', destFolder)\n",
    "\t\t\t\tshutil.copy(fileAbsPath, destFolder)\n",
    "\n",
    "extensions = ['.mp4', '.pdf','.jpg']\n",
    "folder = \"C:\\books\"\n",
    "destFolder = \"C:\\books\\dest\"\n",
    "selectiveCopy(folder, extensions, destFolder)"
   ]
  },
  {
   "cell_type": "code",
   "execution_count": 12,
   "id": "e61b48f7",
   "metadata": {},
   "outputs": [],
   "source": [
    "import os, shutil\n",
    "\n",
    "source_path = \"C:\\test\"\n",
    "extensions = ['.mp4', '.pdf','.jpg']\n",
    "destination_path = \"C:\\test\\new\"\n",
    "\n",
    "for foldername, subfolders, filenames in os.walk(source_path):\n",
    "    for filename in filenames:\n",
    "        name, extension = os.path.splitext(filename)\n",
    "        if extension in extensions:\n",
    "            fileAbsPath = foldername + os.path.sep + filename\n",
    "            print('Coping', fileAbsPath, 'to', destination_path)\n",
    "                \n",
    "            shutil.copy(fileAbsPath, destination_path)         \n",
    "\n"
   ]
  }
 ],
 "metadata": {
  "kernelspec": {
   "display_name": "Python 3 (ipykernel)",
   "language": "python",
   "name": "python3"
  },
  "language_info": {
   "codemirror_mode": {
    "name": "ipython",
    "version": 3
   },
   "file_extension": ".py",
   "mimetype": "text/x-python",
   "name": "python",
   "nbconvert_exporter": "python",
   "pygments_lexer": "ipython3",
   "version": "3.10.0"
  }
 },
 "nbformat": 4,
 "nbformat_minor": 5
}
