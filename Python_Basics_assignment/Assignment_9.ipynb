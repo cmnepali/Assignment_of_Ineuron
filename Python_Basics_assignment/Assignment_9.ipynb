{
 "cells": [
  {
   "cell_type": "markdown",
   "id": "3636d77b",
   "metadata": {},
   "source": [
    "1. To what does a relative path refer?\n",
    "\n",
    "Ans:\n",
    "    A relative path refers to a location that is relative to a current directory."
   ]
  },
  {
   "cell_type": "markdown",
   "id": "1c2e865d",
   "metadata": {},
   "source": [
    "2. What does an absolute path start with your operating system?\n",
    "\n",
    "Ans:\n",
    "    An absolute path is defined as the specifying the location of a file or directory from the root directory(/). In other words we can say absolute path is a complete path from start of actual filesystem from / directory."
   ]
  },
  {
   "cell_type": "markdown",
   "id": "8388f888",
   "metadata": {},
   "source": [
    "3. What do the functions os.getcwd() and os.chdir() do?\n",
    "\n",
    "Ans:\n",
    "    os.getcwd()-tells us the location of current working directory(CWD)\n",
    "    \n",
    "\n",
    "   os.chdir()-used to change the current working directory(CWD)"
   ]
  },
  {
   "cell_type": "code",
   "execution_count": 5,
   "id": "5f2c5c55",
   "metadata": {},
   "outputs": [
    {
     "data": {
      "text/plain": [
       "'D:\\\\ineuron\\\\assignment\\\\Python_Assignment_of_Ineuron\\\\Python_Basics_assignment'"
      ]
     },
     "execution_count": 5,
     "metadata": {},
     "output_type": "execute_result"
    }
   ],
   "source": [
    "import os\n",
    "os.getcwd()"
   ]
  },
  {
   "cell_type": "markdown",
   "id": "ae5f33d1",
   "metadata": {},
   "source": [
    "4. What are the . and .. folders?\n",
    "\n",
    "Ans:\n",
    "    dot(.) and double dots(..) refers to current working directory and parent directory respectively."
   ]
  },
  {
   "cell_type": "markdown",
   "id": "ddc4c343",
   "metadata": {},
   "source": [
    "5. In C:\\bacon\\eggs\\spam.txt, which part is the dir name, and which part is the base name?\n",
    "    \n",
    "Ans:\n",
    "    C:\\bacon\\eggs is the directory name whereas spam.txt is the base name"
   ]
  },
  {
   "cell_type": "markdown",
   "id": "9c18a7ce",
   "metadata": {},
   "source": [
    "6. What are the three “mode” arguments that can be passed to the open() function?\n",
    "\n",
    "Ans:\n",
    "\n",
    "    a) r: Opens the file in read only mode.\n",
    "    \n",
    "    b) rb : Opens the file as read-only in binary format and starts reading from the beginning of the file\n",
    "          \n",
    "    c)r+ : Opens a file for reading and writing, placing the pointer at the beginning of the file."
   ]
  },
  {
   "cell_type": "markdown",
   "id": "6e79a46f",
   "metadata": {},
   "source": [
    "7. What happens if an existing file is opened in write mode?\n",
    "\n",
    "Ans:\n",
    "     If the existing file is opened in write mode with \"w\", it's contents are discarded and the file is treated as new file or empty file."
   ]
  },
  {
   "cell_type": "markdown",
   "id": "8b10daa8",
   "metadata": {},
   "source": [
    "8. How do you tell the difference between read() and readlines()?\n",
    "\n",
    "Ans:\n",
    "    read() - This returns the entire content of file as a single string.\n",
    "    \n",
    "readlines() - This returns a set of strings,where each string is the line from the contets of a file."
   ]
  },
  {
   "cell_type": "markdown",
   "id": "389280b2",
   "metadata": {},
   "source": [
    "9. What data structure does a shelf value resemble?\n",
    "\n",
    "Ans:\n",
    "    A shelf value resembles of a dictionary as it contains keys along with values similar to the dictionary."
   ]
  }
 ],
 "metadata": {
  "kernelspec": {
   "display_name": "Python 3 (ipykernel)",
   "language": "python",
   "name": "python3"
  },
  "language_info": {
   "codemirror_mode": {
    "name": "ipython",
    "version": 3
   },
   "file_extension": ".py",
   "mimetype": "text/x-python",
   "name": "python",
   "nbconvert_exporter": "python",
   "pygments_lexer": "ipython3",
   "version": "3.10.0"
  }
 },
 "nbformat": 4,
 "nbformat_minor": 5
}
