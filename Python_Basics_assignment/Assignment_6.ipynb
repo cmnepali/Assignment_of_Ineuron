{
 "cells": [
  {
   "cell_type": "markdown",
   "id": "a315084c",
   "metadata": {},
   "source": [
    "1. What are escape characters, and how do you use them?\n",
    "\n",
    "Ans:\n",
    "    Escape characters are special sequence character used with backslash which interprets to a different meaning when used with a string inside double quote."
   ]
  },
  {
   "cell_type": "markdown",
   "id": "0152a8cf",
   "metadata": {},
   "source": [
    "2. What do the escape characters n and t stand for?\n",
    "\n",
    "Ans: \n",
    "    \\n is for new line and \n",
    "    \\t is for a single tab\n"
   ]
  },
  {
   "cell_type": "markdown",
   "id": "689b76cd",
   "metadata": {},
   "source": [
    "3. What is the way to include backslash characters in a string?\n",
    "\n",
    "Ans: \n",
    "    Backslash character can be included in a string with double backslash.\n"
   ]
  },
  {
   "cell_type": "markdown",
   "id": "84037e09",
   "metadata": {},
   "source": [
    "4. The string  \"Howl's Moving Castle\" is a correct value. Why isn't the single quote character in the\n",
    "word Howl's not escaped a problem?\n",
    "\n",
    "Ans: As we have already used double quotes at the start and end of the string so signle quote in Howl's will not create any problem."
   ]
  },
  {
   "cell_type": "markdown",
   "id": "d9eb2aa2",
   "metadata": {},
   "source": [
    "5. How do you write a string of newlines if you don't want to use the n character?\n",
    "\n",
    "Ans: With using multiline strings we can write strings in new line withot using \"\\n\" character."
   ]
  },
  {
   "cell_type": "markdown",
   "id": "2b180143",
   "metadata": {},
   "source": [
    "6. What are the values of the given expressions?\n",
    "'Hello, world!'[1] 'Hello, world!'[0:5] 'Hello, world!'[:5] 'Hello, world!'[3:]\n",
    "\n",
    "Ans: \n",
    "\n",
    "e\n",
    "\n",
    "Hello\n",
    "\n",
    "Hello\n",
    "\n",
    "lo, world!"
   ]
  },
  {
   "cell_type": "markdown",
   "id": "4943d54e",
   "metadata": {},
   "source": [
    "7. What are the values of the following expressions?\n",
    "'Hello'.upper() 'Hello'.upper().isupper() 'Hello'.upper().lower()\n",
    "\n",
    "Ans:\n",
    "\n",
    "HELLO\n",
    "\n",
    "True\n",
    "\n",
    "hello"
   ]
  },
  {
   "cell_type": "markdown",
   "id": "352ff886",
   "metadata": {},
   "source": [
    "8. What are the values of the following expressions?\n",
    " 'Remember, remember, the fifth of July.'.split() '-'.join('There can only one.'.split())\n",
    "\n",
    "Ans:\n",
    "\n",
    "['Remember,', 'remember,', 'the', 'fifth', 'of', 'November.']\n",
    "\n",
    "'There-can-be-only-one.'\n",
    "\n"
   ]
  },
  {
   "cell_type": "markdown",
   "id": "b7aae2eb",
   "metadata": {},
   "source": [
    "9. What are the methods for right-justifying, left-justifying, and centering a string?\n",
    "\n",
    "Ans: The rjust(), ljust(), and center() string methods, respectively"
   ]
  },
  {
   "cell_type": "markdown",
   "id": "d99108b6",
   "metadata": {},
   "source": [
    "10. What is the best way to remove whitespace characters from the start or end?\n",
    "\n",
    "Ans:\n",
    "strip()\n",
    "\n",
    "lstrip()\n",
    "\n",
    "rstrip()"
   ]
  }
 ],
 "metadata": {
  "kernelspec": {
   "display_name": "Python 3 (ipykernel)",
   "language": "python",
   "name": "python3"
  },
  "language_info": {
   "codemirror_mode": {
    "name": "ipython",
    "version": 3
   },
   "file_extension": ".py",
   "mimetype": "text/x-python",
   "name": "python",
   "nbconvert_exporter": "python",
   "pygments_lexer": "ipython3",
   "version": "3.10.0"
  }
 },
 "nbformat": 4,
 "nbformat_minor": 5
}
