{
 "cells": [
  {
   "cell_type": "markdown",
   "id": "2f50e261",
   "metadata": {},
   "source": [
    "1.How many seconds are in an hour? Use the interactive interpreter as a calculator and multiply the\n",
    "number of seconds in a minute (60) by the number of minutes in an hour (also 60)."
   ]
  },
  {
   "cell_type": "code",
   "execution_count": 1,
   "id": "5a5896fa",
   "metadata": {},
   "outputs": [
    {
     "name": "stdout",
     "output_type": "stream",
     "text": [
      "3600\n"
     ]
    }
   ],
   "source": [
    "print(60*60)"
   ]
  },
  {
   "cell_type": "markdown",
   "id": "74d1a283",
   "metadata": {},
   "source": [
    "2. Assign the result from the previous task (seconds in an hour) to a variable called\n",
    "seconds_per_hour."
   ]
  },
  {
   "cell_type": "code",
   "execution_count": 10,
   "id": "951282dc",
   "metadata": {},
   "outputs": [],
   "source": [
    "second_per_minute=60\n",
    "minute_per_hour=60\n",
    "seconds_per_hour=no_of_sec_in_min*no_of_min_in_hour"
   ]
  },
  {
   "cell_type": "markdown",
   "id": "2ed01787",
   "metadata": {},
   "source": [
    "3. How many seconds do you think there are in a day? Make use of the variables seconds per hour\n",
    "and minutes per hour."
   ]
  },
  {
   "cell_type": "code",
   "execution_count": 11,
   "id": "3549611d",
   "metadata": {},
   "outputs": [
    {
     "data": {
      "text/plain": [
       "86400"
      ]
     },
     "execution_count": 11,
     "metadata": {},
     "output_type": "execute_result"
    }
   ],
   "source": [
    "hour_per_day=24\n",
    "hour_per_day*seconds_per_hour\n"
   ]
  },
  {
   "cell_type": "markdown",
   "id": "ab4bfd72",
   "metadata": {},
   "source": [
    "4. Calculate seconds per day again, but this time save the result in a variable called seconds_per_day"
   ]
  },
  {
   "cell_type": "code",
   "execution_count": 8,
   "id": "f9ee976e",
   "metadata": {},
   "outputs": [
    {
     "name": "stdout",
     "output_type": "stream",
     "text": [
      "86400\n"
     ]
    }
   ],
   "source": [
    "seconds_per_day=hour_per_day*seconds_per_hour\n",
    "print(second_per_day)"
   ]
  },
  {
   "cell_type": "markdown",
   "id": "c81ec662",
   "metadata": {},
   "source": [
    "5. Divide seconds_per_day by seconds_per_hour. Use floating-point (/) division."
   ]
  },
  {
   "cell_type": "code",
   "execution_count": 12,
   "id": "a39a8c22",
   "metadata": {},
   "outputs": [
    {
     "data": {
      "text/plain": [
       "24.0"
      ]
     },
     "execution_count": 12,
     "metadata": {},
     "output_type": "execute_result"
    }
   ],
   "source": [
    "seconds_per_day/seconds_per_hour"
   ]
  },
  {
   "cell_type": "markdown",
   "id": "7b44faba",
   "metadata": {},
   "source": [
    "6. Divide seconds_per_day by seconds_per_hour, using integer (//) division. Did this number agree\n",
    "with the floating-point value from the previous question, aside from the final .0?\n",
    "\n",
    "Ans:\n",
    "    This floating point value round the number after decimal."
   ]
  },
  {
   "cell_type": "code",
   "execution_count": 13,
   "id": "6f18db6e",
   "metadata": {},
   "outputs": [
    {
     "data": {
      "text/plain": [
       "24"
      ]
     },
     "execution_count": 13,
     "metadata": {},
     "output_type": "execute_result"
    }
   ],
   "source": [
    "seconds_per_day//seconds_per_hour"
   ]
  },
  {
   "cell_type": "markdown",
   "id": "b4fff97c",
   "metadata": {},
   "source": [
    "7. Write a generator, genPrimes, that returns the sequence of prime numbers on successive calls to\n",
    "its next() method: 2, 3, 5, 7, 11, ..."
   ]
  },
  {
   "cell_type": "code",
   "execution_count": 22,
   "id": "a6874fd2",
   "metadata": {},
   "outputs": [],
   "source": [
    "def genPrimes() :\n",
    "  prime = []\n",
    "  n = 2 \n",
    "  while True :\n",
    "    for i in Primes :\n",
    "      if n % i == 0:\n",
    "        break \n",
    "    else :\n",
    "      prime.append(n)\n",
    "      yield n \n",
    "    n = n+1  "
   ]
  },
  {
   "cell_type": "code",
   "execution_count": 28,
   "id": "4faa25d5",
   "metadata": {},
   "outputs": [],
   "source": [
    "gen=genPrimes()"
   ]
  },
  {
   "cell_type": "code",
   "execution_count": 33,
   "id": "2fa5e0f6",
   "metadata": {},
   "outputs": [
    {
     "name": "stdout",
     "output_type": "stream",
     "text": [
      "11\n"
     ]
    }
   ],
   "source": [
    "print(next(gen))"
   ]
  }
 ],
 "metadata": {
  "kernelspec": {
   "display_name": "Python 3 (ipykernel)",
   "language": "python",
   "name": "python3"
  },
  "language_info": {
   "codemirror_mode": {
    "name": "ipython",
    "version": 3
   },
   "file_extension": ".py",
   "mimetype": "text/x-python",
   "name": "python",
   "nbconvert_exporter": "python",
   "pygments_lexer": "ipython3",
   "version": "3.10.0"
  }
 },
 "nbformat": 4,
 "nbformat_minor": 5
}
