{
 "cells": [
  {
   "cell_type": "markdown",
   "id": "90d9cec8",
   "metadata": {},
   "source": [
    "1. What is the name of the feature responsible for generating Regex objects?\n",
    "\n",
    "Ans:\n",
    "    re.compile() is the feature responsible for generating regex objects"
   ]
  },
  {
   "cell_type": "markdown",
   "id": "85b1cc7b",
   "metadata": {},
   "source": [
    "2. Why do raw strings often appear in Regex objects?\n",
    "\n",
    "Ans:\n",
    "    Raw strings are used so that backslashes do not have to be escaped."
   ]
  },
  {
   "cell_type": "markdown",
   "id": "69a2a386",
   "metadata": {},
   "source": [
    "3. What is the return value of the search() method?\n",
    "\n",
    "Ans:\n",
    "   It returns a Match object if there is a match."
   ]
  },
  {
   "cell_type": "code",
   "execution_count": null,
   "id": "ccde079b",
   "metadata": {},
   "outputs": [],
   "source": [
    "4. From a Match item, how do you get the actual strings that match the pattern?\n",
    "\n",
    "Ans:\n",
    "      The group() method returns strings of the matched text."
   ]
  },
  {
   "cell_type": "markdown",
   "id": "117ecb35",
   "metadata": {},
   "source": [
    "5. In the regex which created from the r'(\\d\\d\\d)-(\\d\\d\\d-\\d\\d\\d\\d)', what does group zero cover?\n",
    "Group 2? Group 1?\n",
    "\n",
    "Ans:\n",
    "    The Group 0 covers the entire match ,group1 covers the 1st parenthesis set and 2nd group covers the 2nd parenthesis set"
   ]
  },
  {
   "cell_type": "markdown",
   "id": "51f569be",
   "metadata": {},
   "source": [
    "6. In standard expression syntax, parentheses and intervals have distinct meanings. How can you tell\n",
    "a regex that you want it to fit real parentheses and periods?\n",
    "\n",
    "Ans:\n",
    "    Periods and Parentheses can be escaped with the backslash \\. and \\"
   ]
  },
  {
   "cell_type": "markdown",
   "id": "ff485abb",
   "metadata": {},
   "source": [
    "7. The findall() method returns a string list or a list of string tuples. What causes it to return one of\n",
    "the two options?\n",
    "\n",
    "Ans:\n",
    "    If the regex has no groups then list of the string will be returned otherwise if it contains groups then list of the tupels will be returned"
   ]
  },
  {
   "cell_type": "markdown",
   "id": "0e27778a",
   "metadata": {},
   "source": [
    "8. In standard expressions, what does the | character mean?\n",
    "\n",
    "Ans:\n",
    "    In standard expression | is stands for (either/or) between 2 groups "
   ]
  },
  {
   "cell_type": "markdown",
   "id": "186a75d6",
   "metadata": {},
   "source": [
    "9. In regular expressions, what does the character stand for?\n",
    "\n",
    "Ans:\n",
    "    All characters, except those having special meaning in regex, matches themselves. E.g., the regex x matches substring \"x\"; regex 9 matches \"9\"; regex = matches \"=\"; and regex @ matches \"@\"."
   ]
  },
  {
   "cell_type": "markdown",
   "id": "bd4dba02",
   "metadata": {},
   "source": [
    "10.In regular expressions, what is the difference between the + and * characters?\n",
    "\n",
    "Ans:\n",
    "The + matches one or more. The * matches zero or more."
   ]
  },
  {
   "cell_type": "markdown",
   "id": "92304c80",
   "metadata": {},
   "source": [
    "11. What is the difference between {4} and {4,5} in regular expression?\n",
    "\n",
    "Ans:\n",
    "    {4} matches exactly three instances of the preceding group. The {4,5} matches between three and five instances."
   ]
  },
  {
   "cell_type": "markdown",
   "id": "b317dc7b",
   "metadata": {},
   "source": [
    "12. What do you mean by the \\d, \\w, and \\s shorthand character classes signify in regular\n",
    "expressions?\n",
    "\n",
    "Ans:\n",
    "    The \\d, \\w, and \\s shorthand character classes match a single digit, word, or space character, respectively."
   ]
  },
  {
   "cell_type": "markdown",
   "id": "7d1a347b",
   "metadata": {},
   "source": [
    "13. What do means by \\D, \\W, and \\S shorthand character classes signify in regular expressions?\n",
    "\n",
    "Ans:\n",
    "\\D-One character that is not a digit as defined by your engine's \\d\n",
    "\n",
    "\\W-One character that is not a word character as defined by your engine's \\w\n",
    "\n",
    "\\S-One character that is not a whitespace character as defined by your engine's \\s\n",
    "    "
   ]
  },
  {
   "cell_type": "markdown",
   "id": "23322b17",
   "metadata": {},
   "source": [
    "14. What is the difference between .*? and .*?\n",
    "\n",
    "Ans:\n",
    "    (.*?)- matches any character (.) any number of times (*), as few times as possible to make the regex match (?).\n",
    "    \n",
    "(.*)- captures a group zero or one times (?). That group consists of a run of any length (*) of any character (.)"
   ]
  },
  {
   "cell_type": "markdown",
   "id": "10cc7d05",
   "metadata": {},
   "source": [
    "15. What is the syntax for matching both numbers and lowercase letters with a character class?\n",
    "\n",
    "Ans:\n",
    "    the regular expression \"[ A-Za-z] \" or \"[0-9a-z]\" which is the syntax for matching both numbers and lowercase letters with a character class"
   ]
  },
  {
   "cell_type": "markdown",
   "id": "0dfc7387",
   "metadata": {},
   "source": [
    "16. What is the procedure for making a normal expression in regax case insensitive?\n",
    "\n",
    "Ans:\n",
    "    Passing re.I or re.IGNORECASE as the second argument to re.compile() will make the matching case insensitive."
   ]
  },
  {
   "cell_type": "markdown",
   "id": "aa787bbf",
   "metadata": {},
   "source": [
    "17. What does the . character normally match? What does it match if re.DOTALL is passed as 2nd\n",
    "argument in re.compile()?\n",
    "\n",
    "Ans:\n",
    "    The . character normally matches any character except the newline character. If re.DOTALL is passed as the second argument to re.compile(), then the dot will also match newline characters."
   ]
  },
  {
   "cell_type": "markdown",
   "id": "2f6c3785",
   "metadata": {},
   "source": [
    "18. If numReg = re.compile(r'\\d+'), what will numRegex.sub('X', '11 drummers, 10 pipers, five rings, 4\n",
    "hen') return?\n",
    "\n",
    "Ans:\n",
    "X drummers, X pipers, five rings, X hens\n",
    "                           "
   ]
  },
  {
   "cell_type": "markdown",
   "id": "1c714c1c",
   "metadata": {},
   "source": [
    "19. What does passing re.VERBOSE as the 2nd argument to re.compile() allow to do?\n",
    "\n",
    "Ans:\n",
    "    The re.VERBOSE argument allows you to add whitespace and comments to the string passed to re.compile()"
   ]
  }
 ],
 "metadata": {
  "kernelspec": {
   "display_name": "Python 3 (ipykernel)",
   "language": "python",
   "name": "python3"
  },
  "language_info": {
   "codemirror_mode": {
    "name": "ipython",
    "version": 3
   },
   "file_extension": ".py",
   "mimetype": "text/x-python",
   "name": "python",
   "nbconvert_exporter": "python",
   "pygments_lexer": "ipython3",
   "version": "3.10.0"
  }
 },
 "nbformat": 4,
 "nbformat_minor": 5
}
