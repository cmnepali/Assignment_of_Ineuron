{
 "cells": [
  {
   "cell_type": "markdown",
   "id": "6b759f55",
   "metadata": {},
   "source": [
    "# Chandra Mani Nepali Assignment_2"
   ]
  },
  {
   "cell_type": "markdown",
   "id": "24d60f9d",
   "metadata": {},
   "source": [
    "1.What are the two values of the Boolean data type? How do you write them?\n",
    "\n",
    "Ans:\n",
    " The two values of the boolean data type are True and False. \n",
    " They are are written as True or False with their first letter as capital letter."
   ]
  },
  {
   "cell_type": "markdown",
   "id": "5de44c5e",
   "metadata": {},
   "source": [
    "2. What are the three different types of Boolean operators?\n",
    "\n",
    "Ans: Three types of Boolean operators are \"AND\", \"OR\", \"NOT\""
   ]
  },
  {
   "cell_type": "markdown",
   "id": "985c4993",
   "metadata": {},
   "source": [
    "3. Make a list of each Boolean operator&#39;s truth tables (i.e. every possible combination of Boolean\n",
    "values for the operator and what it evaluate ).\n",
    "\n",
    "Ans:\n",
    "    --Using \"AND\" operator\n",
    "    \n",
    "    True and True = True.\n",
    "\n",
    "    True and False = False.\n",
    "\n",
    "    False and True = False.\n",
    "\n",
    "    False and False = False.\n",
    "    \n",
    "    --Using \"OR\" operator\n",
    "    \n",
    "    True or True = True.\n",
    "\n",
    "    True or False = True.\n",
    "\n",
    "    False or True = True.\n",
    "\n",
    "    False or False = False.\n",
    "    \n",
    "    --Using \"NOT\" operator\n",
    "    \n",
    "    not True = False.\n",
    "\n",
    "    not False = True.\n",
    "    \n",
    "    "
   ]
  },
  {
   "cell_type": "markdown",
   "id": "010782cb",
   "metadata": {},
   "source": [
    "4. What are the values of the following expressions?\n",
    "    (5 > 4) and (3 == 5)    \n",
    "    not (5 > 4)\n",
    "    (5 > 4) or (3 == 5)\n",
    "    not ((5 > 4) or (3 == 5))\n",
    "    (True and True) and (True == False)\n",
    "    (not False) or (not True)"
   ]
  },
  {
   "cell_type": "code",
   "execution_count": 1,
   "id": "25e9f085",
   "metadata": {},
   "outputs": [
    {
     "data": {
      "text/plain": [
       "False"
      ]
     },
     "execution_count": 1,
     "metadata": {},
     "output_type": "execute_result"
    }
   ],
   "source": [
    "# Ans:\n",
    "(5 > 4) and (3 == 5) \n",
    "\n",
    "    "
   ]
  },
  {
   "cell_type": "code",
   "execution_count": 2,
   "id": "57815c46",
   "metadata": {},
   "outputs": [
    {
     "data": {
      "text/plain": [
       "False"
      ]
     },
     "execution_count": 2,
     "metadata": {},
     "output_type": "execute_result"
    }
   ],
   "source": [
    "not (5 > 4)"
   ]
  },
  {
   "cell_type": "code",
   "execution_count": 3,
   "id": "6efcce90",
   "metadata": {},
   "outputs": [
    {
     "data": {
      "text/plain": [
       "True"
      ]
     },
     "execution_count": 3,
     "metadata": {},
     "output_type": "execute_result"
    }
   ],
   "source": [
    "(5 > 4) or (3 == 5)"
   ]
  },
  {
   "cell_type": "code",
   "execution_count": 4,
   "id": "1a1c7e6e",
   "metadata": {},
   "outputs": [
    {
     "data": {
      "text/plain": [
       "False"
      ]
     },
     "execution_count": 4,
     "metadata": {},
     "output_type": "execute_result"
    }
   ],
   "source": [
    "not ((5 > 4) or (3 == 5))"
   ]
  },
  {
   "cell_type": "code",
   "execution_count": 5,
   "id": "4c97763f",
   "metadata": {},
   "outputs": [
    {
     "data": {
      "text/plain": [
       "False"
      ]
     },
     "execution_count": 5,
     "metadata": {},
     "output_type": "execute_result"
    }
   ],
   "source": [
    "(True and True) and (True == False)"
   ]
  },
  {
   "cell_type": "code",
   "execution_count": 6,
   "id": "716a954b",
   "metadata": {},
   "outputs": [
    {
     "data": {
      "text/plain": [
       "True"
      ]
     },
     "execution_count": 6,
     "metadata": {},
     "output_type": "execute_result"
    }
   ],
   "source": [
    "(not False) or (not True)"
   ]
  },
  {
   "cell_type": "markdown",
   "id": "02355b81",
   "metadata": {},
   "source": [
    "5. What are the six comparison operators?\n",
    "\n",
    "Ans:\n",
    "    a.Not Equal - '!='\n",
    "    b. Equal to - '=='\n",
    "    c. Greater than - '>'\n",
    "    d. Lesser than - '<'\n",
    "    e. Greater than or Equal to - '>='\n",
    "    f. Lesser than or Equal to - '<='"
   ]
  },
  {
   "cell_type": "markdown",
   "id": "d63dc3f0",
   "metadata": {},
   "source": [
    "6. How do you tell the difference between the equal to and assignment operators? Describe a condition and when you would use one.\n",
    "\n",
    "Ans: \n",
    "     '=' sign is used to assign the value which is on the right side of the variable.\n",
    "    Ex. \n",
    "    b = 3\n",
    "    here, we have assigned the value 3 to the variable b. If we print a it will give us result as 3.\n",
    "    \n",
    "    '==' sign is used to to compare the values and gives result in boolean.\n",
    "    Ex.\n",
    "    10==10 will give us result as True.\n",
    "    While 90==10 will give us result as False."
   ]
  },
  {
   "cell_type": "markdown",
   "id": "07480951",
   "metadata": {},
   "source": [
    "7. Identify the three blocks in this code: spam = 0 if spam == 10: print('eggs') if spam > 5: print('bacon') else: print('ham') print('spam') print('spam')"
   ]
  },
  {
   "cell_type": "code",
   "execution_count": 7,
   "id": "97215d93",
   "metadata": {},
   "outputs": [
    {
     "name": "stdout",
     "output_type": "stream",
     "text": [
      "ham\n",
      "spam\n",
      "spam\n"
     ]
    }
   ],
   "source": [
    "spam = 0\n",
    "# block 1\n",
    "if spam ==10:  \n",
    "    print('eggs')\n",
    "    \n",
    "# block 2    \n",
    "if spam >5:   \n",
    "    print('bacon')\n",
    "\n",
    "# block 3    \n",
    "else:         \n",
    "    print('ham')\n",
    "    print('spam') \n",
    "    print('spam')\n",
    "    "
   ]
  },
  {
   "cell_type": "markdown",
   "id": "864cff68",
   "metadata": {},
   "source": [
    "8. Write code that prints Hello if 1 is stored in spam, prints Howdy if 2 is stored in spam, and prints Greetings! if anything else is stored in spam."
   ]
  },
  {
   "cell_type": "code",
   "execution_count": 9,
   "id": "ad3d9877",
   "metadata": {},
   "outputs": [
    {
     "name": "stdout",
     "output_type": "stream",
     "text": [
      "12\n",
      "Greeting!\n"
     ]
    }
   ],
   "source": [
    "spam = int(input(\"\"))\n",
    "if spam ==1:\n",
    "    print(\"Hello\")\n",
    "if spam ==2:\n",
    "    print(\"Howdy\")\n",
    "else:\n",
    "    print(\"Greeting!\")\n"
   ]
  },
  {
   "cell_type": "markdown",
   "id": "6b1733a4",
   "metadata": {},
   "source": [
    "9. If your programme is stuck in an endless loop, what keys you’ll press?\n",
    "\n",
    "Ans: CTRL+c key is used to stuck from an endless loop."
   ]
  },
  {
   "cell_type": "markdown",
   "id": "e4f76e41",
   "metadata": {},
   "source": [
    "10. How can you tell the difference between break and continue?\n",
    "\n",
    "Ans: \n",
    "    Break-As the statemnt is True at particular point it terminate the execution of loop .\n",
    "    \n",
    "    Continue-If the condition is given,if it trues then it just terminate the current iteration then it continues."
   ]
  },
  {
   "cell_type": "markdown",
   "id": "cec45642",
   "metadata": {},
   "source": [
    "11. In a for loop, what is the difference between range(10), range(0, 10), and range(0, 10, 1)?\n",
    "\n",
    "Ans: range(start, stop, step)\n",
    "    range function return the sequece of number starting from 0 by default, and increments by 1 (by default), and stops before a specified number.\n",
    "    range(10) has no starting so use 0 by default and stops in 9.\n",
    "    range(0,10) has start value is 0 and stops in 9.\n",
    "    range(0,10,1) has all parameter.\n",
    "    \n",
    "    so all have the same result as 0,1,2,3,4,5,6,7,8,9\n"
   ]
  },
  {
   "cell_type": "markdown",
   "id": "9ba96e51",
   "metadata": {},
   "source": [
    "12. Write a short program that prints the numbers 1 to 10 using a for loop. Then write an equivalent\n",
    "program that prints the numbers 1 to 10 using a while loop.    "
   ]
  },
  {
   "cell_type": "code",
   "execution_count": 27,
   "id": "7ec68dc9",
   "metadata": {},
   "outputs": [
    {
     "name": "stdout",
     "output_type": "stream",
     "text": [
      "1 2 3 4 5 6 7 8 9 10 "
     ]
    }
   ],
   "source": [
    "for i in range(1,11):\n",
    "    print(i,end=\" \")\n"
   ]
  },
  {
   "cell_type": "code",
   "execution_count": 28,
   "id": "19295ecb",
   "metadata": {},
   "outputs": [
    {
     "name": "stdout",
     "output_type": "stream",
     "text": [
      "1 2 3 4 5 6 7 8 9 10 "
     ]
    }
   ],
   "source": [
    "i=1\n",
    "while i<=10:\n",
    "    print(i,end=\" \")\n",
    "    i+=1"
   ]
  },
  {
   "cell_type": "markdown",
   "id": "80206ef5",
   "metadata": {},
   "source": [
    "13. If you had a function named bacon() inside a module named spam, how would you call it after importing spam?\n",
    "\n",
    "Ans: spam.bacon()"
   ]
  },
  {
   "cell_type": "code",
   "execution_count": null,
   "id": "b8328762",
   "metadata": {},
   "outputs": [],
   "source": []
  }
 ],
 "metadata": {
  "kernelspec": {
   "display_name": "Python 3 (ipykernel)",
   "language": "python",
   "name": "python3"
  },
  "language_info": {
   "codemirror_mode": {
    "name": "ipython",
    "version": 3
   },
   "file_extension": ".py",
   "mimetype": "text/x-python",
   "name": "python",
   "nbconvert_exporter": "python",
   "pygments_lexer": "ipython3",
   "version": "3.10.0"
  }
 },
 "nbformat": 4,
 "nbformat_minor": 5
}
