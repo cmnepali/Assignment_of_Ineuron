{
 "cells": [
  {
   "cell_type": "markdown",
   "id": "a88aa46d",
   "metadata": {},
   "source": [
    "1. What does RGBA stand for?\n",
    "\n",
    "Ans:\n",
    "    RGBA stands for Red,Green, Blue and Alpha(Transparency) respectively."
   ]
  },
  {
   "cell_type": "markdown",
   "id": "244a54e7",
   "metadata": {},
   "source": [
    "2. From the Pillow module, how do you get the RGBA value of any images?"
   ]
  },
  {
   "cell_type": "code",
   "execution_count": 3,
   "id": "ba240ee3",
   "metadata": {},
   "outputs": [
    {
     "data": {
      "text/plain": [
       "(0, 0, 0, 255)"
      ]
     },
     "execution_count": 3,
     "metadata": {},
     "output_type": "execute_result"
    }
   ],
   "source": [
    "from PIL import ImageColor \n",
    "ImageColor.getcolor('black' , 'RGBA') \n"
   ]
  },
  {
   "cell_type": "markdown",
   "id": "8413e60b",
   "metadata": {},
   "source": [
    "3. What is a box tuple, and how does it work?\n",
    "\n",
    "Ans:\n",
    "    It's a tuple value of four integers in which following contains -\n",
    "    \n",
    "    left edge x-coordinate\n",
    "\n",
    "    top edge y-coordinate\n",
    "\n",
    "    The width\n",
    "\n",
    "    And the Height."
   ]
  },
  {
   "cell_type": "markdown",
   "id": "0934bb6b",
   "metadata": {},
   "source": [
    "4. Use your image and load in notebook then, How can you find out the width and height of an\n",
    "Image object?"
   ]
  },
  {
   "cell_type": "code",
   "execution_count": 5,
   "id": "b655b6bc",
   "metadata": {},
   "outputs": [
    {
     "data": {
      "text/plain": [
       "(800, 482)"
      ]
     },
     "execution_count": 5,
     "metadata": {},
     "output_type": "execute_result"
    }
   ],
   "source": [
    "from PIL import Image \n",
    "myImage = Image.open('1.jpg')\n",
    "width,height = myImage.size \n",
    "width,height"
   ]
  },
  {
   "cell_type": "markdown",
   "id": "38b5443c",
   "metadata": {},
   "source": [
    "5. What method would you call to get Image object for a 100×100 image, excluding the lower-left\n",
    "quarter of it?"
   ]
  },
  {
   "cell_type": "code",
   "execution_count": 8,
   "id": "90ea1349",
   "metadata": {},
   "outputs": [],
   "source": [
    "from PIL import Image\n",
    "img = Image.open('1.jpg')\n",
    "new_img = img.crop((0,50,50,50))"
   ]
  },
  {
   "cell_type": "markdown",
   "id": "5ce6bf67",
   "metadata": {},
   "source": [
    "6. After making changes to an Image object, how could you save it as an image file?"
   ]
  },
  {
   "cell_type": "code",
   "execution_count": 11,
   "id": "600eb639",
   "metadata": {},
   "outputs": [],
   "source": [
    "from PIL import Image\n",
    "pic = Image.open('1.jpg')\n",
    "pic.save('2.jpg')"
   ]
  },
  {
   "cell_type": "markdown",
   "id": "349e5a63",
   "metadata": {},
   "source": [
    "7. What module contains Pillow’s shape-drawing code?\n",
    "\n",
    "Ans:\n",
    "        The ImageDraw module contains Pillow's shape-drawing code."
   ]
  },
  {
   "cell_type": "markdown",
   "id": "52cc4bd3",
   "metadata": {},
   "source": [
    "8. Image objects do not have drawing methods. What kind of object does? How do you get this kind\n",
    "of object?\n",
    "\n",
    "Ans:\n",
    "     ImageDraw() methods have drawing method such as point() , line() and rectangle() ,etc.\n",
    "The can be called by passing ImageDraw.Draw() function."
   ]
  }
 ],
 "metadata": {
  "kernelspec": {
   "display_name": "Python 3 (ipykernel)",
   "language": "python",
   "name": "python3"
  },
  "language_info": {
   "codemirror_mode": {
    "name": "ipython",
    "version": 3
   },
   "file_extension": ".py",
   "mimetype": "text/x-python",
   "name": "python",
   "nbconvert_exporter": "python",
   "pygments_lexer": "ipython3",
   "version": "3.10.0"
  }
 },
 "nbformat": 4,
 "nbformat_minor": 5
}
