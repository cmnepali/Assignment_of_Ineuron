{
 "cells": [
  {
   "cell_type": "markdown",
   "id": "afc3a948",
   "metadata": {},
   "source": [
    "Q1. What is the relationship between classes and modules?"
   ]
  },
  {
   "cell_type": "markdown",
   "id": "fe7a447e",
   "metadata": {},
   "source": [
    "Ans:\n",
    "    Class is like blue print of identical items being identical to each other in various aspect.\n",
    "    Modules-A module is a named collection of declarations (fields, methods, classes, interfaces, sub-modules, etc.) In object-oriented programming modules usually correspond to classes, packages, files, and components."
   ]
  },
  {
   "cell_type": "markdown",
   "id": "9a763a4b",
   "metadata": {},
   "source": [
    "Q2. How do you make instances and classes?"
   ]
  },
  {
   "cell_type": "markdown",
   "id": "6a384e3b",
   "metadata": {},
   "source": [
    "Ans:\n",
    "Classes are simply made by calling class and defining function or either constructor to call the instance within it . Instances are made by by calling  the class for which instance is to create and passing the arguments to the variables .\n",
    "\n",
    "Ex :\n",
    "#### Class Person with name and age.\n",
    "class Person:\n",
    "  def __init__(self, name, age):\n",
    "    self.name = name\n",
    "    self.age = age\n",
    "\n",
    "##### Instance of the class Person    \n",
    "p1 = Person(\"John\", 36)\n"
   ]
  },
  {
   "cell_type": "markdown",
   "id": "67f262ea",
   "metadata": {},
   "source": [
    "Q3. Where and how should be class attributes created?"
   ]
  },
  {
   "cell_type": "markdown",
   "id": "5124867d",
   "metadata": {},
   "source": [
    "Ans:\n",
    "    Class attributes or Class level Attributes belong to the class itself. these attributes will be shared by all the instances of the class. Hence these attributes are usually created/defined in the top of class definiation outside all methods."
   ]
  },
  {
   "cell_type": "markdown",
   "id": "d406e9d3",
   "metadata": {},
   "source": [
    "Q4. Where and how are instance attributes created?"
   ]
  },
  {
   "cell_type": "markdown",
   "id": "3f1f0cb3",
   "metadata": {},
   "source": [
    "Ans:\n",
    "    Instances attributes are passed to the class when an object of the class is created. Unlike class attributes, instance attributes are not shared by all objects of the classs. instead each object maintains its own copy of instance attributes at object level. whereas incase of class attributes all instances of class refer to a single copy. Usually instance attributes are defined within the __init__ method of class\n",
    "Example: In the below sample code we are creating a class Car with instance varaibles color, price, engine, which will be provided when an instance of class Car is created.\n",
    "\n",
    "class Car: \n",
    "    def __init__(self,color,price,engine): \n",
    "    self.color = color \n",
    "#### All this are instance attributes self.price = price self.engine = engine\n",
    "\n",
    "nexon_ev = Car('Indigo Blue', 1400000, 'electric')\n",
    "safari = Car('Pearl White',2100000, 'petrol')\n",
    "\n",
    "nexon_ev, safari are both the instances of class Car with different instance variables."
   ]
  },
  {
   "cell_type": "markdown",
   "id": "feaea5c9",
   "metadata": {},
   "source": [
    "Q5. What does the term &quot;self&quot; in a Python class mean?"
   ]
  },
  {
   "cell_type": "markdown",
   "id": "50c85853",
   "metadata": {},
   "source": [
    "Ans:\n",
    "    self represents the instance of the class (it represents the object itself). By using the “self” keyword we can access the attributes and methods of the class with in the class in python. It binds the attributes with the given arguments."
   ]
  },
  {
   "cell_type": "markdown",
   "id": "5dece2e5",
   "metadata": {},
   "source": [
    "Q6. How does a Python class handle operator overloading?"
   ]
  },
  {
   "cell_type": "markdown",
   "id": "a43225e8",
   "metadata": {},
   "source": [
    "Ans:\n",
    "    Python class handle the operator overloading by identifying the context the data and performing the operation accordingly .\n",
    "Ex:\n",
    "Same add function add str , integer . float values \n",
    "Thus python identify the context of data and perform accordingly.\n"
   ]
  },
  {
   "cell_type": "markdown",
   "id": "d7570df1",
   "metadata": {},
   "source": [
    "Q7. When do you consider allowing operator overloading of your classes?"
   ]
  },
  {
   "cell_type": "markdown",
   "id": "37fd620a",
   "metadata": {},
   "source": [
    "Ans:\n",
    "    When we want to have different meaning for the same operator accroding to the context we use operator overloading."
   ]
  },
  {
   "cell_type": "markdown",
   "id": "5cd57e69",
   "metadata": {},
   "source": [
    "Q8. What is the most popular form of operator overloading?"
   ]
  },
  {
   "cell_type": "markdown",
   "id": "22e45a3c",
   "metadata": {},
   "source": [
    "Ans:\n",
    "    The most popular form of operator overloading in python is by special methods called Magic methods. Which usually beign and end with double underscore ____"
   ]
  },
  {
   "cell_type": "markdown",
   "id": "143ea832",
   "metadata": {},
   "source": [
    "Q9. What are the two most important concepts to grasp in order to comprehend Python OOP code?"
   ]
  },
  {
   "cell_type": "markdown",
   "id": "35fc5d3c",
   "metadata": {},
   "source": [
    "Ans:\n",
    "    Classes and objects are the two concepts to comprehend python OOP code as more formally objects are entities that represent instances of general abstract concept called class\n",
    "\n",
    "Along with classes and objects the important concepts to grasp are:\n",
    "\n",
    "Inheritence\n",
    "Abstraction\n",
    "Polymorphism\n",
    "Encapsulation"
   ]
  }
 ],
 "metadata": {
  "kernelspec": {
   "display_name": "Python 3 (ipykernel)",
   "language": "python",
   "name": "python3"
  },
  "language_info": {
   "codemirror_mode": {
    "name": "ipython",
    "version": 3
   },
   "file_extension": ".py",
   "mimetype": "text/x-python",
   "name": "python",
   "nbconvert_exporter": "python",
   "pygments_lexer": "ipython3",
   "version": "3.10.0"
  }
 },
 "nbformat": 4,
 "nbformat_minor": 5
}
