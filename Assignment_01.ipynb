{
 "cells": [
  {
   "cell_type": "markdown",
   "id": "ae57998d",
   "metadata": {},
   "source": [
    "Q1. What is the purpose of Python&#39;s OOP?"
   ]
  },
  {
   "cell_type": "markdown",
   "id": "c34b530e",
   "metadata": {},
   "source": [
    "Ans:\n",
    "By using Oops we can use concept of Class and objects in programming through which we can implement real world situations like inheritance , polymorphisms etc and code Reusability and follow DRY Principle. "
   ]
  },
  {
   "cell_type": "markdown",
   "id": "4ea4f1fe",
   "metadata": {},
   "source": [
    "Q2. Where does an inheritance search look for an attribute?"
   ]
  },
  {
   "cell_type": "markdown",
   "id": "e2732413",
   "metadata": {},
   "source": [
    "Ans:\n",
    "    Inheritance looks for the attribute starts from the instance under which being generated upto the class from which it’s generated to the superclass if class is listed under it."
   ]
  },
  {
   "cell_type": "markdown",
   "id": "a18d5116",
   "metadata": {},
   "source": [
    "Q3. How do you distinguish between a class object and an instance object?"
   ]
  },
  {
   "cell_type": "markdown",
   "id": "400e05c1",
   "metadata": {},
   "source": [
    "Ans:\n",
    "Class is the template for creating objects in a program,where the object is an instance of a class.The instance object that belongs to class.\n",
    "Every object has a type and the object types are created using class.Instance is an object that belongs to a class.\n",
    "\n",
    "for eg:for instance,list is a class in python"
   ]
  },
  {
   "cell_type": "markdown",
   "id": "cb68454d",
   "metadata": {},
   "source": [
    "Q4. What makes the first argument in a class’s method function special?"
   ]
  },
  {
   "cell_type": "markdown",
   "id": "54df2096",
   "metadata": {},
   "source": [
    "Ans:\n",
    "    self is the first argument in a class method function that makes special"
   ]
  },
  {
   "cell_type": "markdown",
   "id": "418a76c7",
   "metadata": {},
   "source": [
    "Q5. What is the purpose of the __init__ method?"
   ]
  },
  {
   "cell_type": "markdown",
   "id": "0a925630",
   "metadata": {},
   "source": [
    "Ans:\n",
    "    It’s the inbuilt function which allow us to initialize the data used while creating instances of class ."
   ]
  },
  {
   "cell_type": "markdown",
   "id": "3c13f07b",
   "metadata": {},
   "source": [
    "Q6. What is the process for creating a class instance?"
   ]
  },
  {
   "cell_type": "markdown",
   "id": "9d541f50",
   "metadata": {},
   "source": [
    "Ans:\n",
    "    We can creating the class instance using the constructor ( __init__ ) afterward using the pointer and declaring the function and it’s data .\n"
   ]
  },
  {
   "cell_type": "markdown",
   "id": "027de578",
   "metadata": {},
   "source": [
    "Q7. What is the process for creating a class?"
   ]
  },
  {
   "cell_type": "markdown",
   "id": "c0ba2ecb",
   "metadata": {},
   "source": [
    "Ans:\n",
    "a)Create a Class. To create a class\n",
    "b)Create Object. \n",
    "c)The self Parameter.\n",
    "d)Modify Object Properties.\n",
    "e)Delete Object Properties.\n",
    "f)Delete Objects."
   ]
  },
  {
   "cell_type": "markdown",
   "id": "5cf79002",
   "metadata": {},
   "source": [
    "Q8. How would you define the superclasses of a class?"
   ]
  },
  {
   "cell_type": "markdown",
   "id": "770e598f",
   "metadata": {},
   "source": [
    "\n",
    "Ans:\n",
    "A superclass is the class from which many subclasses can be created. The subclasses inherit the characteristics of a superclass. The superclass is also known as the parent class or base class. In the above example, Vehicle is the Superclass and its subclasses are Car.The class from which a class inherits is called the parent or superclass. A class which inherits from a superclass is called a subclass, also called heir class or child class. Superclasses are sometimes called ancestors as well."
   ]
  }
 ],
 "metadata": {
  "kernelspec": {
   "display_name": "Python 3 (ipykernel)",
   "language": "python",
   "name": "python3"
  },
  "language_info": {
   "codemirror_mode": {
    "name": "ipython",
    "version": 3
   },
   "file_extension": ".py",
   "mimetype": "text/x-python",
   "name": "python",
   "nbconvert_exporter": "python",
   "pygments_lexer": "ipython3",
   "version": "3.10.0"
  }
 },
 "nbformat": 4,
 "nbformat_minor": 5
}
