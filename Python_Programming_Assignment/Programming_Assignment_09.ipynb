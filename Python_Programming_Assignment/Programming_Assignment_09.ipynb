{
 "cells": [
  {
   "cell_type": "markdown",
   "id": "41fa2d96",
   "metadata": {},
   "source": [
    "1. Write a Python program to check if the given number is a Disarium Number?"
   ]
  },
  {
   "cell_type": "markdown",
   "id": "6a1751db",
   "metadata": {},
   "source": [
    "A number is said to be the Disarium number when the sum of its digit raised to the power of their respective positions becomes equal to the number itself.\n",
    "\n",
    "For example, 175 is a Disarium number as follows:\n"
   ]
  },
  {
   "cell_type": "code",
   "execution_count": 21,
   "id": "635b0e13",
   "metadata": {},
   "outputs": [
    {
     "name": "stdout",
     "output_type": "stream",
     "text": [
      "Enter Number to check Disarium57\n",
      "57 is Not a Disarium Number.\n"
     ]
    }
   ],
   "source": [
    "def check_disarium(Number):\n",
    "    length = len(str(Number))\n",
    "    Temp = Number\n",
    "    Sum = 0\n",
    "    remainder = 0\n",
    "\n",
    "    while Number > 0:\n",
    "        remainder = Number % 10\n",
    "        Sum = Sum + int(remainder**length)\n",
    "        Number = Number // 10\n",
    "        length = length - 1\n",
    "    \n",
    "    if(Temp==int(Sum)):\n",
    "        return True\n",
    "    else:\n",
    "        return False\n",
    "Number=int(input(\"Enter Number to check Disarium\"))\n",
    "    \n",
    "if check_disarium(Number):\n",
    "    print(\"\\n%d is a Disarium Number.\" %Number)\n",
    "else:\n",
    "    print(\"%d is Not a Disarium Number.\" %Number)\n",
    "\n",
    "\n"
   ]
  },
  {
   "cell_type": "markdown",
   "id": "da9bc760",
   "metadata": {},
   "source": [
    "2. Write a Python program to print all disarium numbers between 1 to 100?"
   ]
  },
  {
   "cell_type": "code",
   "execution_count": 22,
   "id": "357f0396",
   "metadata": {},
   "outputs": [
    {
     "name": "stdout",
     "output_type": "stream",
     "text": [
      "1 2 3 4 5 6 7 8 9 89 "
     ]
    }
   ],
   "source": [
    "for i in range (1,101):\n",
    "    if(check_disarium(i)):\n",
    "        print(i,end=\" \")"
   ]
  },
  {
   "cell_type": "markdown",
   "id": "d455a20e",
   "metadata": {},
   "source": [
    "3. Write a Python program to check if the given number is Happy Number?"
   ]
  },
  {
   "cell_type": "code",
   "execution_count": 23,
   "id": "6ee56a7b",
   "metadata": {},
   "outputs": [
    {
     "name": "stdout",
     "output_type": "stream",
     "text": [
      "Enter a number: 157\n",
      "Not a happy number\n"
     ]
    }
   ],
   "source": [
    "def happynumber(num):\n",
    "    if num==1 or num==7:\n",
    "        return True\n",
    "    else:\n",
    "        total,n = num, num\n",
    "        while total>9:\n",
    "            total = 0\n",
    "            while n>0:\n",
    "                total += (n%10)**2\n",
    "                n //=10\n",
    "            if total == 1:\n",
    "                return True\n",
    "            n = total\n",
    "        if total == 7:\n",
    "            return True\n",
    "        return False\n",
    "\n",
    "num = int(input(\"Enter a number: \"))\n",
    "if happynumber(num):\n",
    "    print(num, \"Happy Number\")\n",
    "else:\n",
    "    print(\"Not a happy number\")"
   ]
  },
  {
   "cell_type": "markdown",
   "id": "4fb73a50",
   "metadata": {},
   "source": [
    "4. Write a Python program to print all happy numbers between 1 and 100?"
   ]
  },
  {
   "cell_type": "code",
   "execution_count": 24,
   "id": "28335b55",
   "metadata": {},
   "outputs": [
    {
     "name": "stdout",
     "output_type": "stream",
     "text": [
      "1 7 10 13 19 23 28 31 32 44 49 68 70 79 82 86 91 94 97 100 "
     ]
    }
   ],
   "source": [
    "for i in range (1,101):\n",
    "    if(happynumber(i)):\n",
    "        print(i,end=\" \")"
   ]
  },
  {
   "cell_type": "markdown",
   "id": "10c0e7f3",
   "metadata": {},
   "source": [
    "5. Write a Python program to determine whether the given number is a Harshad Number?"
   ]
  },
  {
   "cell_type": "code",
   "execution_count": 25,
   "id": "76610284",
   "metadata": {},
   "outputs": [
    {
     "name": "stdout",
     "output_type": "stream",
     "text": [
      "Enter a number:56\n",
      "Its harshad number\n"
     ]
    }
   ],
   "source": [
    "'''If a number is divisible by the sum of its digits, then it will be known as a Harshad Number.\n",
    "For example: The number 156 is divisible by the sum (12) of its digits (1, 5, 6 ).'''\n",
    "\n",
    "inp = input('Enter a number:')\n",
    "n = 0\n",
    "sum=0\n",
    "for digit in inp:\n",
    "     n = n + int(digit)\n",
    "if n// int(inp)==0:\n",
    "    print(\"Its harshad number\")\n",
    "else:\n",
    "    print(\"Its not harshad number\")"
   ]
  },
  {
   "cell_type": "markdown",
   "id": "6d4de736",
   "metadata": {},
   "source": [
    "6. Write a Python program to print all pronic numbers between 1 and 100?"
   ]
  },
  {
   "cell_type": "code",
   "execution_count": 20,
   "id": "6f545336",
   "metadata": {},
   "outputs": [
    {
     "name": "stdout",
     "output_type": "stream",
     "text": [
      "Pronic numbers between 1 and 100 are: \n",
      "2 6 12 20 30 42 56 72 90 "
     ]
    }
   ],
   "source": [
    "def isPronicNumber(num):    \n",
    "    flag = False    \n",
    "    for j in range(1, num+1):\n",
    "        if((j*(j+1)) == num):    \n",
    "            flag = True    \n",
    "            break    \n",
    "    return flag\n",
    "print(\"Pronic numbers between 1 and 100 are: \")  \n",
    "for i in range(1, 101):    \n",
    "    if(isPronicNumber(i)):    \n",
    "        print(i, end=\" \")    "
   ]
  }
 ],
 "metadata": {
  "kernelspec": {
   "display_name": "Python 3 (ipykernel)",
   "language": "python",
   "name": "python3"
  },
  "language_info": {
   "codemirror_mode": {
    "name": "ipython",
    "version": 3
   },
   "file_extension": ".py",
   "mimetype": "text/x-python",
   "name": "python",
   "nbconvert_exporter": "python",
   "pygments_lexer": "ipython3",
   "version": "3.10.0"
  }
 },
 "nbformat": 4,
 "nbformat_minor": 5
}
