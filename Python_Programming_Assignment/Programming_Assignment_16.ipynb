{
 "cells": [
  {
   "cell_type": "markdown",
   "id": "312171be",
   "metadata": {},
   "source": [
    "Question1. Write a function that stutters a word as if someone is struggling to read it. The\n",
    "first two letters are repeated twice with an ellipsis ... and space after each, and then the\n",
    "word is pronounced with a question mark ?.\n",
    "Examples\n",
    "stutter(&quot;incredible&quot;) ➞ &quot;in... in... incredible?&quot;\n",
    "stutter(&quot;enthusiastic&quot;) ➞ &quot;en... en... enthusiastic?&quot;\n",
    "stutter(&quot;outstanding&quot;) ➞ &quot;ou... ou... outstanding?&quot;\n",
    "\n",
    "Hint :- Assume all input is in lower case and at least two characters long."
   ]
  },
  {
   "cell_type": "code",
   "execution_count": 3,
   "id": "9dfe65c5",
   "metadata": {},
   "outputs": [
    {
     "name": "stdout",
     "output_type": "stream",
     "text": [
      "Enter the Word : incredible\n",
      "in... in... incredible?\n",
      "Enter the Word : incredible\n",
      "in... in... incredible?\n",
      "Enter the Word : incredible\n",
      "in... in... incredible?\n"
     ]
    }
   ],
   "source": [
    "def stutter_word():\n",
    "    input_string = input('Enter the Word : ')\n",
    "    output_string = input_string.replace(input_string[0:2],((input_string[0:2]+'... ')*2)+ input_string[0:2])  +'?'\n",
    "    print(output_string)\n",
    "for i in range(3):\n",
    "    stutter_word()   "
   ]
  },
  {
   "cell_type": "markdown",
   "id": "43e836f6",
   "metadata": {},
   "source": [
    "Question 2.Create a function that takes an angle in radians and returns the corresponding\n",
    "angle in degrees rounded to one decimal place.\n",
    "Examples\n",
    "radians_to_degrees(1) ➞ 57.3\n",
    "radians_to_degrees(20) ➞ 1145.9\n",
    "radians_to_degrees(50) ➞ 2864.8"
   ]
  },
  {
   "cell_type": "code",
   "execution_count": 8,
   "id": "f9f7e862",
   "metadata": {},
   "outputs": [
    {
     "name": "stdout",
     "output_type": "stream",
     "text": [
      "1145.9\n"
     ]
    }
   ],
   "source": [
    "import math\n",
    "def radians_to_degree(x):\n",
    "    a=(x*180)/math.pi\n",
    "    print(round(a,1))\n",
    "radians_to_degree(20)   "
   ]
  },
  {
   "cell_type": "markdown",
   "id": "d5bf1e50",
   "metadata": {},
   "source": [
    "Question 3. In this challenge, establish if a given integer num is a Curzon number. If 1 plus\n",
    "2 elevated to num is exactly divisible by 1 plus 2 multiplied by num, then num is a Curzon\n",
    "number.\n",
    "Given a non-negative integer num, implement a function that returns True if num is a Curzon\n",
    "number, or False otherwise.\n",
    "Examples\n",
    "is_curzon(5) ➞ True\n",
    "* 2 ** 5 + 1 = 33\n",
    "* 2 * 5 + 1 = 11\n",
    "* 33 is a multiple of 11\n",
    "is_curzon(10) ➞ False\n",
    "* 2 ** 10 + 1 = 1025\n",
    "* 2 * 10 + 1 = 21\n",
    "* 1025 is not a multiple of 21\n",
    "is_curzon(14) ➞ True\n",
    "* 2 ** 14 + 1 = 16385\n",
    "* 2 * 14 + 1 = 29\n",
    "* 16385 is a multiple of 29"
   ]
  },
  {
   "cell_type": "code",
   "execution_count": 11,
   "id": "c08105cd",
   "metadata": {},
   "outputs": [
    {
     "name": "stdout",
     "output_type": "stream",
     "text": [
      "True\n"
     ]
    }
   ],
   "source": [
    "def is_curzon(x):\n",
    "    a=2**x+1\n",
    "    b=2*x+1\n",
    "    \n",
    "    if (a%b==0):\n",
    "        print(\"True\")\n",
    "    else:\n",
    "        print(\"False\")\n",
    "is_curzon(33)    "
   ]
  },
  {
   "cell_type": "markdown",
   "id": "32cc0bea",
   "metadata": {},
   "source": [
    "Question 4.Given the side length x find the area of a hexagon.\n",
    "\n",
    "Examples\n",
    "area_of_hexagon(1) ➞ 2.6\n",
    "area_of_hexagon(2) ➞ 10.4\n",
    "area_of_hexagon(3) ➞ 23.4"
   ]
  },
  {
   "cell_type": "code",
   "execution_count": 13,
   "id": "0020f30c",
   "metadata": {},
   "outputs": [
    {
     "name": "stdout",
     "output_type": "stream",
     "text": [
      "10.4\n"
     ]
    }
   ],
   "source": [
    "def area_of_hexagon(s): #s is side of the length\n",
    "    area=(3*1.73*s**2)/2\n",
    "    print(round(area,1))\n",
    "\n",
    "area_of_hexagon(2) "
   ]
  },
  {
   "cell_type": "markdown",
   "id": "6f7c7872",
   "metadata": {},
   "source": [
    "Question 5. Create a function that returns a base-2 (binary) representation of a base-10\n",
    "(decimal) string number. To convert is simple: ((2) means base-2 and (10) means base-10)\n",
    "010101001(2) = 1 + 8 + 32 + 128.\n",
    "Going from right to left, the value of the most right bit is 1, now from that every bit to the left\n",
    "will be x2 the value, value of an 8 bit binary numbers are (256, 128, 64, 32, 16, 8, 4, 2, 1).\n",
    "Examples\n",
    "binary(1) ➞ &quot;1&quot;\n",
    "* 1*1 = 1\n",
    "binary(5) ➞ &quot;101&quot;\n",
    "* 1*1 + 1*4 = 5\n",
    "binary(10) ➞ &quot;1010&quot;\n",
    "* 1*2 + 1*8 = 10"
   ]
  },
  {
   "cell_type": "code",
   "execution_count": null,
   "id": "3a6c0440",
   "metadata": {},
   "outputs": [
    {
     "name": "stdout",
     "output_type": "stream",
     "text": [
      "Enter a Number: 10\n",
      "Binary of 10 ➞ 1010\n"
     ]
    }
   ],
   "source": [
    "def getBinary():\n",
    "    in_num = int(input(\"Enter a Number: \"))\n",
    "    out_num = bin(in_num).replace('0b','') \n",
    "    print(f'Binary of {in_num} ➞ {out_num}')\n",
    "\n",
    "for x in range(3):\n",
    "    getBinary()"
   ]
  }
 ],
 "metadata": {
  "kernelspec": {
   "display_name": "Python 3 (ipykernel)",
   "language": "python",
   "name": "python3"
  },
  "language_info": {
   "codemirror_mode": {
    "name": "ipython",
    "version": 3
   },
   "file_extension": ".py",
   "mimetype": "text/x-python",
   "name": "python",
   "nbconvert_exporter": "python",
   "pygments_lexer": "ipython3",
   "version": "3.10.0"
  }
 },
 "nbformat": 4,
 "nbformat_minor": 5
}
