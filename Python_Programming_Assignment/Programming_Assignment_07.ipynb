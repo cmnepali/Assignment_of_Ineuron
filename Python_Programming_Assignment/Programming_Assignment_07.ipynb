{
 "cells": [
  {
   "cell_type": "markdown",
   "id": "94fc58af",
   "metadata": {},
   "source": [
    "1. Write a Python Program to find sum of array?"
   ]
  },
  {
   "cell_type": "code",
   "execution_count": 3,
   "id": "bca143a5",
   "metadata": {},
   "outputs": [
    {
     "name": "stdout",
     "output_type": "stream",
     "text": [
      "Sum of array is = 45\n"
     ]
    }
   ],
   "source": [
    "array = [1, 2, 3, 4, 5, 6, 7, 8, 9]\n",
    "i = 0\n",
    "for a in array:\n",
    "    i += a\n",
    "print(f\"Sum of array is = {s}\")"
   ]
  },
  {
   "cell_type": "markdown",
   "id": "369bd4c3",
   "metadata": {},
   "source": [
    "2. Write a Python Program to find largest element in an array?"
   ]
  },
  {
   "cell_type": "code",
   "execution_count": 6,
   "id": "287ebfff",
   "metadata": {},
   "outputs": [
    {
     "name": "stdout",
     "output_type": "stream",
     "text": [
      "The largest element in given array is 9\n"
     ]
    }
   ],
   "source": [
    "array = [1, 2, 3, 4, 5, 6, 7, 8, 9]\n",
    "l = array[0]\n",
    "for n in array:\n",
    "    if n > l:\n",
    "        l=n\n",
    "print(f\"The largest element in given array is {l}\")"
   ]
  },
  {
   "cell_type": "markdown",
   "id": "895b50fd",
   "metadata": {},
   "source": [
    "3. Write a Python Program for array rotation?"
   ]
  },
  {
   "cell_type": "code",
   "execution_count": 7,
   "id": "30376fe1",
   "metadata": {},
   "outputs": [
    {
     "name": "stdout",
     "output_type": "stream",
     "text": [
      "Rotation direction (left/right): 6\n",
      "Rotate by how many element: 2\n",
      "Invalid Rotation\n",
      "After operation: [1, 2, 3, 4, 5, 6, 7, 8, 9]\n"
     ]
    }
   ],
   "source": [
    "array1 = [1, 2, 3, 4, 5, 6, 7, 8, 9]\n",
    "rotation = input(\"Rotation direction (left/right): \")\n",
    "rotat_by = int(input(\"Rotate by how many element: \"))\n",
    "if rotation == \"left\":\n",
    "    array1 = array1[rotat_by:] + array1[0:rotat_by]\n",
    "elif rotation == \"right\":\n",
    "    array1 = array1[-rotat_by:] + array1[0:-rotat_by]\n",
    "else:\n",
    "    print(\"Invalid Rotation\")\n",
    "print(f\"After operation: {array1}\")"
   ]
  },
  {
   "cell_type": "markdown",
   "id": "b157d472",
   "metadata": {},
   "source": [
    "4. Write a Python Program to Split the array and add the first part to the end?"
   ]
  },
  {
   "cell_type": "code",
   "execution_count": 8,
   "id": "f22ae558",
   "metadata": {},
   "outputs": [
    {
     "name": "stdout",
     "output_type": "stream",
     "text": [
      "After split [5, 6, 7, 8, 9, 1, 2, 3, 4]\n"
     ]
    }
   ],
   "source": [
    "array = [1, 2, 3, 4, 5, 6, 7, 8, 9]\n",
    "split_point = len(array)//2\n",
    "array = array[split_point:] + array[0:split_point]\n",
    "print(f\"After split {array}\")"
   ]
  },
  {
   "cell_type": "markdown",
   "id": "15281f5f",
   "metadata": {},
   "source": [
    "5. Write a Python Program to check if given array is Monotonic?"
   ]
  },
  {
   "cell_type": "code",
   "execution_count": 10,
   "id": "1b13da58",
   "metadata": {},
   "outputs": [
    {
     "name": "stdout",
     "output_type": "stream",
     "text": [
      "Given array is not monotonic\n"
     ]
    }
   ],
   "source": [
    "array = [-7, -10, -5, -4, -3]\n",
    "monotonic = True\n",
    "for i in range(1,len(array)):\n",
    "    if abs(array[i-1] - array[i]) > 1:\n",
    "        monotonic = False\n",
    "if(monotonic):\n",
    "    print(\"Given array is monotonic\")\n",
    "else:\n",
    "    print(\"Given array is not monotonic\")"
   ]
  }
 ],
 "metadata": {
  "kernelspec": {
   "display_name": "Python 3 (ipykernel)",
   "language": "python",
   "name": "python3"
  },
  "language_info": {
   "codemirror_mode": {
    "name": "ipython",
    "version": 3
   },
   "file_extension": ".py",
   "mimetype": "text/x-python",
   "name": "python",
   "nbconvert_exporter": "python",
   "pygments_lexer": "ipython3",
   "version": "3.10.0"
  }
 },
 "nbformat": 4,
 "nbformat_minor": 5
}
