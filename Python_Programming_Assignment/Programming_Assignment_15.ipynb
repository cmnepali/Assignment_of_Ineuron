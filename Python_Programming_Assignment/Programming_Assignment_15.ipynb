{
 "cells": [
  {
   "cell_type": "markdown",
   "id": "ed4ee96a",
   "metadata": {},
   "source": [
    "Question 1:\n",
    "Please write a program using generator to print the numbers which can be divisible by 5 and\n",
    "7 between 0 and n in comma separated form while n is input by console.\n",
    "Example:\n",
    "If the following n is given as input to the program:\n",
    "100\n",
    "Then, the output of the program should be:\n",
    "0,35,70"
   ]
  },
  {
   "cell_type": "code",
   "execution_count": 3,
   "id": "04d5d052",
   "metadata": {},
   "outputs": [
    {
     "name": "stdout",
     "output_type": "stream",
     "text": [
      "Enter the value of n: 50\n",
      "0,35\n"
     ]
    }
   ],
   "source": [
    "def five_seven_divisible(end):\n",
    "    start = 0\n",
    "    while start <= end:\n",
    "        if start % 5 == 0 and start % 7 == 0:\n",
    "            yield start\n",
    "        start += 1\n",
    "\n",
    "limit = int(input(\"Enter the value of n: \"))\n",
    "res =[str(n) for n in five_seven_divisible(limit)]\n",
    "optput = \",\".join(res)\n",
    "print(optput)"
   ]
  },
  {
   "cell_type": "markdown",
   "id": "04f10ae9",
   "metadata": {},
   "source": [
    "Question 2:\n",
    "Please write a program using generator to print the even numbers between 0 and n in comma\n",
    "separated form while n is input by console.\n",
    "Example:\n",
    "If the following n is given as input to the program:\n",
    "10\n",
    "Then, the output of the program should be:\n",
    "0,2,4,6,8,10"
   ]
  },
  {
   "cell_type": "code",
   "execution_count": 5,
   "id": "b0d660a1",
   "metadata": {},
   "outputs": [
    {
     "name": "stdout",
     "output_type": "stream",
     "text": [
      "Enter the value of n10\n",
      "0,2,4,6,8,10\n"
     ]
    }
   ],
   "source": [
    "def even_number_generator(end):\n",
    "    start = 0\n",
    "    while start <= end:\n",
    "        if start%2 == 0:\n",
    "            yield start\n",
    "        start += 1\n",
    "\n",
    "limit = int(input(\"Enter the value of n\"))\n",
    "res =[str(n) for n in even_number_generator(limit)]\n",
    "optput = \",\".join(res)\n",
    "print(optput)"
   ]
  },
  {
   "cell_type": "markdown",
   "id": "24fcad87",
   "metadata": {},
   "source": [
    "Question 3:\n",
    "The Fibonacci Sequence is computed based on the following formula:\n",
    "f(n)=0 if n=0\n",
    "f(n)=1 if n=1\n",
    "f(n)=f(n-1)+f(n-2) if n&gt;1\n",
    "Please write a program using list comprehension to print the Fibonacci Sequence in comma\n",
    "separated form with a given n input by console.\n",
    "Example:\n",
    "If the following n is given as input to the program:\n",
    "7\n",
    "\n",
    "Then, the output of the program should be:\n",
    "0,1,1,2,3,5,8,13"
   ]
  },
  {
   "cell_type": "code",
   "execution_count": 6,
   "id": "8e8fbfc7",
   "metadata": {},
   "outputs": [
    {
     "name": "stdout",
     "output_type": "stream",
     "text": [
      "7\n",
      "0,1,1,2,3,5,8,13\n"
     ]
    }
   ],
   "source": [
    "n = int(input())\n",
    "fib = [0, 1]\n",
    "[fib.append(fib[-2]+fib[-1]) for _ in range(n-1)]\n",
    "op = \",\".join(str(n) for n in fib)\n",
    "print(op)"
   ]
  },
  {
   "cell_type": "markdown",
   "id": "571f7fd5",
   "metadata": {},
   "source": [
    "Question 4:\n",
    "Assuming that we have some email addresses in the &quot;username@companyname.com&quot; format,\n",
    "please write program to print the user name of a given email address. Both user names and\n",
    "company names are composed of letters only.\n",
    "Example:\n",
    "If the following email address is given as input to the program:\n",
    "john@google.com\n",
    "Then, the output of the program should be:\n",
    "john"
   ]
  },
  {
   "cell_type": "code",
   "execution_count": 7,
   "id": "902f1798",
   "metadata": {},
   "outputs": [
    {
     "name": "stdout",
     "output_type": "stream",
     "text": [
      "Enter email: john@google.com \n",
      "Username:  john\n"
     ]
    }
   ],
   "source": [
    "email = input(\"Enter email: \")\n",
    "print(\"Username: \", email.split(\"@\")[0])"
   ]
  },
  {
   "cell_type": "markdown",
   "id": "b3890c26",
   "metadata": {},
   "source": [
    "Question 5:\n",
    "Define a class named Shape and its subclass Square. The Square class has an init function\n",
    "which takes a length as argument. Both classes have a area function which can print the area\n",
    "of the shape where Shape&#39;s area is 0 by default."
   ]
  },
  {
   "cell_type": "code",
   "execution_count": 17,
   "id": "224c9321",
   "metadata": {},
   "outputs": [
    {
     "name": "stdout",
     "output_type": "stream",
     "text": [
      "25\n"
     ]
    }
   ],
   "source": [
    "class Shape:\n",
    "    def __init__(self):\n",
    "        self.area_value = 0\n",
    "    def area(self):\n",
    "        return self.area_value\n",
    "class Square(Shape):\n",
    "    def __init__(self,length):\n",
    "        self.length=length\n",
    "        self.area_value=0\n",
    "    def area(self):\n",
    "        return self.length * self.length\n",
    "square=Square(5)\n",
    "print(square.area())"
   ]
  }
 ],
 "metadata": {
  "kernelspec": {
   "display_name": "Python 3 (ipykernel)",
   "language": "python",
   "name": "python3"
  },
  "language_info": {
   "codemirror_mode": {
    "name": "ipython",
    "version": 3
   },
   "file_extension": ".py",
   "mimetype": "text/x-python",
   "name": "python",
   "nbconvert_exporter": "python",
   "pygments_lexer": "ipython3",
   "version": "3.10.0"
  }
 },
 "nbformat": 4,
 "nbformat_minor": 5
}
