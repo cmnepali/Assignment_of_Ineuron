{
 "cells": [
  {
   "cell_type": "markdown",
   "id": "98ac74aa",
   "metadata": {},
   "source": [
    "1. Write a Python Program to Display Fibonacci Sequence Using Recursion?"
   ]
  },
  {
   "cell_type": "code",
   "execution_count": 9,
   "id": "6f5f6ff8",
   "metadata": {},
   "outputs": [
    {
     "name": "stdout",
     "output_type": "stream",
     "text": [
      "How many fibonacci numbers you wan to display? 6\n",
      "0\n",
      "1\n",
      "1\n",
      "2\n",
      "3\n",
      "5\n"
     ]
    }
   ],
   "source": [
    "def fibonacci(n):\n",
    "    if n <= 1:\n",
    "        return n\n",
    "    return fibonacci(n-1) + fibonacci(n-2)\n",
    "n = int(input(\"How many fibonacci numbers you wan to display? \"))\n",
    "for i in range(n):\n",
    "    print(fibonacci(i))"
   ]
  },
  {
   "cell_type": "markdown",
   "id": "d8bacdd4",
   "metadata": {},
   "source": [
    "2. Write a Python Program to Find Factorial of Number Using Recursion?"
   ]
  },
  {
   "cell_type": "code",
   "execution_count": 12,
   "id": "1e43cef9",
   "metadata": {},
   "outputs": [
    {
     "name": "stdout",
     "output_type": "stream",
     "text": [
      "Enter a number: 5\n",
      "5! = 120\n"
     ]
    }
   ],
   "source": [
    "def factorial(x):\n",
    "    \"\"\"This is a recursive function\n",
    "    to find the factorial of an integer\"\"\"\n",
    "\n",
    "    if x == 1:\n",
    "        return 1\n",
    "    else:\n",
    "        return (x * factorial(x-1))\n",
    "\n",
    "n = int(input(\"Enter a number: \"))\n",
    "print(f\"{n}! = {factorial(n)}\")"
   ]
  },
  {
   "cell_type": "markdown",
   "id": "e2e897b5",
   "metadata": {},
   "source": [
    "3. Write a Python Program to calculate your Body Mass Index?"
   ]
  },
  {
   "cell_type": "code",
   "execution_count": 14,
   "id": "ffeb1af9",
   "metadata": {},
   "outputs": [
    {
     "name": "stdout",
     "output_type": "stream",
     "text": [
      "Enter your weight in KG 56\n",
      "Enter your height in Meter 2.5\n",
      "Your BMI is 8.96 kg/m^2\n",
      "Oops! You are underweight.\n"
     ]
    }
   ],
   "source": [
    "your_weight = float(input(\"Enter your weight in KG \"))\n",
    "your_height = float(input(\"Enter your height in Meter \"))\n",
    "bmi = your_weight / your_height**2\n",
    "\n",
    "print(f\"Your BMI is {bmi} kg/m^2\")\n",
    "\n",
    "if bmi <= 18.5:  \n",
    "    print(\"Oops! You are underweight.\")  \n",
    "elif bmi <= 24.9:  \n",
    "    print(\"Awesome! You are healthy.\")  \n",
    "elif bmi <= 29.9:  \n",
    "    the_print(\"Eee! You are overweight.\")  \n",
    "else:  \n",
    "    print(\"Seesh! You are obese.\")\n"
   ]
  },
  {
   "cell_type": "markdown",
   "id": "48b6f853",
   "metadata": {},
   "source": [
    "4. Write a Python Program to calculate the natural logarithm of any number?"
   ]
  },
  {
   "cell_type": "code",
   "execution_count": 15,
   "id": "c1ba1557",
   "metadata": {},
   "outputs": [
    {
     "name": "stdout",
     "output_type": "stream",
     "text": [
      "Enter a number 5\n",
      "log(5) = 1.6094379124341003\n"
     ]
    }
   ],
   "source": [
    "from math import log\n",
    "n = int(input(\"Enter a number \"))\n",
    "print(f\"log({n}) = {log(n)}\")"
   ]
  },
  {
   "cell_type": "markdown",
   "id": "76b9ce08",
   "metadata": {},
   "source": [
    "5. Write a Python Program for cube sum of first n natural numbers?"
   ]
  },
  {
   "cell_type": "code",
   "execution_count": 19,
   "id": "1510da98",
   "metadata": {},
   "outputs": [
    {
     "name": "stdout",
     "output_type": "stream",
     "text": [
      "Enter the last number of the series 5\n",
      "Sum of first 5 natural numbers = 225\n"
     ]
    }
   ],
   "source": [
    "from math import pow\n",
    "n = int(input(\"Enter the last number of the series \"))\n",
    "s = 0\n",
    "for num in range(1,n+1):\n",
    "    s += pow(num,3)\n",
    "print(f\"Sum of first {n} natural numbers = {int(s)}\")"
   ]
  }
 ],
 "metadata": {
  "kernelspec": {
   "display_name": "Python 3 (ipykernel)",
   "language": "python",
   "name": "python3"
  },
  "language_info": {
   "codemirror_mode": {
    "name": "ipython",
    "version": 3
   },
   "file_extension": ".py",
   "mimetype": "text/x-python",
   "name": "python",
   "nbconvert_exporter": "python",
   "pygments_lexer": "ipython3",
   "version": "3.10.0"
  }
 },
 "nbformat": 4,
 "nbformat_minor": 5
}
