{
 "cells": [
  {
   "cell_type": "markdown",
   "id": "e67057a6",
   "metadata": {},
   "source": [
    "1. Write a Python program to print &quot;Hello Python&quot;?"
   ]
  },
  {
   "cell_type": "code",
   "execution_count": 1,
   "id": "8a49bc8c",
   "metadata": {},
   "outputs": [
    {
     "name": "stdout",
     "output_type": "stream",
     "text": [
      "Hello Python\n"
     ]
    }
   ],
   "source": [
    "print(\"Hello Python\")"
   ]
  },
  {
   "cell_type": "markdown",
   "id": "a5b36789",
   "metadata": {},
   "source": [
    "2. Write a Python program to do arithmetical operations addition and division.?"
   ]
  },
  {
   "cell_type": "code",
   "execution_count": 4,
   "id": "b7a27f01",
   "metadata": {},
   "outputs": [
    {
     "name": "stdout",
     "output_type": "stream",
     "text": [
      "Enter first number5\n",
      "Enter second number6\n",
      "Your sum is: 11\n",
      "Your division is: 0.8333333333333334\n"
     ]
    }
   ],
   "source": [
    "a=int(input(\"Enter first number\"))\n",
    "b=int(input(\"Enter second number\"))\n",
    "print(f\"Your sum is: {a+b}\")\n",
    "print(f\"Your division is: {a/b}\")\n"
   ]
  },
  {
   "cell_type": "markdown",
   "id": "fa02764e",
   "metadata": {},
   "source": [
    "3. Write a Python program to find the area of a triangle?"
   ]
  },
  {
   "cell_type": "code",
   "execution_count": 23,
   "id": "0bc5aa0e",
   "metadata": {},
   "outputs": [
    {
     "name": "stdout",
     "output_type": "stream",
     "text": [
      "The area of the triangle is 94.99\n"
     ]
    }
   ],
   "source": [
    "# Area of triangle is sqrtroot(s(s-a)(s-b)(s-c)) where a,b,c are length of sides and s is semiperimeter\n",
    "a=10\n",
    "b=20\n",
    "c=25\n",
    "s=(a+b+c)/2\n",
    "area=(s*(s-a)*(s-b)*(s-c))**0.5\n",
    "print('The area of the triangle is %0.2f'% area)"
   ]
  },
  {
   "cell_type": "markdown",
   "id": "3cf39cfe",
   "metadata": {},
   "source": [
    "4. Write a Python program to swap two variables?"
   ]
  },
  {
   "cell_type": "code",
   "execution_count": 24,
   "id": "a704e7eb",
   "metadata": {},
   "outputs": [
    {
     "name": "stdout",
     "output_type": "stream",
     "text": [
      "Enter value of x: 5\n",
      "Enter value of y: 6\n",
      "The value of x after swapping: 6\n",
      "The value of y after swapping: 5\n"
     ]
    }
   ],
   "source": [
    "x = input('Enter value of x: ')\n",
    "y = input('Enter value of y: ')\n",
    "x,y=y,x\n",
    "print('The value of x after swapping: {}'.format(x))\n",
    "print('The value of y after swapping: {}'.format(y))"
   ]
  },
  {
   "cell_type": "markdown",
   "id": "807bb705",
   "metadata": {},
   "source": [
    "5. Write a Python program to generate a random number?"
   ]
  },
  {
   "cell_type": "code",
   "execution_count": 29,
   "id": "0c30a6a8",
   "metadata": {},
   "outputs": [
    {
     "name": "stdout",
     "output_type": "stream",
     "text": [
      "10\n"
     ]
    }
   ],
   "source": [
    "import random\n",
    "random_number=random.randint(0,10)\n",
    "print(random_number)"
   ]
  }
 ],
 "metadata": {
  "kernelspec": {
   "display_name": "Python 3 (ipykernel)",
   "language": "python",
   "name": "python3"
  },
  "language_info": {
   "codemirror_mode": {
    "name": "ipython",
    "version": 3
   },
   "file_extension": ".py",
   "mimetype": "text/x-python",
   "name": "python",
   "nbconvert_exporter": "python",
   "pygments_lexer": "ipython3",
   "version": "3.10.0"
  }
 },
 "nbformat": 4,
 "nbformat_minor": 5
}
