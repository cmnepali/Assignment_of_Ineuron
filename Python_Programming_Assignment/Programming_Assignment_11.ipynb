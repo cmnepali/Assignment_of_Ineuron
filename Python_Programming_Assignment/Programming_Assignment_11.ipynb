{
 "cells": [
  {
   "cell_type": "markdown",
   "id": "a563e414",
   "metadata": {},
   "source": [
    "1. Write a Python program to find words which are greater than given length k?"
   ]
  },
  {
   "cell_type": "code",
   "execution_count": 2,
   "id": "5ef7b059",
   "metadata": {},
   "outputs": [
    {
     "name": "stdout",
     "output_type": "stream",
     "text": [
      "Give the length 2\n",
      "['Write', 'Python', 'program', 'find', 'words', 'which', 'are', 'greater', 'than', 'given', 'length']\n"
     ]
    }
   ],
   "source": [
    "myStr = \"Write a Python program to find words which are greater than given length k\"\n",
    "length = int(input(\"Give the length \"))\n",
    "lst = [w for w in myStr.split() if len(w)>length]\n",
    "print(lst)"
   ]
  },
  {
   "cell_type": "markdown",
   "id": "e2d29860",
   "metadata": {},
   "source": [
    "2. Write a Python program for removing i-th character from a string?"
   ]
  },
  {
   "cell_type": "code",
   "execution_count": 4,
   "id": "352417f2",
   "metadata": {},
   "outputs": [
    {
     "name": "stdout",
     "output_type": "stream",
     "text": [
      "Welcome to the ineuron FSDS assignment\n",
      "Enter removing position of character: 5\n",
      "Welcme to the ineuron FSDS assignment\n"
     ]
    }
   ],
   "source": [
    "myStr = \"Welcome to the ineuron FSDS assignment\"\n",
    "print(myStr)\n",
    "position = int(input(\"Enter removing position of character: \"))\n",
    "list=[]\n",
    "list.extend(myStr)\n",
    "del list[position-1]\n",
    "myStr = \"\".join(list)\n",
    "print(myStr)"
   ]
  },
  {
   "cell_type": "markdown",
   "id": "f44d5c5b",
   "metadata": {},
   "source": [
    "3. Write a Python program to split and join a string?"
   ]
  },
  {
   "cell_type": "code",
   "execution_count": 5,
   "id": "0d694cc1",
   "metadata": {},
   "outputs": [
    {
     "name": "stdout",
     "output_type": "stream",
     "text": [
      "After Split:  ['Write', 'a', 'Python', 'program', 'to', 'split', 'and', 'join', 'a', 'string']\n",
      "After join:  Write a Python program to split and join a string\n"
     ]
    }
   ],
   "source": [
    "myStr = \"Write a Python program to split and join a string\"\n",
    "splitter = myStr.split()\n",
    "print(\"After Split: \", splitter)\n",
    "joiner = \" \".join(splitter)\n",
    "print(\"After join: \", joiner)"
   ]
  },
  {
   "cell_type": "markdown",
   "id": "b5e86115",
   "metadata": {},
   "source": [
    "4. Write a Python to check if a given string is binary string or not?"
   ]
  },
  {
   "cell_type": "code",
   "execution_count": 10,
   "id": "428bdc24",
   "metadata": {},
   "outputs": [
    {
     "name": "stdout",
     "output_type": "stream",
     "text": [
      "Binary String\n"
     ]
    }
   ],
   "source": [
    "def check(string) :\n",
    "    b = set(string)\n",
    "    s = {'0', '1'}\n",
    "    if s == b or b == {'0'} or b == {'1'}:\n",
    "        print(\"Binary String\")\n",
    "    else :\n",
    "        print(\"Non Binary String\")\n",
    "# check\n",
    "s1=\"1010\"\n",
    "check(s1)"
   ]
  },
  {
   "cell_type": "markdown",
   "id": "904486e6",
   "metadata": {},
   "source": [
    "5. Write a Python program to find uncommon words from two Strings?"
   ]
  },
  {
   "cell_type": "code",
   "execution_count": 15,
   "id": "7c409714",
   "metadata": {},
   "outputs": [
    {
     "name": "stdout",
     "output_type": "stream",
     "text": [
      "['famous', 'now', 'a', 'day.', 'challenging']\n"
     ]
    }
   ],
   "source": [
    "def uncommon_words(s1, s2):\n",
    "    count = {}\n",
    "    for word in s1.split():\n",
    "        count[word] = count.get(word, 0) + 1\n",
    "    # words of string s2\n",
    "    for word in s2.split():\n",
    "        count[word] = count.get(word, 0) + 1\n",
    "    # return required list of words\n",
    "    return [word for word in count if count[word] == 1]\n",
    "\n",
    "s1=\"Data Science is famous now a day.\"\n",
    "s2=\"Data Science is challenging\"\n",
    "  \n",
    "\n",
    "print(uncommon_words(s1, s2))"
   ]
  },
  {
   "cell_type": "markdown",
   "id": "80a562a3",
   "metadata": {},
   "source": [
    "6. Write a Python to find all duplicate characters in string?"
   ]
  },
  {
   "cell_type": "code",
   "execution_count": null,
   "id": "52d48716",
   "metadata": {},
   "outputs": [],
   "source": [
    "myStr = \"Write a Python to find all duplicate characters in string\"\n",
    "res = {c for c in myStr if myStr.count(c)>1 }\n",
    "print(res)"
   ]
  },
  {
   "cell_type": "markdown",
   "id": "de074272",
   "metadata": {},
   "source": [
    "7. Write a Python Program to check if a string contains any special character?"
   ]
  },
  {
   "cell_type": "code",
   "execution_count": 16,
   "id": "1751a2d6",
   "metadata": {},
   "outputs": [
    {
     "name": "stdout",
     "output_type": "stream",
     "text": [
      "Enter a string ra,\n",
      "Special character avaialable\n"
     ]
    }
   ],
   "source": [
    "from string import punctuation\n",
    "def hasSpecialChar(string):\n",
    "    for c in string:\n",
    "        if c in punctuation:\n",
    "            return True\n",
    "    return False\n",
    "string = input(\"Enter a string: \")\n",
    "if hasSpecialChar(string):\n",
    "    print(\"Special character avaialable\")\n",
    "else:\n",
    "    print(\"Special character not available\")"
   ]
  }
 ],
 "metadata": {
  "kernelspec": {
   "display_name": "Python 3 (ipykernel)",
   "language": "python",
   "name": "python3"
  },
  "language_info": {
   "codemirror_mode": {
    "name": "ipython",
    "version": 3
   },
   "file_extension": ".py",
   "mimetype": "text/x-python",
   "name": "python",
   "nbconvert_exporter": "python",
   "pygments_lexer": "ipython3",
   "version": "3.10.0"
  }
 },
 "nbformat": 4,
 "nbformat_minor": 5
}
