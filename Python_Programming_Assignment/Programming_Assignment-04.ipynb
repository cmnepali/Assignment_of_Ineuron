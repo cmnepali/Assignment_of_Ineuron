{
 "cells": [
  {
   "cell_type": "markdown",
   "id": "28a7b54b",
   "metadata": {},
   "source": [
    "1. Write a Python Program to Find the Factorial of a Number?"
   ]
  },
  {
   "cell_type": "code",
   "execution_count": 3,
   "id": "22ac8204",
   "metadata": {},
   "outputs": [
    {
     "name": "stdout",
     "output_type": "stream",
     "text": [
      "enter a number : 3\n",
      "factorial of 3 is 6\n"
     ]
    }
   ],
   "source": [
    "#Taking input of number\n",
    "number = int(input(\"enter a number : \"))\n",
    "factorial = 1\n",
    "\n",
    "if number == 0 :\n",
    "    print(\"The factorial of Zero is 1\")\n",
    "elif number < 0 :\n",
    "    print(\"Factorial cannot be calculated for negative values\")\n",
    "else :\n",
    "    for i in range(1,number+1):\n",
    "        factorial = factorial * i\n",
    "print(\"factorial of {} is {}\".format(number,factorial))"
   ]
  },
  {
   "cell_type": "markdown",
   "id": "62a63176",
   "metadata": {},
   "source": [
    "2. Write a Python Program to Display the multiplication Table?"
   ]
  },
  {
   "cell_type": "code",
   "execution_count": 4,
   "id": "33cf6025",
   "metadata": {},
   "outputs": [
    {
     "name": "stdout",
     "output_type": "stream",
     "text": [
      "Enter a table you want:5\n",
      "5 * 1 = 5\n",
      "5 * 2 = 10\n",
      "5 * 3 = 15\n",
      "5 * 4 = 20\n",
      "5 * 5 = 25\n",
      "5 * 6 = 30\n",
      "5 * 7 = 35\n",
      "5 * 8 = 40\n",
      "5 * 9 = 45\n",
      "5 * 10 = 50\n"
     ]
    }
   ],
   "source": [
    "n=int(input(\"Enter a table that you want: \"))\n",
    "for i in range(1,11):\n",
    "    print(n,\"*\",i,\"=\",n*i)"
   ]
  },
  {
   "cell_type": "markdown",
   "id": "a92c0cbf",
   "metadata": {},
   "source": [
    "3. Write a Python Program to Print the Fibonacci sequence?"
   ]
  },
  {
   "cell_type": "code",
   "execution_count": 6,
   "id": "e6772a57",
   "metadata": {},
   "outputs": [
    {
     "name": "stdout",
     "output_type": "stream",
     "text": [
      "How many terms? 1\n",
      "Fibonacci sequence upto 1 :\n",
      "0\n"
     ]
    }
   ],
   "source": [
    "n = int(input(\"How many terms? \"))\n",
    "a,b = 0, 1\n",
    "count = 0\n",
    "if n <= 0:\n",
    "    print(\"Please enter positive number\")\n",
    "elif n == 1:\n",
    "    print(\"Fibonacci sequence upto\",n,\":\")\n",
    "    print(a)\n",
    "else:\n",
    "    print(\"Fibonacci sequence:\")\n",
    "    while count < n:\n",
    "        print(a)\n",
    "        c = a+b\n",
    "        a = b\n",
    "        b = c\n",
    "        count += 1"
   ]
  },
  {
   "cell_type": "markdown",
   "id": "ad95864c",
   "metadata": {},
   "source": [
    "4. Write a Python Program to Check Armstrong Number?"
   ]
  },
  {
   "cell_type": "code",
   "execution_count": 7,
   "id": "c94d5fab",
   "metadata": {},
   "outputs": [
    {
     "name": "stdout",
     "output_type": "stream",
     "text": [
      "Enter a number to check if it's an Armstrong Number : 5\n",
      "5 is a Armstrong Number\n"
     ]
    }
   ],
   "source": [
    "x = int(input(\"Enter a number to check if it's an Armstrong Number : \"))\n",
    "s = str(x)\n",
    "n = len(s)\n",
    "n\n",
    "y = 0\n",
    "for i in range(n):\n",
    "    y += int(s[i])**n\n",
    "if y == x :\n",
    "    print(f\"{x} is a Armstrong Number\")\n",
    "else :\n",
    "    print(f\"{x} is not a Armstrong Number\")"
   ]
  },
  {
   "cell_type": "markdown",
   "id": "47e07e61",
   "metadata": {},
   "source": [
    "5. Write a Python Program to Find Armstrong Number in an Interval?"
   ]
  },
  {
   "cell_type": "code",
   "execution_count": 8,
   "id": "8c069528",
   "metadata": {},
   "outputs": [
    {
     "name": "stdout",
     "output_type": "stream",
     "text": [
      "Lower value of Interval : 5\n",
      "Higher value of Interval : 6\n",
      "[5]\n"
     ]
    }
   ],
   "source": [
    "a = int(input(\"Lower value of Interval : \"))\n",
    "b = int(input(\"Higher value of Interval : \"))\n",
    "l = []\n",
    "for x in range(a,b):\n",
    "    s = str(x)\n",
    "    n = len(s)\n",
    "    y = 0\n",
    "    for i in range(n):\n",
    "        y += int(s[i])**n\n",
    "    if y == x :\n",
    "        l.append(y)\n",
    "print(l)"
   ]
  },
  {
   "cell_type": "markdown",
   "id": "4d32e95d",
   "metadata": {},
   "source": [
    "6. Write a Python Program to Find the Sum of Natural Numbers?"
   ]
  },
  {
   "cell_type": "code",
   "execution_count": 9,
   "id": "a519b663",
   "metadata": {},
   "outputs": [
    {
     "name": "stdout",
     "output_type": "stream",
     "text": [
      "enter a sum of the number5\n",
      "15\n"
     ]
    }
   ],
   "source": [
    "n=int(input('enter a sum of the number'))\n",
    "print(int(n*(n+1)/2))"
   ]
  }
 ],
 "metadata": {
  "kernelspec": {
   "display_name": "Python 3 (ipykernel)",
   "language": "python",
   "name": "python3"
  },
  "language_info": {
   "codemirror_mode": {
    "name": "ipython",
    "version": 3
   },
   "file_extension": ".py",
   "mimetype": "text/x-python",
   "name": "python",
   "nbconvert_exporter": "python",
   "pygments_lexer": "ipython3",
   "version": "3.10.0"
  }
 },
 "nbformat": 4,
 "nbformat_minor": 5
}
