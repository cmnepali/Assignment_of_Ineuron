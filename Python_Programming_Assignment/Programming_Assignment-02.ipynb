{
 "cells": [
  {
   "cell_type": "markdown",
   "id": "be8ce79c",
   "metadata": {},
   "source": [
    "1. Write a Python program to convert kilometers to miles?"
   ]
  },
  {
   "cell_type": "code",
   "execution_count": 14,
   "id": "e0778784",
   "metadata": {},
   "outputs": [
    {
     "name": "stdout",
     "output_type": "stream",
     "text": [
      "Enter the value in Kilometer: 25\n",
      "25.00 km is equal to 15.53 miles\n"
     ]
    }
   ],
   "source": [
    "km = int(input(\"Enter the value in Kilometer: \"))\n",
    "con_factor=0.621371\n",
    "mile=km*con_factor\n",
    "print('%0.2f km is equal to %0.2f miles' %(km,mile))"
   ]
  },
  {
   "cell_type": "markdown",
   "id": "f0d7b922",
   "metadata": {},
   "source": [
    "2. Write a Python program to convert Celsius to Fahrenheit?"
   ]
  },
  {
   "cell_type": "code",
   "execution_count": 19,
   "id": "595ec382",
   "metadata": {},
   "outputs": [
    {
     "name": "stdout",
     "output_type": "stream",
     "text": [
      "Enter Temperature value in Celcius 98.6\n",
      "98.60 Celsius is equal to 37.00 Fahrenheit\n"
     ]
    }
   ],
   "source": [
    "# Fahrenheit = (Celsius - 32) * 0.5556\n",
    "\n",
    "#Input of Temp in Celsius\n",
    "Celsius = float(input(\"Enter Temperature value in Celcius \"))\n",
    "\n",
    "#Conversion of Celsius to Fahrenheit \n",
    "\n",
    "Fahrenheit = (Celsius - 32) * .5556\n",
    "print('%0.2f Celsius is equal to %0.2f Fahrenheit' %(Celsius,Fahrenheit))\n"
   ]
  },
  {
   "cell_type": "markdown",
   "id": "6c36d48f",
   "metadata": {},
   "source": [
    "3. Write a Python program to display calendar?"
   ]
  },
  {
   "cell_type": "code",
   "execution_count": 20,
   "id": "762fc129",
   "metadata": {},
   "outputs": [
    {
     "name": "stdout",
     "output_type": "stream",
     "text": [
      "Enter the year2023\n",
      "Enter the month1\n",
      "    January 2023\n",
      "Mo Tu We Th Fr Sa Su\n",
      "                   1\n",
      " 2  3  4  5  6  7  8\n",
      " 9 10 11 12 13 14 15\n",
      "16 17 18 19 20 21 22\n",
      "23 24 25 26 27 28 29\n",
      "30 31\n",
      "\n"
     ]
    }
   ],
   "source": [
    "import calendar\n",
    "years=int(input(\"Enter the year\"))\n",
    "months=int(input(\"Enter the month\"))\n",
    "print(calendar.month(years,months))"
   ]
  },
  {
   "cell_type": "markdown",
   "id": "63848ddd",
   "metadata": {},
   "source": [
    "4. Write a Python program to solve quadratic equation?"
   ]
  },
  {
   "cell_type": "code",
   "execution_count": 21,
   "id": "7788111d",
   "metadata": {},
   "outputs": [
    {
     "name": "stdout",
     "output_type": "stream",
     "text": [
      "Enter first number1\n",
      "Enter second number2\n",
      "Enter first number6\n",
      "The solution are (-1-2.23606797749979j) and (-1+2.23606797749979j)\n"
     ]
    }
   ],
   "source": [
    "# import complex math module\n",
    "import cmath\n",
    "\n",
    "a = int(input(\"Enter first number\"))\n",
    "b = int(input(\"Enter second number\"))\n",
    "c = int(input(\"Enter first number\"))\n",
    "\n",
    "# calculate the discriminant\n",
    "d = (b**2) - (4*a*c)\n",
    "\n",
    "# find two solutions\n",
    "sol1 = (-b-cmath.sqrt(d))/(2*a)\n",
    "sol2 = (-b+cmath.sqrt(d))/(2*a)\n",
    "\n",
    "print('The solution are {0} and {1}'.format(sol1,sol2))"
   ]
  },
  {
   "cell_type": "markdown",
   "id": "82d83720",
   "metadata": {},
   "source": [
    "5. Write a Python program to swap two variables without temp variable?"
   ]
  },
  {
   "cell_type": "code",
   "execution_count": 22,
   "id": "febdffbd",
   "metadata": {},
   "outputs": [
    {
     "name": "stdout",
     "output_type": "stream",
     "text": [
      "Enter value for p - 3\n",
      "Enter value for q - 6\n",
      "p = 6\n",
      "q = 3\n"
     ]
    }
   ],
   "source": [
    "p = int(input(\"Enter value for p - \"))\n",
    "q = int(input(\"Enter value for q - \"))\n",
    "\n",
    "p,q = q,p \n",
    "\n",
    "print(\"p =\" , p)\n",
    "print(\"q =\" , q)\n",
    "     "
   ]
  }
 ],
 "metadata": {
  "kernelspec": {
   "display_name": "Python 3 (ipykernel)",
   "language": "python",
   "name": "python3"
  },
  "language_info": {
   "codemirror_mode": {
    "name": "ipython",
    "version": 3
   },
   "file_extension": ".py",
   "mimetype": "text/x-python",
   "name": "python",
   "nbconvert_exporter": "python",
   "pygments_lexer": "ipython3",
   "version": "3.10.0"
  }
 },
 "nbformat": 4,
 "nbformat_minor": 5
}
