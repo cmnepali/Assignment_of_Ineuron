{
 "cells": [
  {
   "cell_type": "markdown",
   "id": "5a4420c6",
   "metadata": {},
   "source": [
    "1. Write a Python Program to Find LCM?"
   ]
  },
  {
   "cell_type": "code",
   "execution_count": 23,
   "id": "a4b1099e",
   "metadata": {},
   "outputs": [
    {
     "name": "stdout",
     "output_type": "stream",
     "text": [
      "Enter first numbr6\n",
      "Enter second number66\n",
      "The LCM of 6 and 66 is 66\n"
     ]
    }
   ],
   "source": [
    "def calculate_lcm(x, y):  \n",
    "    # selecting the greater number  \n",
    "    if x > y:  \n",
    "        greater = x  \n",
    "    else:  \n",
    "        greater = y  \n",
    "    while(True):  \n",
    "        if((greater % x == 0) and (greater % y == 0)):  \n",
    "            lcm = greater  \n",
    "            break  \n",
    "        greater += 1  \n",
    "    return lcm    \n",
    "  \n",
    "# taking input from user\n",
    "a=int(input('Enter first numbr'))\n",
    "b=int(input('Enter second number'))\n",
    "# showing the result\n",
    "print(\"The LCM of\",a, \"and\",b,\"is\",calculate_lcm(a,b))\n",
    "    "
   ]
  },
  {
   "cell_type": "markdown",
   "id": "f2a33bb5",
   "metadata": {},
   "source": [
    "2. Write a Python Program to Find HCF?"
   ]
  },
  {
   "cell_type": "code",
   "execution_count": 8,
   "id": "e9458726",
   "metadata": {},
   "outputs": [
    {
     "name": "stdout",
     "output_type": "stream",
     "text": [
      "Enter first numbr2\n",
      "Enter second number6\n",
      "The HCF of 2 and 6 is 2\n"
     ]
    }
   ],
   "source": [
    "def calculate_hcf(x, y):  \n",
    "    # selecting the smaller number  \n",
    "    if x > y:  \n",
    "        smaller = y  \n",
    "    else:  \n",
    "        smaller = x  \n",
    "    for i in range(1,smaller + 1):  \n",
    "        if((x % i == 0) and (y % i == 0)):  \n",
    "            hcf = i  \n",
    "    return hcf \n",
    "# taking input from user\n",
    "a=int(input('Enter first numbr'))\n",
    "b=int(input('Enter second number'))\n",
    "# showing the result\n",
    "print(\"The HCF of\",a, \"and\",b,\"is\",calculate_hcf(a,b))"
   ]
  },
  {
   "cell_type": "markdown",
   "id": "9a5d347f",
   "metadata": {},
   "source": [
    "3. Write a Python Program to Convert Decimal to Binary, Octal and Hexadecimal?"
   ]
  },
  {
   "cell_type": "code",
   "execution_count": 14,
   "id": "ccc7ddcf",
   "metadata": {},
   "outputs": [
    {
     "name": "stdout",
     "output_type": "stream",
     "text": [
      "Enter a decimal number 30\n",
      "binary number of 30 is 11110\n",
      "octal number of 30 is 36\n",
      "Hexadecimal nuber of 30 is 1E\n"
     ]
    }
   ],
   "source": [
    "num = int(input(\"Enter a decimal number \"))\n",
    "binary = 0\n",
    "octal = 0\n",
    "hexa = \"\"\n",
    "hex_table ={1:'1', 2:'2', 3:'3', 4:'4', 5:'5', 6:'6', 7:'7', 8:'8', 9:'9', 10:'A', 11:'B', 12:'C', 13:'D', 14:'E',15:'F'}\n",
    "\n",
    "temp = num\n",
    "i=0\n",
    "while temp > 0:\n",
    "    remainder = temp % 2\n",
    "    binary =  binary + (10**i)*remainder\n",
    "    temp = temp // 2\n",
    "    i += 1\n",
    "print(f\"binary number of {num} is {binary}\")\n",
    "\n",
    "temp = num\n",
    "i=0\n",
    "while temp > 0:\n",
    "    remainder = temp % 8\n",
    "    octal = octal + (10**i)*remainder\n",
    "    temp = temp //8\n",
    "    i += 1\n",
    "print(f\"octal number of {num} is {octal}\")\n",
    "\n",
    "temp = num\n",
    "while temp > 0:\n",
    "    remainder = temp % 16\n",
    "    hexa += hex_table.get(remainder)\n",
    "    temp = temp // 16\n",
    "print(f\"Hexadecimal nuber of {num} is {hexa[::-1]}\")"
   ]
  },
  {
   "cell_type": "markdown",
   "id": "a4786d46",
   "metadata": {},
   "source": [
    "4. Write a Python Program To Find ASCII value of a character?"
   ]
  },
  {
   "cell_type": "code",
   "execution_count": 15,
   "id": "75293979",
   "metadata": {},
   "outputs": [
    {
     "name": "stdout",
     "output_type": "stream",
     "text": [
      "Enter a single character 2\n",
      "ASCII value of 2 is 50\n"
     ]
    }
   ],
   "source": [
    "ch = input(\"Enter a single character \")\n",
    "print(f\"ASCII value of {ch} is {ord(ch)}\")"
   ]
  },
  {
   "cell_type": "markdown",
   "id": "e5ff10f3",
   "metadata": {},
   "source": [
    "5. Write a Python Program to Make a Simple Calculator with 4 basic mathematical operations?"
   ]
  },
  {
   "cell_type": "code",
   "execution_count": 26,
   "id": "db716e68",
   "metadata": {},
   "outputs": [
    {
     "name": "stdout",
     "output_type": "stream",
     "text": [
      "Enter first number: 5\n",
      "Operator(+, -, *, /):  +\n",
      "Enter second number: 6\n",
      "5 + 6 = 11\n"
     ]
    }
   ],
   "source": [
    "num_1 = int(input(\"Enter first number: \"))\n",
    "op = input(\"Operator(+, -, *, /):  \")\n",
    "num_2 = int(input(\"Enter second number: \"))\n",
    "if op == '+':\n",
    "    print(f\"{num_1} {op} {num_2} = {num_1 + num_2}\")\n",
    "elif op == '-':\n",
    "    print(f\"{num_1} {op} {num_2} = {num_1 - num_2}\")\n",
    "elif op == '*':\n",
    "    print(f\"{num_1} {op} {num_2} = {num_1 * num_2}\")\n",
    "elif op == '/':\n",
    "    print(f\"{num_1} {op} {num_2} = {num_1 / num_2}\")\n",
    "else:\n",
    "    print(\"Inavlid Operation\")"
   ]
  },
  {
   "cell_type": "code",
   "execution_count": null,
   "id": "a2edc1c1",
   "metadata": {},
   "outputs": [],
   "source": []
  }
 ],
 "metadata": {
  "kernelspec": {
   "display_name": "Python 3 (ipykernel)",
   "language": "python",
   "name": "python3"
  },
  "language_info": {
   "codemirror_mode": {
    "name": "ipython",
    "version": 3
   },
   "file_extension": ".py",
   "mimetype": "text/x-python",
   "name": "python",
   "nbconvert_exporter": "python",
   "pygments_lexer": "ipython3",
   "version": "3.10.0"
  }
 },
 "nbformat": 4,
 "nbformat_minor": 5
}
