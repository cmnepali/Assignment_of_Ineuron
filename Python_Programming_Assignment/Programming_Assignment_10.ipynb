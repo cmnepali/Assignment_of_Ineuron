{
 "cells": [
  {
   "cell_type": "markdown",
   "id": "bef25335",
   "metadata": {},
   "source": [
    "1. Write a Python program to find sum of elements in list?"
   ]
  },
  {
   "cell_type": "code",
   "execution_count": 8,
   "id": "82508a5c",
   "metadata": {},
   "outputs": [
    {
     "name": "stdout",
     "output_type": "stream",
     "text": [
      "[1, 2, 5, 7]\n",
      "sum of list:  15\n"
     ]
    }
   ],
   "source": [
    "def sum_list(list):\n",
    "    sum=0\n",
    "    for i in range(len(list)):\n",
    "        sum = sum+list[i]\n",
    "    return sum\n",
    "\n",
    "#initialise list\n",
    "list = [1,2,5,7]\n",
    "print(list)\n",
    "print(\"sum of list: \",sum_list(list))"
   ]
  },
  {
   "cell_type": "markdown",
   "id": "4d32613d",
   "metadata": {},
   "source": [
    "2. Write a Python program to Multiply all numbers in the list?"
   ]
  },
  {
   "cell_type": "code",
   "execution_count": 13,
   "id": "fb8839a8",
   "metadata": {},
   "outputs": [
    {
     "name": "stdout",
     "output_type": "stream",
     "text": [
      "[1, 2, 7]\n",
      "Multiply of list:  14\n"
     ]
    }
   ],
   "source": [
    "def multiply_list(list):\n",
    "    mul=1\n",
    "    for i in (list):\n",
    "        mul = mul*i\n",
    "    return mul\n",
    "\n",
    "#initialise list\n",
    "list = [1,2,7]\n",
    "print(list)\n",
    "print(\"Multiply of list: \",multiply_list(list))"
   ]
  },
  {
   "cell_type": "markdown",
   "id": "610db6d8",
   "metadata": {},
   "source": [
    "3. Write a Python program to find smallest number in a list?"
   ]
  },
  {
   "cell_type": "code",
   "execution_count": 20,
   "id": "b18d56f4",
   "metadata": {},
   "outputs": [
    {
     "name": "stdout",
     "output_type": "stream",
     "text": [
      "[-1, 1, 2, 7]\n",
      "Smallest element of list:  -1\n"
     ]
    }
   ],
   "source": [
    "def smallest_list(list):\n",
    "    small=list[0]\n",
    "    for i in (list):\n",
    "        if i<small:\n",
    "            small = i\n",
    "    return small\n",
    "\n",
    "#initialise list\n",
    "list = [-1,1,2,7]\n",
    "print(list)\n",
    "print(\"Smallest element of list: \",smallest_list(list))"
   ]
  },
  {
   "cell_type": "markdown",
   "id": "7f29ef1c",
   "metadata": {},
   "source": [
    "4. Write a Python program to find largest number in a list?"
   ]
  },
  {
   "cell_type": "code",
   "execution_count": 21,
   "id": "628f4309",
   "metadata": {},
   "outputs": [
    {
     "name": "stdout",
     "output_type": "stream",
     "text": [
      "[-1, 1, 2, 7]\n",
      "Largest element of list:  7\n"
     ]
    }
   ],
   "source": [
    "def largest_list(list):\n",
    "    large=list[0]\n",
    "    for i in (list):\n",
    "        if i>large:\n",
    "            large = i\n",
    "    return large\n",
    "\n",
    "#initialise list\n",
    "list = [-1,1,2,7]\n",
    "print(list)\n",
    "print(\"Largest element of list: \",largest_list(list))"
   ]
  },
  {
   "cell_type": "markdown",
   "id": "2f9b6805",
   "metadata": {},
   "source": [
    "5. Write a Python program to find second largest number in a list?"
   ]
  },
  {
   "cell_type": "code",
   "execution_count": 23,
   "id": "6e5a2da6",
   "metadata": {},
   "outputs": [
    {
     "name": "stdout",
     "output_type": "stream",
     "text": [
      "[-1, 1, 2, 7]\n",
      "second largest element of list:  2\n"
     ]
    }
   ],
   "source": [
    "def second_largest(list):\n",
    "    list.sort()\n",
    "    return list[-2]\n",
    "#initialise list\n",
    "list = [-1,1,2,7]\n",
    "print(list)\n",
    "print(\"second largest element of list: \",second_largest(list))"
   ]
  },
  {
   "cell_type": "markdown",
   "id": "78b8a74c",
   "metadata": {},
   "source": [
    "6. Write a Python program to find N largest elements from a list?"
   ]
  },
  {
   "cell_type": "code",
   "execution_count": 24,
   "id": "c11ceb15",
   "metadata": {},
   "outputs": [
    {
     "name": "stdout",
     "output_type": "stream",
     "text": [
      "[85, 41]\n"
     ]
    }
   ],
   "source": [
    "def Nmaxelements(list1, N):\n",
    "    final_list = []\n",
    " \n",
    "    for i in range(0, N):\n",
    "        max1 = 0\n",
    "         \n",
    "        for j in range(len(list1)):    \n",
    "            if list1[j] > max1:\n",
    "                max1 = list1[j];\n",
    "                 \n",
    "        list1.remove(max1);\n",
    "        final_list.append(max1)\n",
    "         \n",
    "    print(final_list)\n",
    "list1=[2, 6, 41, 85, 0, 3, 7, 6, 10]\n",
    "N = 2\n",
    " \n",
    "Nmaxelements(list1, N)"
   ]
  },
  {
   "cell_type": "markdown",
   "id": "bcea4bd6",
   "metadata": {},
   "source": [
    "7. Write a Python program to print even numbers in a list?"
   ]
  },
  {
   "cell_type": "code",
   "execution_count": null,
   "id": "076b6f2b",
   "metadata": {},
   "outputs": [],
   "source": [
    "def even(list):\n",
    "    new_list=[]\n",
    "    for i in list:\n",
    "        if i%2==0:               \n",
    "            new_list.append(i)\n",
    "    return new_list\n",
    "\n",
    "#input\n",
    "li=[1,5,8,10,13]\n",
    "print(\"Even numbers in list \",li,\"are\" )\n",
    "print(even(li))"
   ]
  },
  {
   "cell_type": "markdown",
   "id": "b8641f58",
   "metadata": {},
   "source": [
    "8. Write a Python program to print odd numbers in a List?"
   ]
  },
  {
   "cell_type": "code",
   "execution_count": 30,
   "id": "38e0c8d2",
   "metadata": {},
   "outputs": [
    {
     "name": "stdout",
     "output_type": "stream",
     "text": [
      "Odd numbers in list  [1, 5, 8, 10, 13] are\n",
      "[1, 5, 13]\n"
     ]
    }
   ],
   "source": [
    "def odd(list):\n",
    "    new_list=[]\n",
    "    for i in list:\n",
    "        if i%2!=0:               \n",
    "            new_list.append(i)\n",
    "    return new_list\n",
    "\n",
    "#input\n",
    "li=[1,5,8,10,13]\n",
    "print(\"Odd numbers in list \",li, \"are\" )\n",
    "print(odd(li))"
   ]
  },
  {
   "cell_type": "markdown",
   "id": "f161e87f",
   "metadata": {},
   "source": [
    "9. Write a Python program to Remove empty List from List?"
   ]
  },
  {
   "cell_type": "code",
   "execution_count": 34,
   "id": "2bed246e",
   "metadata": {},
   "outputs": [
    {
     "name": "stdout",
     "output_type": "stream",
     "text": [
      "[['ineuron', '1', '2'], ['3', '4', '5', '6']]\n"
     ]
    }
   ],
   "source": [
    "def remove_empty_list(li):\n",
    "    li=[ num for num in li if num]\n",
    "    return li\n",
    "li=[ [], ['ineuron', '1', '2'], [], ['3', '4', '5', '6'] ]\n",
    "print(remove_empty_list(li))"
   ]
  },
  {
   "cell_type": "markdown",
   "id": "c8541224",
   "metadata": {},
   "source": [
    "10. Write a Python program to Cloning or Copying a list?"
   ]
  },
  {
   "cell_type": "code",
   "execution_count": 36,
   "id": "fe4f438f",
   "metadata": {},
   "outputs": [
    {
     "name": "stdout",
     "output_type": "stream",
     "text": [
      "Enter size of list 2\n",
      "Enter element of list 1\n",
      "Enter element of list 2\n",
      "Original list:  [1, 2]\n",
      "After Copying of New list:  [1, 2]\n"
     ]
    }
   ],
   "source": [
    "li=[]\n",
    "n=int(input(\"Enter size of list \"))\n",
    "for i in range(0,n):\n",
    "    element=int(input(\"Enter element of list \"))\n",
    "    li.append(element)\n",
    "print(\"Original list: \",li)\n",
    "\n",
    "#copy or clone\n",
    "list_copy = li[:]\n",
    "print(\"After Copying of New list: \",list_copy)"
   ]
  },
  {
   "cell_type": "markdown",
   "id": "c7e2bd5d",
   "metadata": {},
   "source": [
    "11. Write a Python program to Count occurrences of an element in a list?"
   ]
  },
  {
   "cell_type": "code",
   "execution_count": 44,
   "id": "14ceca4d",
   "metadata": {},
   "outputs": [
    {
     "name": "stdout",
     "output_type": "stream",
     "text": [
      "Enter element to be checked list: 5\n",
      "5  has occurred  2 times\n"
     ]
    }
   ],
   "source": [
    "def count_occurrence(list, n):\n",
    "    \n",
    "#counter variable\n",
    "    count=0\n",
    "    for i in list:\n",
    "        if(i==n):\n",
    "          #update counter variable\n",
    "            count=count+1\n",
    "    return count\n",
    "list = [2,2,5,3, 5, 4, 6, 8]\n",
    "x=int(input(\"Enter element to be checked list: \"))\n",
    "print(x,\" has occurred \",count_occurrence(list, x),\"times\")"
   ]
  }
 ],
 "metadata": {
  "kernelspec": {
   "display_name": "Python 3 (ipykernel)",
   "language": "python",
   "name": "python3"
  },
  "language_info": {
   "codemirror_mode": {
    "name": "ipython",
    "version": 3
   },
   "file_extension": ".py",
   "mimetype": "text/x-python",
   "name": "python",
   "nbconvert_exporter": "python",
   "pygments_lexer": "ipython3",
   "version": "3.10.0"
  }
 },
 "nbformat": 4,
 "nbformat_minor": 5
}
