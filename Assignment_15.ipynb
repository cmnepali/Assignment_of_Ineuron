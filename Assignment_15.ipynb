{
 "cells": [
  {
   "cell_type": "markdown",
   "id": "4bf1ad9e",
   "metadata": {},
   "source": [
    "1. What are the new features added in Python 3.8 version?"
   ]
  },
  {
   "cell_type": "markdown",
   "id": "eb890833",
   "metadata": {},
   "source": [
    "Ans:\n",
    "* The walrus operator\n",
    "* Positional-only arguments\n",
    "* f-strings now support \"=\" \n",
    "* reversed() now works with dict \n",
    "* Simplified iterable unpacking for return and yield\n",
    "* New syntax warnings "
   ]
  },
  {
   "cell_type": "markdown",
   "id": "7e3fcf4b",
   "metadata": {},
   "source": [
    "2. What is monkey patching in Python?"
   ]
  },
  {
   "cell_type": "markdown",
   "id": "c293be18",
   "metadata": {},
   "source": [
    "Ans:\n",
    "    Monkey patching is a dynamic technique in Python by which you can modify the behavior of an existing class or module."
   ]
  },
  {
   "cell_type": "markdown",
   "id": "62efe80f",
   "metadata": {},
   "source": [
    "3. What is the difference between a shallow copy and deep copy?"
   ]
  },
  {
   "cell_type": "markdown",
   "id": "62a26e53",
   "metadata": {},
   "source": [
    "Ans:\n",
    "* Shallow copy creates new object which is copy of original object along with reference from original object. Means even if we make change in copied object original will also be affected.\n",
    "\n",
    "* Deep copy created new object has no reference from original object and changes made in copied one will not affect original."
   ]
  },
  {
   "cell_type": "markdown",
   "id": "4134c8b7",
   "metadata": {},
   "source": [
    "4. What is the maximum possible length of an identifier?"
   ]
  },
  {
   "cell_type": "markdown",
   "id": "a94a0859",
   "metadata": {},
   "source": [
    "Ans:\n",
    "     In Python, the highest possible length of an identifier is 79 characters."
   ]
  },
  {
   "cell_type": "markdown",
   "id": "824519c1",
   "metadata": {},
   "source": [
    "5. What is generator comprehension?"
   ]
  },
  {
   "cell_type": "markdown",
   "id": "cacc0480",
   "metadata": {},
   "source": [
    "Ans:\n",
    "    A generator comprehension is a single-line specification for defining a generator in Python. just like List Comprehension"
   ]
  }
 ],
 "metadata": {
  "kernelspec": {
   "display_name": "Python 3 (ipykernel)",
   "language": "python",
   "name": "python3"
  },
  "language_info": {
   "codemirror_mode": {
    "name": "ipython",
    "version": 3
   },
   "file_extension": ".py",
   "mimetype": "text/x-python",
   "name": "python",
   "nbconvert_exporter": "python",
   "pygments_lexer": "ipython3",
   "version": "3.10.0"
  }
 },
 "nbformat": 4,
 "nbformat_minor": 5
}
