{
 "cells": [
  {
   "cell_type": "markdown",
   "id": "c09436d5",
   "metadata": {},
   "source": [
    "Q1. Is an assignment operator like += only for show? Is it possible that it would lead to faster results\n",
    "at the runtime?"
   ]
  },
  {
   "cell_type": "markdown",
   "id": "5ae2a769",
   "metadata": {},
   "source": [
    "Ans:\n",
    "    Assignment operator += is not for show and using it increase run time and memory space . += does purpose. For ex - x = x+y instead we can use x += y\n"
   ]
  },
  {
   "cell_type": "markdown",
   "id": "32270b46",
   "metadata": {},
   "source": [
    "Q2. What is the smallest number of statements you&#39;d have to write in most programming languages to\n",
    "replace the Python expression a, b = a + b, a?"
   ]
  },
  {
   "cell_type": "code",
   "execution_count": null,
   "id": "5271c8dc",
   "metadata": {},
   "outputs": [],
   "source": [
    "temp = a + b\n",
    "a = b\n",
    "b= temp- b"
   ]
  },
  {
   "cell_type": "markdown",
   "id": "f0880994",
   "metadata": {},
   "source": [
    "Q3. In Python, what is the most effective way to set a list of 100 integers to 0?"
   ]
  },
  {
   "cell_type": "markdown",
   "id": "0a18fd7e",
   "metadata": {},
   "source": [
    "my_list = [0] * 100  \n",
    "my_list"
   ]
  },
  {
   "cell_type": "markdown",
   "id": "4838f96e",
   "metadata": {},
   "source": [
    "Q4. What is the most effective way to initialise a list of 99 integers that repeats the sequence 1, 2, 3?\n",
    "S If necessary, show step-by-step instructions on how to accomplish this."
   ]
  },
  {
   "cell_type": "code",
   "execution_count": 4,
   "id": "88b3a85d",
   "metadata": {},
   "outputs": [
    {
     "name": "stdout",
     "output_type": "stream",
     "text": [
      "[1, 2, 3, 1, 2, 3, 1, 2, 3, 1, 2, 3, 1, 2, 3, 1, 2, 3, 1, 2, 3, 1, 2, 3, 1, 2, 3, 1, 2, 3, 1, 2, 3, 1, 2, 3, 1, 2, 3, 1, 2, 3, 1, 2, 3, 1, 2, 3, 1, 2, 3, 1, 2, 3, 1, 2, 3, 1, 2, 3, 1, 2, 3, 1, 2, 3, 1, 2, 3, 1, 2, 3, 1, 2, 3, 1, 2, 3, 1, 2, 3, 1, 2, 3, 1, 2, 3, 1, 2, 3, 1, 2, 3, 1, 2, 3, 1, 2, 3]\n"
     ]
    }
   ],
   "source": [
    "l1 = [i for i in range(1,4)]\n",
    "l2 = 33 * l1\n",
    "print(l2[:99])"
   ]
  },
  {
   "cell_type": "markdown",
   "id": "feab9653",
   "metadata": {},
   "source": [
    "Q5. If you&#39;re using IDLE to run a Python application, explain how to print a multidimensional list as\n",
    "efficiently?"
   ]
  },
  {
   "cell_type": "code",
   "execution_count": 6,
   "id": "e4497398",
   "metadata": {},
   "outputs": [
    {
     "name": "stdout",
     "output_type": "stream",
     "text": [
      "1 2 3 \n",
      "4 5 6 \n",
      "7 8 9 \n"
     ]
    }
   ],
   "source": [
    "l =[[1,2,3],[4,5,6],[7,8,9]]\n",
    "for i in l:\n",
    "    for j in i:\n",
    "        print(j , end=' ')\n",
    "    print()"
   ]
  },
  {
   "cell_type": "markdown",
   "id": "37cd8472",
   "metadata": {},
   "source": [
    "Q6. Is it possible to use list comprehension with a string? If so, how can you go about doing it?"
   ]
  },
  {
   "cell_type": "code",
   "execution_count": 7,
   "id": "0cbb1d4f",
   "metadata": {},
   "outputs": [
    {
     "name": "stdout",
     "output_type": "stream",
     "text": [
      "['i', 'n', 'e', 'u', 'r', 'o', 'n']\n"
     ]
    }
   ],
   "source": [
    "# Yes it is possible as example:\n",
    "l1=[i for i in 'ineuron']\n",
    "print(l1)"
   ]
  },
  {
   "cell_type": "markdown",
   "id": "f6b4c415",
   "metadata": {},
   "source": [
    "Q7. From the command line, how do you get support with a user-written Python programme? Is this\n",
    "possible from inside IDLE?"
   ]
  },
  {
   "cell_type": "markdown",
   "id": "e32595ee",
   "metadata": {},
   "source": [
    "Ans:\n",
    "     From command lie itself we can have support by using -h or --help while running the code. "
   ]
  },
  {
   "cell_type": "markdown",
   "id": "2ad5f7c2",
   "metadata": {},
   "source": [
    "Q8. Functions are said to be “first-class objects” in Python but not in most other languages, such as\n",
    "C++ or Java. What can you do in Python with a function (callable object) that you can&#39;t do in C or\n",
    "C++?"
   ]
  },
  {
   "cell_type": "markdown",
   "id": "3cae3b63",
   "metadata": {},
   "source": [
    "Ans:\n",
    "* In case of python when we define function we need simply to call them and pass the arguments like any object but in case of C++ we need to define function pointer to achieve similar thing.\n",
    "\n",
    "* In python we can pass one function arguments to other function but in case of C++ we can pass function pointer as argument."
   ]
  },
  {
   "cell_type": "markdown",
   "id": "4a8a9cf4",
   "metadata": {},
   "source": [
    "Q9. How do you distinguish between a wrapper, a wrapped feature, and a decorator?"
   ]
  },
  {
   "cell_type": "markdown",
   "id": "f7e8ae87",
   "metadata": {},
   "source": [
    "Ans:\n",
    "* Wrappers: It also refers to decorators. It allows programmers to modify the behavior of function or class.\n",
    "\n",
    "* Wrapper Function: Wrapper functions can be used as an interface to adapt to the existing codes, so as to save from modifying the codes back and forth. It helps in allowing some codes to run repeadtedly.\n",
    "\n",
    "* Decorators: It allows to wrap another function in order to extend the behavior of the wrapped function, without permanently modifying it."
   ]
  },
  {
   "cell_type": "markdown",
   "id": "5c56f8c6",
   "metadata": {},
   "source": [
    "Q10. If a function is a generator function, what does it return?"
   ]
  },
  {
   "cell_type": "markdown",
   "id": "e79a7448",
   "metadata": {},
   "source": [
    "Ans:\n",
    "    It does'nt return value as print does rather that it return generator object through which we can itterate to have the output"
   ]
  },
  {
   "cell_type": "markdown",
   "id": "8cb6b334",
   "metadata": {},
   "source": [
    "Q11. What is the one improvement that must be made to a function in order for it to become a\n",
    "generator function in the Python language?"
   ]
  },
  {
   "cell_type": "markdown",
   "id": "0295159d",
   "metadata": {},
   "source": [
    "Ans:\n",
    "    using yield statement instead of print.\n",
    "\n",
    "def output(n):\n",
    "    print(n) # Normally print statement\n",
    "    \n",
    "def output(n):\n",
    "    yield (n) # Yield in place of print act as Generator"
   ]
  },
  {
   "cell_type": "markdown",
   "id": "63add764",
   "metadata": {},
   "source": [
    "Q12. Identify at least one benefit of generators."
   ]
  },
  {
   "cell_type": "markdown",
   "id": "ed5eb602",
   "metadata": {},
   "source": [
    "Ans:\n",
    "    By using generators it can be memory efficient that it does not create any value at the time of the execution instead of doing that it yield value and we can get those value as we get value from any iterable object."
   ]
  }
 ],
 "metadata": {
  "kernelspec": {
   "display_name": "Python 3 (ipykernel)",
   "language": "python",
   "name": "python3"
  },
  "language_info": {
   "codemirror_mode": {
    "name": "ipython",
    "version": 3
   },
   "file_extension": ".py",
   "mimetype": "text/x-python",
   "name": "python",
   "nbconvert_exporter": "python",
   "pygments_lexer": "ipython3",
   "version": "3.10.0"
  }
 },
 "nbformat": 4,
 "nbformat_minor": 5
}
