{
 "cells": [
  {
   "cell_type": "markdown",
   "id": "78ab669f",
   "metadata": {},
   "source": [
    "Q1. What is the benefit of regular expressions?"
   ]
  },
  {
   "cell_type": "markdown",
   "id": "1708c419",
   "metadata": {},
   "source": [
    "Ans:\n",
    "    A Regular Expression is used for identifying a search pattern in a text string. It also helps in finding out the correctness of the data and even operations such as finding, replacing and formatting the data is possible using Regular Expressions"
   ]
  },
  {
   "cell_type": "markdown",
   "id": "0af311f9",
   "metadata": {},
   "source": [
    "Q2. Describe the difference between the effects of &quot;(ab)c+&quot; and &quot;a(bc)+.&quot; Which of these, if any, is the\n",
    "unqualified pattern &quot;abc+&quot;?"
   ]
  },
  {
   "cell_type": "markdown",
   "id": "7413a6cb",
   "metadata": {},
   "source": [
    "Ans:\n",
    "    Both \"(ab)c+\" and \"a(bc)+\" are regular expressions that match strings containing one or more occurrences of the pattern \"(ab)\" or \"(bc)\", respectively. Howeverway they match is difference. (ab)c+ match string that start with ab and followed by occurances of 'c' vs a(bc) start with a followed by 'bc'."
   ]
  },
  {
   "cell_type": "markdown",
   "id": "3941dfca",
   "metadata": {},
   "source": [
    "Q3. How much do you need to use the following sentence while using regular expressions?\n",
    "\n",
    "import re"
   ]
  },
  {
   "cell_type": "markdown",
   "id": "85704092",
   "metadata": {},
   "source": [
    "Ans:\n",
    "    we need to use sentence 'import re ' each time when ever we use regular expressions.Line of code imports the 're' module, which provides support for regular expressions in Python."
   ]
  },
  {
   "cell_type": "markdown",
   "id": "ad43069c",
   "metadata": {},
   "source": [
    "Q4. Which characters have special significance in square brackets when expressing a range, and\n",
    "under what circumstances?"
   ]
  },
  {
   "cell_type": "markdown",
   "id": "d11d2d30",
   "metadata": {},
   "source": [
    "Ans:\n",
    "     The hyphen - is the character whis help use to define range inside of square brackets.\n",
    "\n",
    "This can works with number or digits like [0-9] this will search for any number between 0 to 9 and this also the same with alphabet like [a-z] this will search any letter character."
   ]
  },
  {
   "cell_type": "markdown",
   "id": "6963c8b4",
   "metadata": {},
   "source": [
    "Q5. How does compiling a regular-expression object benefit you?"
   ]
  },
  {
   "cell_type": "markdown",
   "id": "953d938d",
   "metadata": {},
   "source": [
    "Ans:\n",
    "     Before starting the search process it is worth to compile the regular expression. although python can perform search with out compiling, but it is best practice to compile the regular expression.\n",
    "\n",
    "Q6. What are some examples of how to use the match object returned by re.match and re.search?\n",
    "\n",
    "Ans:\n",
    "* The re.match method searches only from the beginning of the string and return match object if found. But if a match of substring is found somewhere in the middle of the string, it returns None.\n",
    "\n",
    "* In case of re.search searches for the whole string even if the string contains multi-lines and tries to find a match of the substring in all the lines of string."
   ]
  },
  {
   "cell_type": "markdown",
   "id": "c62b08e1",
   "metadata": {},
   "source": [
    "Q7. What is the difference between using a vertical bar (|) as an alteration and using square brackets\n",
    "as a character set?"
   ]
  },
  {
   "cell_type": "markdown",
   "id": "fe5aa67f",
   "metadata": {},
   "source": [
    "Ans:\n",
    "    (|) vertical bar is used to create alteration or lternatives vs [] sq bracket is used to create character class. using vertical class we can use sequences of alternatives which is not in case of sq bracket. Ex - vertical bar : tree|plant|herbs sq bracket : [Tree]"
   ]
  },
  {
   "cell_type": "markdown",
   "id": "52d18742",
   "metadata": {},
   "source": [
    "Q8. In regular-expression search patterns, why is it necessary to use the raw-string indicator (r)? In  \n",
    "replacement strings?"
   ]
  },
  {
   "cell_type": "markdown",
   "id": "37586615",
   "metadata": {},
   "source": [
    "Ans:\n",
    "    Raw-string indicator (r) is often used to indicate a raw string literal. It's important because regular expressions often contain backslashes () and other special characters that may interprete as escape sequences or other special characters by Python"
   ]
  }
 ],
 "metadata": {
  "kernelspec": {
   "display_name": "Python 3 (ipykernel)",
   "language": "python",
   "name": "python3"
  },
  "language_info": {
   "codemirror_mode": {
    "name": "ipython",
    "version": 3
   },
   "file_extension": ".py",
   "mimetype": "text/x-python",
   "name": "python",
   "nbconvert_exporter": "python",
   "pygments_lexer": "ipython3",
   "version": "3.10.0"
  }
 },
 "nbformat": 4,
 "nbformat_minor": 5
}
