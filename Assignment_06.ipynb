{
 "cells": [
  {
   "cell_type": "markdown",
   "id": "d51ed39d",
   "metadata": {},
   "source": [
    "Q1. Describe three applications for exception processing."
   ]
  },
  {
   "cell_type": "markdown",
   "id": "e290eca1",
   "metadata": {},
   "source": [
    "Ans: Exception Processing is important to find exceptions that causes the runtime error. As runtime errors Halt the program execution when exception occurs.\n",
    "\n",
    "Exception Processing is used in Various Applications of which few examples are:\n",
    "* It avoid programme or system crashing\n",
    "* Seperate Error handling code from normal code.\n",
    "* Let's know of type and line of error in programme."
   ]
  },
  {
   "cell_type": "markdown",
   "id": "b6220585",
   "metadata": {},
   "source": [
    "Q2. What happens if you don&#39;t do something extra to treat an exception?"
   ]
  },
  {
   "cell_type": "markdown",
   "id": "8c58cc82",
   "metadata": {},
   "source": [
    "Ans:\n",
    "    If we do nothing to treat an exceptition , it will encounter the error then after it may crash."
   ]
  },
  {
   "cell_type": "markdown",
   "id": "801463c3",
   "metadata": {},
   "source": [
    "Q3. What are your options for recovering from an exception in your script?"
   ]
  },
  {
   "cell_type": "markdown",
   "id": "cf96e74f",
   "metadata": {},
   "source": [
    "Ans:\n",
    "    Our option to recover from an exceptition is to put down the codes which might cause run time error under exceptition handling techniques by using:\n",
    "\n",
    "* Try\n",
    "* Except\n",
    "* Raise\n",
    "* Finally"
   ]
  },
  {
   "cell_type": "markdown",
   "id": "c7992ba5",
   "metadata": {},
   "source": [
    "Q4. Describe two methods for triggering exceptions in your script."
   ]
  },
  {
   "cell_type": "markdown",
   "id": "3b2dc739",
   "metadata": {},
   "source": [
    "Ans:\n",
    "* raise method triggers an exception if condition provided to it turns out to be True.\n",
    "* assert will let the program to continue execution if condition provided to it turns out to be True else exception will be raised"
   ]
  },
  {
   "cell_type": "markdown",
   "id": "61f1c902",
   "metadata": {},
   "source": [
    "Q5. Identify two methods for specifying actions to be executed at termination time, regardless of\n",
    "whether or not an exception exists."
   ]
  },
  {
   "cell_type": "markdown",
   "id": "996d799d",
   "metadata": {},
   "source": [
    "Ans:\n",
    "    Python Provides else and finally blocks for specifying actions to be executed at termination time, regardless of whether an exceptions exists or not."
   ]
  }
 ],
 "metadata": {
  "kernelspec": {
   "display_name": "Python 3 (ipykernel)",
   "language": "python",
   "name": "python3"
  },
  "language_info": {
   "codemirror_mode": {
    "name": "ipython",
    "version": 3
   },
   "file_extension": ".py",
   "mimetype": "text/x-python",
   "name": "python",
   "nbconvert_exporter": "python",
   "pygments_lexer": "ipython3",
   "version": "3.10.0"
  }
 },
 "nbformat": 4,
 "nbformat_minor": 5
}
